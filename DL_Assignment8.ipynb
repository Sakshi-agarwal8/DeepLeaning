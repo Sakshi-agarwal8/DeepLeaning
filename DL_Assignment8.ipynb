{
  "nbformat": 4,
  "nbformat_minor": 0,
  "metadata": {
    "colab": {
      "name": "DL_Assignment8.ipynb",
      "provenance": [],
      "collapsed_sections": [],
      "toc_visible": true,
      "machine_shape": "hm"
    },
    "kernelspec": {
      "name": "python3",
      "display_name": "Python 3"
    },
    "accelerator": "GPU"
  },
  "cells": [
    {
      "cell_type": "markdown",
      "metadata": {
        "id": "Gou-Os94GHNE"
      },
      "source": [
        "## Download dataset of indian elephant, african elephant and tusker. Find which pretrained model get highest accuracy"
      ]
    },
    {
      "cell_type": "code",
      "metadata": {
        "id": "Fm2HdBQgjkY7"
      },
      "source": [
        "from bs4 import BeautifulSoup\n",
        "import numpy as np\n",
        "import requests\n",
        "import cv2\n",
        "import PIL.Image\n",
        "import urllib\n",
        "\n",
        "indian = requests.get(\"http://www.image-net.org/api/text/imagenet.synset.geturls?wnid=n04037443\")#indian\n",
        "print(indian.content)\n",
        "indian_soup = BeautifulSoup(indian.content, 'html.parser')\n",
        "african = requests.get(\"http://www.image-net.org/api/text/imagenet.synset.geturls?wnid=n02504458\")#african\n",
        "print(african.content)\n",
        "african_soup = BeautifulSoup(african.content, 'html.parser')\n",
        "\n",
        "tusker = requests.get(\"http://www.image-net.org/api/text/imagenet.synset.geturls?wnid=n01871265\")#tusker\n",
        "print(tusker.content)\n",
        "tusker_soup = BeautifulSoup(tusker.content, 'html.parser')\n"
      ],
      "execution_count": null,
      "outputs": []
    },
    {
      "cell_type": "code",
      "metadata": {
        "id": "PHp1CR0_cQbB",
        "outputId": "c08b9f97-6ce3-4c66-b27a-999763ba6560",
        "colab": {
          "base_uri": "https://localhost:8080/"
        }
      },
      "source": [
        "\n",
        "indian_str_soup=str(indian_soup)\n",
        "type(indian_str_soup)\n",
        "indian_split_urls=indian_str_soup.split('\\r\\n')\n",
        "print(len(indian_split_urls))\n",
        "\n",
        "african_str_soup=str(african_soup)\n",
        "type(african_str_soup)\n",
        "african_split_urls=african_str_soup.split('\\r\\n')\n",
        "print(len(african_split_urls))\n",
        "\n",
        "tusker_str_soup=str(tusker_soup)\n",
        "type(tusker_str_soup)\n",
        "tusker_split_urls=tusker_str_soup.split('\\r\\n')\n",
        "print(len(tusker_split_urls))"
      ],
      "execution_count": 40,
      "outputs": [
        {
          "output_type": "stream",
          "text": [
            "1552\n",
            "2278\n",
            "1065\n"
          ],
          "name": "stdout"
        }
      ]
    },
    {
      "cell_type": "code",
      "metadata": {
        "id": "OwLeYlEGWQ0f",
        "outputId": "4d096c9f-f67d-4a0e-b7aa-b8009c6d1d52",
        "colab": {
          "base_uri": "https://localhost:8080/"
        }
      },
      "source": [
        "!mkdir /content/train \n",
        "!mkdir /content/train/indian\n",
        "!mkdir /content/train/african \n",
        "!mkdir /content/train/tusker \n",
        "\n",
        "!mkdir /content/validation\n",
        "!mkdir /content/validation/indian\n",
        "!mkdir /content/validation/african\n",
        "!mkdir /content/validation/tusker"
      ],
      "execution_count": 2,
      "outputs": [
        {
          "output_type": "stream",
          "text": [
            "mkdir: cannot create directory ‘/content/train’: File exists\n",
            "mkdir: cannot create directory ‘/content/train/indian’: File exists\n",
            "mkdir: cannot create directory ‘/content/train/african’: File exists\n",
            "mkdir: cannot create directory ‘/content/train/tusker’: File exists\n",
            "mkdir: cannot create directory ‘/content/validation’: File exists\n",
            "mkdir: cannot create directory ‘/content/validation/indian’: File exists\n",
            "mkdir: cannot create directory ‘/content/validation/african’: File exists\n",
            "mkdir: cannot create directory ‘/content/validation/tusker’: File exists\n"
          ],
          "name": "stdout"
        }
      ]
    },
    {
      "cell_type": "code",
      "metadata": {
        "id": "SnhMWb2dWRWh",
        "outputId": "3c78d230-9ce0-42b4-bf29-de6ec8a9c22a",
        "colab": {
          "base_uri": "https://localhost:8080/"
        }
      },
      "source": [
        "img_rows, img_cols = 32, 32 \n",
        "input_shape = (img_rows, img_cols, 3)\n",
        "def url_to_image(url):\n",
        "\tresp = urllib.request.urlopen(url)\n",
        "\timage = np.asarray(bytearray(resp.read()), dtype=\"uint8\")\n",
        "\timage = cv2.imdecode(image, cv2.IMREAD_COLOR)\n",
        " \n",
        "\treturn image\n",
        "\n",
        "n_of_training_images=150\n",
        "for progress in range(n_of_training_images):\n",
        "    if(progress%20==0):\n",
        "        print(progress)\n",
        "    if not indian_split_urls[progress] == None:\n",
        "      try:\n",
        "        I = url_to_image(indian_split_urls[progress])\n",
        "        if (len(I.shape))==3: \n",
        "          save_path = '/content/train/indian/img'+str(progress)+'.jpg'\n",
        "          cv2.imwrite(save_path,I)\n",
        "\n",
        "      except:\n",
        "        None\n",
        "\n",
        "for progress in range(n_of_training_images):\n",
        "    if(progress%20==0):\n",
        "        print(progress)\n",
        "    if not african_split_urls[progress] == None:\n",
        "      try:\n",
        "        I = url_to_image(african_split_urls[progress])\n",
        "        if (len(I.shape))==3: \n",
        "          save_path = '/content/train/african/img'+str(progress)+'.jpg'\n",
        "          cv2.imwrite(save_path,I)\n",
        "\n",
        "      except:\n",
        "        None\n",
        "\n",
        "for progress in range(n_of_training_images):\n",
        "    if(progress%20==0):\n",
        "        print(progress)\n",
        "    if not tusker_split_urls[progress] == None:\n",
        "      try:\n",
        "        I = url_to_image(tusker_split_urls[progress])\n",
        "        if (len(I.shape))==3: \n",
        "          save_path = '/content/train/tusker/img'+str(progress)+'.jpg'\n",
        "          cv2.imwrite(save_path,I)\n",
        "\n",
        "      except:\n",
        "        None\n",
        "\n",
        "\n",
        "for progress in range(50):\n",
        "    if(progress%20==0):\n",
        "        print(progress)\n",
        "    if not indian_split_urls[progress] == None:\n",
        "      try:\n",
        "        I = url_to_image(indian_split_urls[n_of_training_images+progress])\n",
        "        if (len(I.shape))==3: \n",
        "          save_path = '/content/validation/indian/img'+str(progress)+'.jpg'\n",
        "          cv2.imwrite(save_path,I)\n",
        "\n",
        "      except:\n",
        "        None\n",
        "\n",
        "for progress in range(50):\n",
        "    if(progress%20==0):\n",
        "        print(progress)\n",
        "    if not african_split_urls[progress] == None:\n",
        "      try:\n",
        "        I = url_to_image(african_split_urls[n_of_training_images+progress])\n",
        "        if (len(I.shape))==3: \n",
        "          save_path = '/content/validation/african/img'+str(progress)+'.jpg'\n",
        "          cv2.imwrite(save_path,I)\n",
        "\n",
        "      except:\n",
        "        None\n",
        "\n",
        "for progress in range(50):\n",
        "    if(progress%20==0):\n",
        "        print(progress)\n",
        "    if not tusker_split_urls[progress] == None:\n",
        "      try:\n",
        "        I = url_to_image(tusker_split_urls[n_of_training_images+progress])\n",
        "        if (len(I.shape))==3: \n",
        "          save_path = '/content/validation/tusker/img'+str(progress)+'.jpg'\n",
        "          cv2.imwrite(save_path,I)\n",
        "\n",
        "      except:\n",
        "        None\n",
        "\n",
        "\n",
        "print(\"\\nTRAIN:\\n\")          \n",
        "print(\"\\nlist the files inside indian directory:\\n\")        \n",
        "!ls /content/train/indian \n",
        "print(\"\\nlist the files inside african directory:\\n\")\n",
        "!ls /content/train/african \n",
        "print(\"\\nlist the files inside tusker directory:\\n\")\n",
        "!ls /content/train/tusker \n",
        "\n",
        "print(\"\\nVALIDATION:\\n\")\n",
        "print(\"\\nlist the files inside indian directory:\\n\")        \n",
        "!ls /content/validation/indian \n",
        "print(\"\\nlist the files inside african directory:\\n\")\n",
        "!ls /content/validation/african \n",
        "print(\"\\nlist the files inside tusker directory:\\n\")\n",
        "!ls /content/validation/tusker"
      ],
      "execution_count": 3,
      "outputs": [
        {
          "output_type": "stream",
          "text": [
            "0\n",
            "20\n",
            "40\n",
            "60\n",
            "80\n",
            "100\n",
            "120\n",
            "140\n",
            "0\n",
            "20\n",
            "40\n",
            "60\n",
            "80\n",
            "100\n",
            "120\n",
            "140\n",
            "0\n",
            "20\n",
            "40\n",
            "60\n",
            "80\n",
            "100\n",
            "120\n",
            "140\n",
            "0\n",
            "20\n",
            "40\n",
            "0\n",
            "20\n",
            "40\n",
            "0\n",
            "20\n",
            "40\n",
            "\n",
            "TRAIN:\n",
            "\n",
            "\n",
            "list the files inside indian directory:\n",
            "\n",
            "img0.jpg    img117.jpg\timg141.jpg  img2.jpg   img50.jpg  img67.jpg  img86.jpg\n",
            "img100.jpg  img119.jpg\timg142.jpg  img30.jpg  img51.jpg  img68.jpg  img87.jpg\n",
            "img102.jpg  img11.jpg\timg143.jpg  img31.jpg  img52.jpg  img69.jpg  img88.jpg\n",
            "img103.jpg  img121.jpg\timg145.jpg  img33.jpg  img53.jpg  img6.jpg   img89.jpg\n",
            "img104.jpg  img122.jpg\timg147.jpg  img34.jpg  img54.jpg  img70.jpg  img8.jpg\n",
            "img105.jpg  img123.jpg\timg148.jpg  img35.jpg  img55.jpg  img71.jpg  img90.jpg\n",
            "img106.jpg  img125.jpg\timg149.jpg  img36.jpg  img56.jpg  img74.jpg  img91.jpg\n",
            "img107.jpg  img127.jpg\timg15.jpg   img37.jpg  img57.jpg  img75.jpg  img92.jpg\n",
            "img108.jpg  img128.jpg\timg17.jpg   img39.jpg  img58.jpg  img76.jpg  img93.jpg\n",
            "img109.jpg  img129.jpg\timg18.jpg   img3.jpg   img59.jpg  img77.jpg  img94.jpg\n",
            "img10.jpg   img12.jpg\timg1.jpg    img40.jpg  img5.jpg   img78.jpg  img95.jpg\n",
            "img110.jpg  img130.jpg\timg20.jpg   img41.jpg  img60.jpg  img79.jpg  img96.jpg\n",
            "img111.jpg  img131.jpg\timg21.jpg   img43.jpg  img61.jpg  img7.jpg   img97.jpg\n",
            "img112.jpg  img133.jpg\timg22.jpg   img44.jpg  img62.jpg  img80.jpg  img98.jpg\n",
            "img113.jpg  img135.jpg\timg25.jpg   img45.jpg  img63.jpg  img82.jpg  img9.jpg\n",
            "img114.jpg  img136.jpg\timg26.jpg   img46.jpg  img64.jpg  img83.jpg\n",
            "img115.jpg  img138.jpg\timg27.jpg   img47.jpg  img65.jpg  img84.jpg\n",
            "img116.jpg  img139.jpg\timg28.jpg   img48.jpg  img66.jpg  img85.jpg\n",
            "\n",
            "list the files inside african directory:\n",
            "\n",
            "img0.jpg    img125.jpg\timg144.jpg  img27.jpg  img46.jpg  img67.jpg  img82.jpg\n",
            "img101.jpg  img126.jpg\timg145.jpg  img28.jpg  img47.jpg  img68.jpg  img85.jpg\n",
            "img105.jpg  img127.jpg\timg146.jpg  img2.jpg   img49.jpg  img69.jpg  img86.jpg\n",
            "img106.jpg  img129.jpg\timg147.jpg  img30.jpg  img4.jpg   img6.jpg   img87.jpg\n",
            "img107.jpg  img12.jpg\timg149.jpg  img31.jpg  img50.jpg  img70.jpg  img8.jpg\n",
            "img108.jpg  img130.jpg\timg14.jpg   img32.jpg  img52.jpg  img71.jpg  img90.jpg\n",
            "img109.jpg  img131.jpg\timg17.jpg   img34.jpg  img54.jpg  img72.jpg  img92.jpg\n",
            "img112.jpg  img132.jpg\timg19.jpg   img35.jpg  img55.jpg  img73.jpg  img93.jpg\n",
            "img113.jpg  img134.jpg\timg1.jpg    img36.jpg  img58.jpg  img75.jpg  img95.jpg\n",
            "img115.jpg  img135.jpg\timg20.jpg   img37.jpg  img59.jpg  img76.jpg  img96.jpg\n",
            "img116.jpg  img137.jpg\timg21.jpg   img39.jpg  img5.jpg   img77.jpg  img97.jpg\n",
            "img119.jpg  img138.jpg\timg22.jpg   img3.jpg   img61.jpg  img78.jpg  img98.jpg\n",
            "img120.jpg  img13.jpg\timg23.jpg   img40.jpg  img62.jpg  img79.jpg  img99.jpg\n",
            "img121.jpg  img140.jpg\timg24.jpg   img41.jpg  img63.jpg  img7.jpg   img9.jpg\n",
            "img122.jpg  img142.jpg\timg25.jpg   img43.jpg  img64.jpg  img80.jpg\n",
            "img123.jpg  img143.jpg\timg26.jpg   img45.jpg  img65.jpg  img81.jpg\n",
            "\n",
            "list the files inside tusker directory:\n",
            "\n",
            "img0.jpg    img124.jpg\timg141.jpg  img27.jpg  img46.jpg  img73.jpg  img88.jpg\n",
            "img100.jpg  img125.jpg\timg142.jpg  img28.jpg  img49.jpg  img74.jpg  img89.jpg\n",
            "img101.jpg  img126.jpg\timg145.jpg  img29.jpg  img52.jpg  img75.jpg  img91.jpg\n",
            "img102.jpg  img127.jpg\timg148.jpg  img2.jpg   img53.jpg  img76.jpg  img92.jpg\n",
            "img105.jpg  img128.jpg\timg149.jpg  img32.jpg  img56.jpg  img77.jpg  img94.jpg\n",
            "img109.jpg  img12.jpg\timg14.jpg   img33.jpg  img57.jpg  img78.jpg  img95.jpg\n",
            "img110.jpg  img130.jpg\timg16.jpg   img34.jpg  img61.jpg  img79.jpg  img96.jpg\n",
            "img112.jpg  img131.jpg\timg17.jpg   img35.jpg  img62.jpg  img7.jpg   img97.jpg\n",
            "img114.jpg  img132.jpg\timg18.jpg   img36.jpg  img64.jpg  img81.jpg  img98.jpg\n",
            "img115.jpg  img134.jpg\timg19.jpg   img38.jpg  img65.jpg  img82.jpg  img99.jpg\n",
            "img118.jpg  img136.jpg\timg1.jpg    img39.jpg  img66.jpg  img83.jpg  img9.jpg\n",
            "img11.jpg   img137.jpg\timg21.jpg   img42.jpg  img69.jpg  img84.jpg\n",
            "img120.jpg  img139.jpg\timg23.jpg   img44.jpg  img6.jpg   img85.jpg\n",
            "img121.jpg  img13.jpg\timg24.jpg   img45.jpg  img71.jpg  img87.jpg\n",
            "\n",
            "VALIDATION:\n",
            "\n",
            "\n",
            "list the files inside indian directory:\n",
            "\n",
            "img0.jpg   img17.jpg  img23.jpg  img30.jpg  img38.jpg  img45.jpg  img8.jpg\n",
            "img10.jpg  img18.jpg  img24.jpg  img31.jpg  img39.jpg  img46.jpg  img9.jpg\n",
            "img11.jpg  img19.jpg  img25.jpg  img32.jpg  img3.jpg   img47.jpg\n",
            "img12.jpg  img1.jpg   img27.jpg  img33.jpg  img41.jpg  img4.jpg\n",
            "img13.jpg  img20.jpg  img28.jpg  img34.jpg  img42.jpg  img5.jpg\n",
            "img14.jpg  img21.jpg  img29.jpg  img35.jpg  img43.jpg  img6.jpg\n",
            "img15.jpg  img22.jpg  img2.jpg\t img36.jpg  img44.jpg  img7.jpg\n",
            "\n",
            "list the files inside african directory:\n",
            "\n",
            "img0.jpg   img16.jpg  img24.jpg  img30.jpg  img39.jpg  img46.jpg  img9.jpg\n",
            "img10.jpg  img17.jpg  img25.jpg  img31.jpg  img3.jpg   img48.jpg\n",
            "img11.jpg  img19.jpg  img26.jpg  img33.jpg  img41.jpg  img49.jpg\n",
            "img12.jpg  img1.jpg   img27.jpg  img36.jpg  img43.jpg  img4.jpg\n",
            "img13.jpg  img21.jpg  img28.jpg  img37.jpg  img44.jpg  img5.jpg\n",
            "img15.jpg  img23.jpg  img29.jpg  img38.jpg  img45.jpg  img6.jpg\n",
            "\n",
            "list the files inside tusker directory:\n",
            "\n",
            "img10.jpg  img17.jpg  img23.jpg  img2.jpg   img38.jpg  img45.jpg  img6.jpg\n",
            "img11.jpg  img18.jpg  img24.jpg  img31.jpg  img39.jpg  img46.jpg  img8.jpg\n",
            "img12.jpg  img19.jpg  img26.jpg  img32.jpg  img40.jpg  img47.jpg  img9.jpg\n",
            "img14.jpg  img20.jpg  img27.jpg  img34.jpg  img41.jpg  img49.jpg\n",
            "img15.jpg  img21.jpg  img28.jpg  img36.jpg  img42.jpg  img4.jpg\n",
            "img16.jpg  img22.jpg  img29.jpg  img37.jpg  img43.jpg  img5.jpg\n"
          ],
          "name": "stdout"
        }
      ]
    },
    {
      "cell_type": "code",
      "metadata": {
        "id": "Bn0ci5y-WRY4",
        "outputId": "81b111cf-0969-47b3-c085-fca10e7473ea",
        "colab": {
          "base_uri": "https://localhost:8080/"
        }
      },
      "source": [
        "from keras.preprocessing.image import ImageDataGenerator, array_to_img, img_to_array, load_img\n",
        "\n",
        "train_datagen  = ImageDataGenerator(rescale=1./255,\n",
        "                                 horizontal_flip=True,\n",
        "                                 validation_split=0.2)\n",
        "test_datagen = ImageDataGenerator(rescale=1./255)\n",
        "    \n",
        "train_generator = train_datagen.flow_from_directory(\n",
        "        '/content/train/',\n",
        "        target_size=(img_rows, img_cols),\n",
        "        batch_size=32,\n",
        "        class_mode='categorical',\n",
        "        subset='training')\n",
        "\n",
        "validation_generator = train_datagen.flow_from_directory(\n",
        "        '/content/train/',\n",
        "        target_size=(img_rows, img_cols),\n",
        "        batch_size=32,\n",
        "        class_mode='categorical',\n",
        "        subset='validation'\n",
        "        )\n",
        "test_generator = test_datagen.flow_from_directory(\n",
        "        '/content/validation/',\n",
        "        target_size=(img_rows, img_cols),\n",
        "        batch_size=32,\n",
        "        class_mode='categorical'\n",
        "        )"
      ],
      "execution_count": 4,
      "outputs": [
        {
          "output_type": "stream",
          "text": [
            "Found 263 images belonging to 3 classes.\n",
            "Found 65 images belonging to 3 classes.\n",
            "Found 120 images belonging to 3 classes.\n"
          ],
          "name": "stdout"
        }
      ]
    },
    {
      "cell_type": "code",
      "metadata": {
        "id": "J9dT2zDmWRbI"
      },
      "source": [
        "import tensorflow as tf\n",
        "from tensorflow import keras\n",
        "from keras.applications import ResNet50\n",
        "from keras.preprocessing import image\n",
        "from keras.applications.resnet50 import preprocess_input, decode_predictions\n",
        "from tensorflow.python.keras.models import Sequential\n",
        "from tensorflow.python.keras.layers import Dense,Dropout,Flatten\n",
        "from keras.preprocessing.image import ImageDataGenerator\n",
        "\n",
        "model_resnet50=Sequential()\n",
        "model_resnet50.add(ResNet50(include_top = False, pooling = 'avg', weights = \"imagenet\"))\n",
        "model_resnet50.add(Flatten())\n",
        "model_resnet50.add(Dense(128, activation = 'relu'))\n",
        "model_resnet50.add(Dropout(0.2))\n",
        "model_resnet50.add(Dense(64, activation = 'relu'))\n",
        "model_resnet50.add(Dropout(0.2))\n",
        "model_resnet50.add(Dense(3, activation = 'softmax'))\n",
        "model_resnet50.layers[0].trainable = False\n"
      ],
      "execution_count": 17,
      "outputs": []
    },
    {
      "cell_type": "code",
      "metadata": {
        "id": "7BYbv7qMWRdq",
        "outputId": "760b2a0d-4f68-4034-ac28-d9969e8868f2",
        "colab": {
          "base_uri": "https://localhost:8080/"
        }
      },
      "source": [
        "model_resnet50.compile(loss='categorical_crossentropy',\n",
        "              optimizer='adam',\n",
        "              metrics=['accuracy'])\n",
        "model_resnet50.summary()"
      ],
      "execution_count": 18,
      "outputs": [
        {
          "output_type": "stream",
          "text": [
            "Model: \"sequential_2\"\n",
            "_________________________________________________________________\n",
            "Layer (type)                 Output Shape              Param #   \n",
            "=================================================================\n",
            "resnet50 (Functional)        (None, 2048)              23587712  \n",
            "_________________________________________________________________\n",
            "flatten_2 (Flatten)          (None, 2048)              0         \n",
            "_________________________________________________________________\n",
            "dense_6 (Dense)              (None, 128)               262272    \n",
            "_________________________________________________________________\n",
            "dropout_4 (Dropout)          (None, 128)               0         \n",
            "_________________________________________________________________\n",
            "dense_7 (Dense)              (None, 64)                8256      \n",
            "_________________________________________________________________\n",
            "dropout_5 (Dropout)          (None, 64)                0         \n",
            "_________________________________________________________________\n",
            "dense_8 (Dense)              (None, 3)                 195       \n",
            "=================================================================\n",
            "Total params: 23,858,435\n",
            "Trainable params: 270,723\n",
            "Non-trainable params: 23,587,712\n",
            "_________________________________________________________________\n"
          ],
          "name": "stdout"
        }
      ]
    },
    {
      "cell_type": "code",
      "metadata": {
        "id": "7wu85F8oWRgN"
      },
      "source": [
        "from tensorflow.python.keras.callbacks import EarlyStopping, ModelCheckpoint\n",
        "\n",
        "checkpointer = ModelCheckpoint(filepath = 'best.hdf5', monitor = 'val_loss', save_best_only = True, mode = 'auto')"
      ],
      "execution_count": 20,
      "outputs": []
    },
    {
      "cell_type": "code",
      "metadata": {
        "id": "P8Z8MgAYWRif",
        "outputId": "e2723913-6859-479e-918f-35e17c76d7e7",
        "colab": {
          "base_uri": "https://localhost:8080/"
        }
      },
      "source": [
        "model_resnet50_history=model_resnet50.fit(train_generator,epochs=10,validation_data=validation_generator,callbacks=[checkpointer])"
      ],
      "execution_count": 21,
      "outputs": [
        {
          "output_type": "stream",
          "text": [
            "Epoch 1/10\n",
            "9/9 [==============================] - 2s 275ms/step - loss: 1.4510 - accuracy: 0.3270 - val_loss: 1.1780 - val_accuracy: 0.3385\n",
            "Epoch 2/10\n",
            "9/9 [==============================] - 3s 333ms/step - loss: 1.2539 - accuracy: 0.3346 - val_loss: 1.1120 - val_accuracy: 0.3692\n",
            "Epoch 3/10\n",
            "9/9 [==============================] - 3s 325ms/step - loss: 1.1681 - accuracy: 0.3802 - val_loss: 1.0924 - val_accuracy: 0.3538\n",
            "Epoch 4/10\n",
            "9/9 [==============================] - 1s 127ms/step - loss: 1.1581 - accuracy: 0.3346 - val_loss: 1.0974 - val_accuracy: 0.3692\n",
            "Epoch 5/10\n",
            "9/9 [==============================] - 1s 137ms/step - loss: 1.1438 - accuracy: 0.3726 - val_loss: 1.0952 - val_accuracy: 0.3077\n",
            "Epoch 6/10\n",
            "9/9 [==============================] - 2s 171ms/step - loss: 1.0985 - accuracy: 0.3764 - val_loss: 1.0876 - val_accuracy: 0.4462\n",
            "Epoch 7/10\n",
            "9/9 [==============================] - 1s 127ms/step - loss: 1.1258 - accuracy: 0.3612 - val_loss: 1.0901 - val_accuracy: 0.3692\n",
            "Epoch 8/10\n",
            "9/9 [==============================] - 1s 136ms/step - loss: 1.1044 - accuracy: 0.3688 - val_loss: 1.0885 - val_accuracy: 0.4154\n",
            "Epoch 9/10\n",
            "9/9 [==============================] - 1s 125ms/step - loss: 1.1244 - accuracy: 0.3194 - val_loss: 1.0897 - val_accuracy: 0.3692\n",
            "Epoch 10/10\n",
            "9/9 [==============================] - 1s 163ms/step - loss: 1.1187 - accuracy: 0.3270 - val_loss: 1.0820 - val_accuracy: 0.3692\n"
          ],
          "name": "stdout"
        }
      ]
    },
    {
      "cell_type": "code",
      "metadata": {
        "id": "sCSi-9ACWRkw",
        "outputId": "7801a12e-4904-43ec-a7dc-5012ceaac401",
        "colab": {
          "base_uri": "https://localhost:8080/",
          "height": 275
        }
      },
      "source": [
        "import matplotlib.pyplot as plt\n",
        "plt.figure(1, figsize = (15,8)) \n",
        "    \n",
        "plt.subplot(221)  \n",
        "plt.plot(model_resnet50_history.history['accuracy'])  \n",
        "plt.plot(model_resnet50_history.history['val_accuracy'])  \n",
        "plt.title('model accuracy')  \n",
        "plt.ylabel('accuracy')  \n",
        "plt.xlabel('epoch')  \n",
        "plt.legend(['train', 'valid']) \n",
        "    \n",
        "plt.subplot(222)  \n",
        "plt.plot(model_resnet50_history.history['loss'])  \n",
        "plt.plot(model_resnet50_history.history['val_loss'])  \n",
        "plt.title('model loss')  \n",
        "plt.ylabel('loss')  \n",
        "plt.xlabel('epoch')  \n",
        "plt.legend(['train', 'valid']) \n",
        "\n",
        "plt.show()\n"
      ],
      "execution_count": 23,
      "outputs": [
        {
          "output_type": "display_data",
          "data": {
            "image/png": "[encoded data removed]",
            "text/plain": [
              "<Figure size 1080x576 with 2 Axes>"
            ]
          },
          "metadata": {
            "tags": [],
            "needs_background": "light"
          }
        }
      ]
    },
    {
      "cell_type": "code",
      "metadata": {
        "id": "3jhF1hDOZt_q",
        "outputId": "e94d7388-c366-4209-8b76-99c16547dd8c",
        "colab": {
          "base_uri": "https://localhost:8080/"
        }
      },
      "source": [
        "model_resnet50.evaluate(test_generator)"
      ],
      "execution_count": 24,
      "outputs": [
        {
          "output_type": "stream",
          "text": [
            "4/4 [==============================] - 0s 109ms/step - loss: 1.0803 - accuracy: 0.3667\n"
          ],
          "name": "stdout"
        },
        {
          "output_type": "execute_result",
          "data": {
            "text/plain": [
              "[1.0803476572036743, 0.36666667461395264]"
            ]
          },
          "metadata": {
            "tags": []
          },
          "execution_count": 24
        }
      ]
    },
    {
      "cell_type": "code",
      "metadata": {
        "id": "kPFBXpObWRm4",
        "outputId": "633e6fcb-7d71-4f45-fbdb-883573414cf1",
        "colab": {
          "base_uri": "https://localhost:8080/"
        }
      },
      "source": [
        "from keras.applications import Xception\n",
        "\n",
        "xception_model = Sequential()\n",
        "xception_model.add(Xception(include_top=False, weights=\"imagenet\", input_shape = (224, 224, 3), pooling=\"avg\"))\n",
        "xception_model.add(Dense(3, activation=\"softmax\"))\n",
        "xception_model.layers[0].trainable = False\n",
        "xception_model.summary()"
      ],
      "execution_count": 35,
      "outputs": [
        {
          "output_type": "stream",
          "text": [
            "Model: \"sequential_7\"\n",
            "_________________________________________________________________\n",
            "Layer (type)                 Output Shape              Param #   \n",
            "=================================================================\n",
            "xception (Functional)        (None, 2048)              20861480  \n",
            "_________________________________________________________________\n",
            "dense_17 (Dense)             (None, 3)                 6147      \n",
            "=================================================================\n",
            "Total params: 20,867,627\n",
            "Trainable params: 6,147\n",
            "Non-trainable params: 20,861,480\n",
            "_________________________________________________________________\n"
          ],
          "name": "stdout"
        }
      ]
    },
    {
      "cell_type": "code",
      "metadata": {
        "id": "8ch2-5GfWQxY"
      },
      "source": [
        "xception_model.compile(optimizer = \"adam\", loss = \"categorical_crossentropy\", metrics = \"accuracy\")"
      ],
      "execution_count": 36,
      "outputs": []
    },
    {
      "cell_type": "code",
      "metadata": {
        "id": "He5wZ5qrWqAl",
        "outputId": "97695775-a2e8-431e-f65f-5aeb826ad255",
        "colab": {
          "base_uri": "https://localhost:8080/"
        }
      },
      "source": [
        "xception_model_history=xception_model.fit(train_generator,epochs=20,validation_data=validation_generator,callbacks=[checkpointer])"
      ],
      "execution_count": 37,
      "outputs": [
        {
          "output_type": "stream",
          "text": [
            "Epoch 1/20\n",
            "9/9 [==============================] - 2s 205ms/step - loss: 1.0980 - accuracy: 0.3764 - val_loss: 1.0942 - val_accuracy: 0.3846\n",
            "Epoch 2/20\n",
            "9/9 [==============================] - 1s 130ms/step - loss: 1.0884 - accuracy: 0.4753 - val_loss: 1.1005 - val_accuracy: 0.4154\n",
            "Epoch 3/20\n",
            "9/9 [==============================] - 1s 131ms/step - loss: 1.0823 - accuracy: 0.4639 - val_loss: 1.0996 - val_accuracy: 0.4000\n",
            "Epoch 4/20\n",
            "9/9 [==============================] - 1s 128ms/step - loss: 1.0799 - accuracy: 0.4525 - val_loss: 1.0933 - val_accuracy: 0.4462\n",
            "Epoch 5/20\n",
            "9/9 [==============================] - 1s 122ms/step - loss: 1.0750 - accuracy: 0.5247 - val_loss: 1.0939 - val_accuracy: 0.4462\n",
            "Epoch 6/20\n",
            "9/9 [==============================] - 1s 164ms/step - loss: 1.0666 - accuracy: 0.5361 - val_loss: 1.0800 - val_accuracy: 0.4615\n",
            "Epoch 7/20\n",
            "9/9 [==============================] - 1s 131ms/step - loss: 1.0595 - accuracy: 0.5247 - val_loss: 1.0867 - val_accuracy: 0.4308\n",
            "Epoch 8/20\n",
            "9/9 [==============================] - 1s 123ms/step - loss: 1.0609 - accuracy: 0.5361 - val_loss: 1.1066 - val_accuracy: 0.4308\n",
            "Epoch 9/20\n",
            "9/9 [==============================] - 1s 128ms/step - loss: 1.0532 - accuracy: 0.5361 - val_loss: 1.0982 - val_accuracy: 0.4308\n",
            "Epoch 10/20\n",
            "9/9 [==============================] - 1s 127ms/step - loss: 1.0534 - accuracy: 0.5399 - val_loss: 1.0833 - val_accuracy: 0.4462\n",
            "Epoch 11/20\n",
            "9/9 [==============================] - 1s 127ms/step - loss: 1.0450 - accuracy: 0.5856 - val_loss: 1.0953 - val_accuracy: 0.4154\n",
            "Epoch 12/20\n",
            "9/9 [==============================] - 1s 136ms/step - loss: 1.0357 - accuracy: 0.6084 - val_loss: 1.0901 - val_accuracy: 0.4462\n",
            "Epoch 13/20\n",
            "9/9 [==============================] - 1s 127ms/step - loss: 1.0365 - accuracy: 0.5970 - val_loss: 1.0909 - val_accuracy: 0.4462\n",
            "Epoch 14/20\n",
            "9/9 [==============================] - 1s 137ms/step - loss: 1.0370 - accuracy: 0.5779 - val_loss: 1.0842 - val_accuracy: 0.4308\n",
            "Epoch 15/20\n",
            "9/9 [==============================] - 1s 127ms/step - loss: 1.0269 - accuracy: 0.5741 - val_loss: 1.0812 - val_accuracy: 0.4769\n",
            "Epoch 16/20\n",
            "9/9 [==============================] - 1s 160ms/step - loss: 1.0268 - accuracy: 0.5627 - val_loss: 1.0790 - val_accuracy: 0.4615\n",
            "Epoch 17/20\n",
            "9/9 [==============================] - 1s 138ms/step - loss: 1.0250 - accuracy: 0.5741 - val_loss: 1.0940 - val_accuracy: 0.4308\n",
            "Epoch 18/20\n",
            "9/9 [==============================] - 1s 121ms/step - loss: 1.0190 - accuracy: 0.5665 - val_loss: 1.0977 - val_accuracy: 0.4000\n",
            "Epoch 19/20\n",
            "9/9 [==============================] - 1s 127ms/step - loss: 1.0099 - accuracy: 0.5817 - val_loss: 1.0849 - val_accuracy: 0.4462\n",
            "Epoch 20/20\n",
            "9/9 [==============================] - 1s 160ms/step - loss: 1.0201 - accuracy: 0.5817 - val_loss: 1.0783 - val_accuracy: 0.4462\n"
          ],
          "name": "stdout"
        }
      ]
    },
    {
      "cell_type": "code",
      "metadata": {
        "id": "rDBI38UOWqCp",
        "outputId": "48c54f3b-9465-4069-8115-e7346128c84b",
        "colab": {
          "base_uri": "https://localhost:8080/",
          "height": 275
        }
      },
      "source": [
        "import matplotlib.pyplot as plt\n",
        "plt.figure(1, figsize = (15,8)) \n",
        "    \n",
        "plt.subplot(221)  \n",
        "plt.plot(xception_model_history.history['accuracy'])  \n",
        "plt.plot(xception_model_history.history['val_accuracy'])  \n",
        "plt.title('model accuracy')  \n",
        "plt.ylabel('accuracy')  \n",
        "plt.xlabel('epoch')  \n",
        "plt.legend(['train', 'valid']) \n",
        "    \n",
        "plt.subplot(222)  \n",
        "plt.plot(xception_model_history.history['loss'])  \n",
        "plt.plot(xception_model_history.history['val_loss'])  \n",
        "plt.title('model loss')  \n",
        "plt.ylabel('loss')  \n",
        "plt.xlabel('epoch')  \n",
        "plt.legend(['train', 'valid']) \n",
        "\n",
        "plt.show()\n"
      ],
      "execution_count": 38,
      "outputs": [
        {
          "output_type": "display_data",
          "data": {
            "image/png": "[encoded data removed]",
            "text/plain": [
              "<Figure size 1080x576 with 2 Axes>"
            ]
          },
          "metadata": {
            "tags": [],
            "needs_background": "light"
          }
        }
      ]
    },
    {
      "cell_type": "code",
      "metadata": {
        "id": "s-bf0F1Kbisd",
        "outputId": "ec580fcd-6d7e-4209-90b6-ba246fbb1689",
        "colab": {
          "base_uri": "https://localhost:8080/"
        }
      },
      "source": [
        "xception_model.evaluate(test_generator)"
      ],
      "execution_count": 39,
      "outputs": [
        {
          "output_type": "stream",
          "text": [
            "4/4 [==============================] - 0s 106ms/step - loss: 1.0673 - accuracy: 0.4917\n"
          ],
          "name": "stdout"
        },
        {
          "output_type": "execute_result",
          "data": {
            "text/plain": [
              "[1.0673121213912964, 0.49166667461395264]"
            ]
          },
          "metadata": {
            "tags": []
          },
          "execution_count": 39
        }
      ]
    }
  ]
}