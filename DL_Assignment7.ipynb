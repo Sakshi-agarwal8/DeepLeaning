{
  "nbformat": 4,
  "nbformat_minor": 0,
  "metadata": {
    "colab": {
      "name": "DL_Assignment7.ipynb",
      "provenance": [],
      "toc_visible": true,
      "authorship_tag": "ABX9TyPAi08xSZv2+EX5jM7ecMVz"
    },
    "kernelspec": {
      "name": "python3",
      "display_name": "Python 3"
    },
    "accelerator": "GPU"
  },
  "cells": [
    {
      "cell_type": "markdown",
      "metadata": {
        "id": "zb80BKW9oLQN",
        "colab_type": "text"
      },
      "source": [
        "## Implement VGG16, LENET5, AlexNet on Cifar10"
      ]
    },
    {
      "cell_type": "code",
      "metadata": {
        "id": "CHIck2NyoDlH",
        "colab_type": "code",
        "colab": {
          "base_uri": "https://localhost:8080/",
          "height": 126
        },
        "outputId": "5d0e8636-e54b-435e-ddb4-0e44f0678ea3"
      },
      "source": [
        "import keras\n",
        "from keras import models\n",
        "from keras.layers import Dense\n",
        "from keras.utils import to_categorical\n",
        "\n",
        "(X_train, y_train), (X_test, y_test) = keras.datasets.cifar10.load_data()\n",
        "\n",
        "print(X_train.shape)\n",
        "print(y_train.shape)\n",
        "print(X_test.shape)\n",
        "print(y_test.shape)\n",
        "\n",
        "#normalize\n",
        "X_train = X_train.astype('float32')/255\n",
        "X_test = X_test.astype('float32')/255\n",
        "\n",
        "#categorical to one hot encoded\n",
        "y_test = to_categorical(y_test)\n",
        "y_train = to_categorical(y_train)"
      ],
      "execution_count": 1,
      "outputs": [
        {
          "output_type": "stream",
          "text": [
            "Downloading data from https://www.cs.toronto.edu/~kriz/cifar-10-python.tar.gz\n",
            "170500096/170498071 [==============================] - 6s 0us/step\n",
            "(50000, 32, 32, 3)\n",
            "(50000, 1)\n",
            "(10000, 32, 32, 3)\n",
            "(10000, 1)\n"
          ],
          "name": "stdout"
        }
      ]
    },
    {
      "cell_type": "code",
      "metadata": {
        "id": "Jm8-9YU96wMZ",
        "colab_type": "code",
        "colab": {
          "base_uri": "https://localhost:8080/",
          "height": 54
        },
        "outputId": "36332dfa-ced1-4e23-da2b-8f7f2fa36edf"
      },
      "source": [
        "print(y_train.shape)\n",
        "print(y_test.shape)"
      ],
      "execution_count": 2,
      "outputs": [
        {
          "output_type": "stream",
          "text": [
            "(50000, 10)\n",
            "(10000, 10)\n"
          ],
          "name": "stdout"
        }
      ]
    },
    {
      "cell_type": "markdown",
      "metadata": {
        "id": "ElnWl6OZrFyz",
        "colab_type": "text"
      },
      "source": [
        "## LENET5"
      ]
    },
    {
      "cell_type": "code",
      "metadata": {
        "id": "WEJpey8WrHs7",
        "colab_type": "code",
        "colab": {}
      },
      "source": [
        "from keras.models import Sequential\n",
        "from keras.layers import Conv2D,MaxPooling2D,Flatten,Dense\n",
        "\n",
        "classifier=Sequential()\n",
        "classifier.add(Conv2D(filters=6,kernel_size=(5,5),strides=(1,1),activation=\"sigmoid\",input_shape=(32,32,3)))\n",
        "classifier.add(MaxPooling2D(pool_size=(2,2)))\n",
        "classifier.add(Conv2D(filters=16,kernel_size=(5,5),strides=(1,1),activation=\"sigmoid\"))\n",
        "classifier.add(MaxPooling2D(pool_size=(2,2)))\n",
        "classifier.add(Flatten())\n",
        "classifier.add(Dense(units=120,activation='tanh'))\n",
        "classifier.add(Dense(units=84,activation='tanh'))\n",
        "classifier.add(Dense(units=10,activation='softmax'))\n",
        "\n",
        "classifier.compile(loss='categorical_crossentropy',metrics=['accuracy'],optimizer='adam')"
      ],
      "execution_count": 3,
      "outputs": []
    },
    {
      "cell_type": "code",
      "metadata": {
        "id": "MpOEhMeorLaQ",
        "colab_type": "code",
        "colab": {
          "base_uri": "https://localhost:8080/",
          "height": 1000
        },
        "outputId": "da166d42-0317-40ff-e685-b7d2d26ca660"
      },
      "source": [
        "classifier.fit(X_train,y_train,epochs=30,batch_size=32,steps_per_epoch=30,validation_split=0.2)"
      ],
      "execution_count": 10,
      "outputs": [
        {
          "output_type": "stream",
          "text": [
            "Epoch 1/30\n",
            "30/30 [==============================] - 5s 151ms/step - loss: 2.3920 - accuracy: 0.1031 - val_loss: 2.3504 - val_accuracy: 0.0952\n",
            "Epoch 2/30\n",
            "30/30 [==============================] - 4s 139ms/step - loss: 2.3377 - accuracy: 0.0948 - val_loss: 2.3526 - val_accuracy: 0.1025\n",
            "Epoch 3/30\n",
            "30/30 [==============================] - 4s 140ms/step - loss: 2.3327 - accuracy: 0.1052 - val_loss: 2.3396 - val_accuracy: 0.1022\n",
            "Epoch 4/30\n",
            "30/30 [==============================] - 4s 139ms/step - loss: 2.3351 - accuracy: 0.1000 - val_loss: 2.3162 - val_accuracy: 0.1025\n",
            "Epoch 5/30\n",
            "30/30 [==============================] - 4s 140ms/step - loss: 2.3244 - accuracy: 0.1031 - val_loss: 2.3208 - val_accuracy: 0.1014\n",
            "Epoch 6/30\n",
            "30/30 [==============================] - 4s 138ms/step - loss: 2.3219 - accuracy: 0.0990 - val_loss: 2.3050 - val_accuracy: 0.1074\n",
            "Epoch 7/30\n",
            "30/30 [==============================] - 4s 140ms/step - loss: 2.3072 - accuracy: 0.1219 - val_loss: 2.2953 - val_accuracy: 0.1255\n",
            "Epoch 8/30\n",
            "30/30 [==============================] - 4s 140ms/step - loss: 2.3105 - accuracy: 0.1177 - val_loss: 2.2878 - val_accuracy: 0.1215\n",
            "Epoch 9/30\n",
            "30/30 [==============================] - 4s 138ms/step - loss: 2.2767 - accuracy: 0.1312 - val_loss: 2.2744 - val_accuracy: 0.1354\n",
            "Epoch 10/30\n",
            "30/30 [==============================] - 4s 140ms/step - loss: 2.2081 - accuracy: 0.1635 - val_loss: 2.1899 - val_accuracy: 0.1691\n",
            "Epoch 11/30\n",
            "30/30 [==============================] - 4s 141ms/step - loss: 2.1767 - accuracy: 0.1625 - val_loss: 2.1435 - val_accuracy: 0.1951\n",
            "Epoch 12/30\n",
            "30/30 [==============================] - 4s 141ms/step - loss: 2.1244 - accuracy: 0.1990 - val_loss: 2.1278 - val_accuracy: 0.1855\n",
            "Epoch 13/30\n",
            "30/30 [==============================] - 4s 141ms/step - loss: 2.0935 - accuracy: 0.1917 - val_loss: 2.0954 - val_accuracy: 0.2044\n",
            "Epoch 14/30\n",
            "30/30 [==============================] - 4s 142ms/step - loss: 2.1205 - accuracy: 0.1917 - val_loss: 2.1266 - val_accuracy: 0.1886\n",
            "Epoch 15/30\n",
            "30/30 [==============================] - 4s 141ms/step - loss: 2.1255 - accuracy: 0.1969 - val_loss: 2.1637 - val_accuracy: 0.1843\n",
            "Epoch 16/30\n",
            "30/30 [==============================] - 4s 140ms/step - loss: 2.1076 - accuracy: 0.1729 - val_loss: 2.0800 - val_accuracy: 0.2138\n",
            "Epoch 17/30\n",
            "30/30 [==============================] - 4s 141ms/step - loss: 2.1251 - accuracy: 0.2052 - val_loss: 2.0792 - val_accuracy: 0.2199\n",
            "Epoch 18/30\n",
            "30/30 [==============================] - 4s 142ms/step - loss: 2.0425 - accuracy: 0.2073 - val_loss: 2.0793 - val_accuracy: 0.2257\n",
            "Epoch 19/30\n",
            "30/30 [==============================] - 4s 142ms/step - loss: 2.0582 - accuracy: 0.2208 - val_loss: 2.0699 - val_accuracy: 0.2143\n",
            "Epoch 20/30\n",
            "30/30 [==============================] - 4s 140ms/step - loss: 2.0531 - accuracy: 0.2188 - val_loss: 2.0726 - val_accuracy: 0.2125\n",
            "Epoch 21/30\n",
            "30/30 [==============================] - 4s 141ms/step - loss: 2.0761 - accuracy: 0.2229 - val_loss: 2.0706 - val_accuracy: 0.2300\n",
            "Epoch 22/30\n",
            "30/30 [==============================] - 4s 138ms/step - loss: 2.0809 - accuracy: 0.2333 - val_loss: 2.0732 - val_accuracy: 0.2137\n",
            "Epoch 23/30\n",
            "30/30 [==============================] - 4s 143ms/step - loss: 2.1035 - accuracy: 0.2198 - val_loss: 2.1077 - val_accuracy: 0.2050\n",
            "Epoch 24/30\n",
            "30/30 [==============================] - 4s 142ms/step - loss: 2.0475 - accuracy: 0.2292 - val_loss: 2.0561 - val_accuracy: 0.2150\n",
            "Epoch 25/30\n",
            "30/30 [==============================] - 4s 141ms/step - loss: 2.0317 - accuracy: 0.2260 - val_loss: 2.0755 - val_accuracy: 0.2072\n",
            "Epoch 26/30\n",
            "30/30 [==============================] - 4s 140ms/step - loss: 2.0368 - accuracy: 0.2427 - val_loss: 2.0627 - val_accuracy: 0.2265\n",
            "Epoch 27/30\n",
            "30/30 [==============================] - 4s 139ms/step - loss: 2.0747 - accuracy: 0.2177 - val_loss: 2.0586 - val_accuracy: 0.2196\n",
            "Epoch 28/30\n",
            "30/30 [==============================] - 4s 139ms/step - loss: 2.0250 - accuracy: 0.2354 - val_loss: 2.0468 - val_accuracy: 0.2272\n",
            "Epoch 29/30\n",
            "30/30 [==============================] - 4s 141ms/step - loss: 1.9746 - accuracy: 0.2688 - val_loss: 2.0396 - val_accuracy: 0.2324\n",
            "Epoch 30/30\n",
            "30/30 [==============================] - 4s 142ms/step - loss: 2.0303 - accuracy: 0.2427 - val_loss: 2.0626 - val_accuracy: 0.2235\n"
          ],
          "name": "stdout"
        },
        {
          "output_type": "execute_result",
          "data": {
            "text/plain": [
              "<tensorflow.python.keras.callbacks.History at 0x7f636a316d30>"
            ]
          },
          "metadata": {
            "tags": []
          },
          "execution_count": 10
        }
      ]
    },
    {
      "cell_type": "code",
      "metadata": {
        "id": "utGfIhaZrlip",
        "colab_type": "code",
        "colab": {
          "base_uri": "https://localhost:8080/",
          "height": 54
        },
        "outputId": "99601eb4-c5a2-4a2e-cfa1-6783bdb686a5"
      },
      "source": [
        "classifier.evaluate(X_test, y_test,verbose=1)"
      ],
      "execution_count": 11,
      "outputs": [
        {
          "output_type": "stream",
          "text": [
            "313/313 [==============================] - 4s 12ms/step - loss: 2.0472 - accuracy: 0.2307\n"
          ],
          "name": "stdout"
        },
        {
          "output_type": "execute_result",
          "data": {
            "text/plain": [
              "[2.0471537113189697, 0.23070000112056732]"
            ]
          },
          "metadata": {
            "tags": []
          },
          "execution_count": 11
        }
      ]
    },
    {
      "cell_type": "markdown",
      "metadata": {
        "id": "BFlkioQIrRFX",
        "colab_type": "text"
      },
      "source": [
        "## VGG16"
      ]
    },
    {
      "cell_type": "code",
      "metadata": {
        "id": "8p509y-KrSV6",
        "colab_type": "code",
        "colab": {}
      },
      "source": [
        "model_vgg16=Sequential()\n",
        "\n",
        "model_vgg16.add(Conv2D(filters=64,kernel_size=(3,3),strides=(2,2),padding=\"same\",activation=\"relu\",input_shape=(32,32,3)))\n",
        "model_vgg16.add(Conv2D(filters=64,kernel_size=(3,3),strides=(2,2),padding=\"same\",activation=\"relu\"))\n",
        "model_vgg16.add(MaxPooling2D(pool_size=(2,2)))\n",
        "\n",
        "model_vgg16.add(Conv2D(filters=128,kernel_size=(3,3),strides=(2,2),padding=\"same\",activation=\"relu\"))\n",
        "model_vgg16.add(Conv2D(filters=128,kernel_size=(3,3),strides=(2,2),padding=\"same\",activation=\"relu\"))\n",
        "model_vgg16.add(MaxPooling2D(pool_size=(2,2),padding=\"same\"))\n",
        "\n",
        "model_vgg16.add(Conv2D(filters=256,kernel_size=(3,3),strides=(2,2),padding=\"same\",activation=\"relu\"))\n",
        "model_vgg16.add(Conv2D(filters=256,kernel_size=(3,3),strides=(2,2),padding=\"same\",activation=\"relu\"))\n",
        "model_vgg16.add(Conv2D(filters=256,kernel_size=(3,3),strides=(2,2),padding=\"same\",activation=\"relu\"))\n",
        "model_vgg16.add(MaxPooling2D(pool_size=(2,2),padding=\"same\"))\n",
        "\n",
        "model_vgg16.add(Conv2D(filters=512,kernel_size=(3,3),strides=(1,1),padding=\"same\",activation=\"relu\"))\n",
        "model_vgg16.add(Conv2D(filters=512,kernel_size=(3,3),strides=(1,1),padding=\"same\",activation=\"relu\"))\n",
        "model_vgg16.add(Conv2D(filters=512,kernel_size=(3,3),strides=(1,1),padding=\"same\",activation=\"relu\"))\n",
        "model_vgg16.add(MaxPooling2D(pool_size=(2,2),padding=\"same\"))\n",
        "\n",
        "model_vgg16.add(Conv2D(filters=512,kernel_size=(3,3),strides=(1,1),padding=\"same\",activation=\"relu\"))\n",
        "model_vgg16.add(Conv2D(filters=512,kernel_size=(3,3),strides=(1,1),padding=\"same\",activation=\"relu\"))\n",
        "model_vgg16.add(Conv2D(filters=512,kernel_size=(3,3),strides=(1,1),padding=\"same\",activation=\"relu\"))\n",
        "model_vgg16.add(MaxPooling2D(pool_size=(2,2),padding=\"same\"))\n",
        "model_vgg16.add(Flatten())\n",
        "model_vgg16.add(Dense(units=128,activation='relu'))\n",
        "model_vgg16.add(Dense(units=10,activation='softmax'))\n",
        "\n",
        "from keras.optimizers import SGD\n",
        "opt = SGD(lr = 0.01, momentum = 0.9)\n",
        "model_vgg16.compile(loss='categorical_crossentropy',metrics=['accuracy'],optimizer=opt)\n"
      ],
      "execution_count": 4,
      "outputs": []
    },
    {
      "cell_type": "code",
      "metadata": {
        "id": "0-u8es2hrZ3O",
        "colab_type": "code",
        "colab": {
          "base_uri": "https://localhost:8080/",
          "height": 1000
        },
        "outputId": "054e7cd6-a33a-44fe-9c23-98fa2b1e2efb"
      },
      "source": [
        "model_vgg16.fit(X_train,y_train,epochs=30,batch_size=32,steps_per_epoch=100,validation_split=0.2,verbose = 1)"
      ],
      "execution_count": 5,
      "outputs": [
        {
          "output_type": "stream",
          "text": [
            "Epoch 1/30\n",
            "  1/100 [..............................] - ETA: 0s - loss: 2.3026 - accuracy: 0.0625WARNING:tensorflow:Callbacks method `on_train_batch_end` is slow compared to the batch time (batch time: 0.0094s vs `on_train_batch_end` time: 0.0175s). Check your callbacks.\n",
            "100/100 [==============================] - 4s 38ms/step - loss: 2.3026 - accuracy: 0.1025 - val_loss: 2.3032 - val_accuracy: 0.1016\n",
            "Epoch 2/30\n",
            "100/100 [==============================] - 3s 34ms/step - loss: 2.3037 - accuracy: 0.1009 - val_loss: 2.3033 - val_accuracy: 0.0977\n",
            "Epoch 3/30\n",
            "100/100 [==============================] - 3s 34ms/step - loss: 2.3035 - accuracy: 0.1013 - val_loss: 2.3031 - val_accuracy: 0.1025\n",
            "Epoch 4/30\n",
            "100/100 [==============================] - 3s 34ms/step - loss: 2.3029 - accuracy: 0.1006 - val_loss: 2.3038 - val_accuracy: 0.0980\n",
            "Epoch 5/30\n",
            "100/100 [==============================] - 3s 34ms/step - loss: 2.3034 - accuracy: 0.1053 - val_loss: 2.3040 - val_accuracy: 0.0980\n",
            "Epoch 6/30\n",
            "100/100 [==============================] - 3s 34ms/step - loss: 2.3037 - accuracy: 0.1019 - val_loss: 2.3028 - val_accuracy: 0.1014\n",
            "Epoch 7/30\n",
            "100/100 [==============================] - 3s 35ms/step - loss: 2.3035 - accuracy: 0.1022 - val_loss: 2.3036 - val_accuracy: 0.0952\n",
            "Epoch 8/30\n",
            "100/100 [==============================] - 3s 35ms/step - loss: 2.3041 - accuracy: 0.0972 - val_loss: 2.3030 - val_accuracy: 0.0977\n",
            "Epoch 9/30\n",
            "100/100 [==============================] - 3s 34ms/step - loss: 2.3032 - accuracy: 0.1013 - val_loss: 2.3035 - val_accuracy: 0.0952\n",
            "Epoch 10/30\n",
            "100/100 [==============================] - 3s 35ms/step - loss: 2.3028 - accuracy: 0.1059 - val_loss: 2.3030 - val_accuracy: 0.1022\n",
            "Epoch 11/30\n",
            "100/100 [==============================] - 3s 35ms/step - loss: 2.3039 - accuracy: 0.0950 - val_loss: 2.3028 - val_accuracy: 0.1003\n",
            "Epoch 12/30\n",
            "100/100 [==============================] - 3s 35ms/step - loss: 2.3036 - accuracy: 0.1009 - val_loss: 2.3030 - val_accuracy: 0.1014\n",
            "Epoch 13/30\n",
            "100/100 [==============================] - 3s 35ms/step - loss: 2.3023 - accuracy: 0.1084 - val_loss: 2.3037 - val_accuracy: 0.0997\n",
            "Epoch 14/30\n",
            "100/100 [==============================] - 3s 35ms/step - loss: 2.3032 - accuracy: 0.1078 - val_loss: 2.3043 - val_accuracy: 0.0997\n",
            "Epoch 15/30\n",
            "100/100 [==============================] - 4s 35ms/step - loss: 2.3038 - accuracy: 0.0981 - val_loss: 2.3032 - val_accuracy: 0.0980\n",
            "Epoch 16/30\n",
            "100/100 [==============================] - 3s 35ms/step - loss: 2.3031 - accuracy: 0.0972 - val_loss: 2.3033 - val_accuracy: 0.1003\n",
            "Epoch 17/30\n",
            "100/100 [==============================] - 4s 35ms/step - loss: 2.3037 - accuracy: 0.0984 - val_loss: 2.3033 - val_accuracy: 0.0952\n",
            "Epoch 18/30\n",
            "100/100 [==============================] - 4s 36ms/step - loss: 2.3033 - accuracy: 0.1050 - val_loss: 2.3034 - val_accuracy: 0.1014\n",
            "Epoch 19/30\n",
            "100/100 [==============================] - 4s 36ms/step - loss: 2.3035 - accuracy: 0.0953 - val_loss: 2.3032 - val_accuracy: 0.1014\n",
            "Epoch 20/30\n",
            "100/100 [==============================] - 4s 35ms/step - loss: 2.3036 - accuracy: 0.1016 - val_loss: 2.3028 - val_accuracy: 0.1025\n",
            "Epoch 21/30\n",
            "100/100 [==============================] - 4s 35ms/step - loss: 2.3038 - accuracy: 0.0875 - val_loss: 2.3030 - val_accuracy: 0.0977\n",
            "Epoch 22/30\n",
            "100/100 [==============================] - 4s 35ms/step - loss: 2.3026 - accuracy: 0.1041 - val_loss: 2.3036 - val_accuracy: 0.1016\n",
            "Epoch 23/30\n",
            "100/100 [==============================] - 3s 35ms/step - loss: 2.3027 - accuracy: 0.0966 - val_loss: 2.3040 - val_accuracy: 0.1016\n",
            "Epoch 24/30\n",
            "100/100 [==============================] - 3s 35ms/step - loss: 2.3037 - accuracy: 0.1028 - val_loss: 2.3031 - val_accuracy: 0.1022\n",
            "Epoch 25/30\n",
            "100/100 [==============================] - 3s 35ms/step - loss: 2.3037 - accuracy: 0.0944 - val_loss: 2.3031 - val_accuracy: 0.0997\n",
            "Epoch 26/30\n",
            "100/100 [==============================] - 4s 35ms/step - loss: 2.3028 - accuracy: 0.1025 - val_loss: 2.3034 - val_accuracy: 0.1014\n",
            "Epoch 27/30\n",
            "100/100 [==============================] - 4s 35ms/step - loss: 2.3036 - accuracy: 0.1056 - val_loss: 2.3027 - val_accuracy: 0.1014\n",
            "Epoch 28/30\n",
            "100/100 [==============================] - 3s 35ms/step - loss: 2.3038 - accuracy: 0.0997 - val_loss: 2.3025 - val_accuracy: 0.1025\n",
            "Epoch 29/30\n",
            "100/100 [==============================] - 3s 35ms/step - loss: 2.3033 - accuracy: 0.0975 - val_loss: 2.3032 - val_accuracy: 0.0952\n",
            "Epoch 30/30\n",
            "100/100 [==============================] - 3s 35ms/step - loss: 2.3031 - accuracy: 0.1013 - val_loss: 2.3035 - val_accuracy: 0.0997\n"
          ],
          "name": "stdout"
        },
        {
          "output_type": "execute_result",
          "data": {
            "text/plain": [
              "<tensorflow.python.keras.callbacks.History at 0x7fd751fd7e48>"
            ]
          },
          "metadata": {
            "tags": []
          },
          "execution_count": 5
        }
      ]
    },
    {
      "cell_type": "code",
      "metadata": {
        "id": "b0616Wqnrvqe",
        "colab_type": "code",
        "colab": {
          "base_uri": "https://localhost:8080/",
          "height": 54
        },
        "outputId": "d88294d3-754a-46d6-b84c-e6c7ba3d7a34"
      },
      "source": [
        "model_vgg16.evaluate(X_test, y_test,verbose=1)"
      ],
      "execution_count": 6,
      "outputs": [
        {
          "output_type": "stream",
          "text": [
            "313/313 [==============================] - 2s 5ms/step - loss: 2.3031 - accuracy: 0.1000\n"
          ],
          "name": "stdout"
        },
        {
          "output_type": "execute_result",
          "data": {
            "text/plain": [
              "[2.303130865097046, 0.10000000149011612]"
            ]
          },
          "metadata": {
            "tags": []
          },
          "execution_count": 6
        }
      ]
    },
    {
      "cell_type": "markdown",
      "metadata": {
        "id": "IfswUp5_r2So",
        "colab_type": "text"
      },
      "source": [
        "## AlexNet"
      ]
    },
    {
      "cell_type": "code",
      "metadata": {
        "id": "fVvo9oejr4Bs",
        "colab_type": "code",
        "colab": {}
      },
      "source": [
        "from keras.layers import  Dropout\n",
        "\n",
        "model_alexnet=Sequential()\n",
        "\n",
        "model_alexnet.add(Conv2D(filters=96,kernel_size=(11,11),strides=(4,4),padding=\"same\",activation=\"relu\",input_shape=(32,32,3)))\n",
        "model_alexnet.add(MaxPooling2D(pool_size=(2,2), strides=(2,2), padding=\"valid\"))\n",
        "\n",
        "model_alexnet.add(Conv2D(filters=256,kernel_size=(11,11),strides=(1,1),padding=\"same\",activation=\"relu\"))\n",
        "model_alexnet.add(MaxPooling2D(pool_size=(2,2), strides=(2,2), padding=\"valid\"))\n",
        "\n",
        "model_alexnet.add(Conv2D(filters=384,kernel_size=(3,3),strides=(1,1),padding=\"same\",activation=\"relu\"))\n",
        "model_alexnet.add(Conv2D(filters=384,kernel_size=(3,3),strides=(1,1),padding=\"same\",activation=\"relu\"))\n",
        "model_alexnet.add(Conv2D(filters=256,kernel_size=(3,3),strides=(1,1),padding=\"same\",activation=\"relu\"))\n",
        "model_alexnet.add(MaxPooling2D(pool_size=(2,2), strides=(2,2), padding=\"valid\"))\n",
        "\n",
        "model_alexnet.add(Flatten())\n",
        "model_alexnet.add(Dense(units=4096,input_shape=(32*32*3,),activation='relu'))\n",
        "model_alexnet.add(Dropout(0.4))\n",
        "model_alexnet.add(Dense(units=4096,activation='relu'))\n",
        "model_alexnet.add(Dropout(0.4))\n",
        "model_alexnet.add(Dense(units=1000,activation='relu'))\n",
        "model_alexnet.add(Dropout(0.4))\n",
        "model_alexnet.add(Dense(units=10,activation='softmax'))\n",
        "\n",
        "model_alexnet.compile(loss='categorical_crossentropy',metrics=['accuracy'],optimizer='adam')"
      ],
      "execution_count": 8,
      "outputs": []
    },
    {
      "cell_type": "code",
      "metadata": {
        "id": "Nryry7HXr5Z4",
        "colab_type": "code",
        "colab": {
          "base_uri": "https://localhost:8080/",
          "height": 1000
        },
        "outputId": "3d81f635-aa6b-4c03-e7e6-d8025273ef9a"
      },
      "source": [
        "model_alexnet.fit(X_train,y_train,epochs=30,batch_size=32,steps_per_epoch=100,validation_split=0.2,verbose = 1)"
      ],
      "execution_count": 9,
      "outputs": [
        {
          "output_type": "stream",
          "text": [
            "Epoch 1/30\n",
            "  1/100 [..............................] - ETA: 0s - loss: 2.3026 - accuracy: 0.1562WARNING:tensorflow:Callbacks method `on_train_batch_end` is slow compared to the batch time (batch time: 0.0033s vs `on_train_batch_end` time: 0.0126s). Check your callbacks.\n",
            "100/100 [==============================] - 3s 30ms/step - loss: 2.3074 - accuracy: 0.1128 - val_loss: 2.3055 - val_accuracy: 0.1022\n",
            "Epoch 2/30\n",
            "100/100 [==============================] - 3s 27ms/step - loss: 2.3039 - accuracy: 0.0956 - val_loss: 2.3039 - val_accuracy: 0.0977\n",
            "Epoch 3/30\n",
            "100/100 [==============================] - 3s 27ms/step - loss: 2.3032 - accuracy: 0.1063 - val_loss: 2.3031 - val_accuracy: 0.0977\n",
            "Epoch 4/30\n",
            "100/100 [==============================] - 3s 27ms/step - loss: 2.3037 - accuracy: 0.0919 - val_loss: 2.3025 - val_accuracy: 0.1025\n",
            "Epoch 5/30\n",
            "100/100 [==============================] - 3s 27ms/step - loss: 2.3032 - accuracy: 0.1031 - val_loss: 2.3028 - val_accuracy: 0.0977\n",
            "Epoch 6/30\n",
            "100/100 [==============================] - 3s 27ms/step - loss: 2.3028 - accuracy: 0.0994 - val_loss: 2.3028 - val_accuracy: 0.1016\n",
            "Epoch 7/30\n",
            "100/100 [==============================] - 3s 27ms/step - loss: 2.3027 - accuracy: 0.1037 - val_loss: 2.3030 - val_accuracy: 0.0997\n",
            "Epoch 8/30\n",
            "100/100 [==============================] - 3s 27ms/step - loss: 2.3033 - accuracy: 0.0991 - val_loss: 2.3027 - val_accuracy: 0.0997\n",
            "Epoch 9/30\n",
            "100/100 [==============================] - 3s 27ms/step - loss: 2.3029 - accuracy: 0.1003 - val_loss: 2.3028 - val_accuracy: 0.0980\n",
            "Epoch 10/30\n",
            "100/100 [==============================] - 3s 27ms/step - loss: 2.3026 - accuracy: 0.0975 - val_loss: 2.3031 - val_accuracy: 0.0952\n",
            "Epoch 11/30\n",
            "100/100 [==============================] - 3s 27ms/step - loss: 2.3026 - accuracy: 0.1028 - val_loss: 2.3031 - val_accuracy: 0.0952\n",
            "Epoch 12/30\n",
            "100/100 [==============================] - 3s 27ms/step - loss: 2.3032 - accuracy: 0.1016 - val_loss: 2.3028 - val_accuracy: 0.0952\n",
            "Epoch 13/30\n",
            "100/100 [==============================] - 3s 27ms/step - loss: 2.3030 - accuracy: 0.0994 - val_loss: 2.3027 - val_accuracy: 0.0952\n",
            "Epoch 14/30\n",
            "100/100 [==============================] - 3s 27ms/step - loss: 2.3028 - accuracy: 0.1037 - val_loss: 2.3028 - val_accuracy: 0.0952\n",
            "Epoch 15/30\n",
            "100/100 [==============================] - 3s 27ms/step - loss: 2.3029 - accuracy: 0.0975 - val_loss: 2.3028 - val_accuracy: 0.1003\n",
            "Epoch 16/30\n",
            "100/100 [==============================] - 3s 27ms/step - loss: 2.3027 - accuracy: 0.0978 - val_loss: 2.3027 - val_accuracy: 0.1014\n",
            "Epoch 17/30\n",
            "100/100 [==============================] - 3s 27ms/step - loss: 2.3027 - accuracy: 0.0981 - val_loss: 2.3027 - val_accuracy: 0.1003\n",
            "Epoch 18/30\n",
            "100/100 [==============================] - 3s 27ms/step - loss: 2.3030 - accuracy: 0.1025 - val_loss: 2.3027 - val_accuracy: 0.1003\n",
            "Epoch 19/30\n",
            "100/100 [==============================] - 3s 27ms/step - loss: 2.3029 - accuracy: 0.0947 - val_loss: 2.3027 - val_accuracy: 0.0952\n",
            "Epoch 20/30\n",
            "100/100 [==============================] - 3s 27ms/step - loss: 2.3029 - accuracy: 0.0919 - val_loss: 2.3026 - val_accuracy: 0.1022\n",
            "Epoch 21/30\n",
            "100/100 [==============================] - 3s 27ms/step - loss: 2.3029 - accuracy: 0.1009 - val_loss: 2.3027 - val_accuracy: 0.0952\n",
            "Epoch 22/30\n",
            "100/100 [==============================] - 3s 27ms/step - loss: 2.3025 - accuracy: 0.1100 - val_loss: 2.3029 - val_accuracy: 0.0952\n",
            "Epoch 23/30\n",
            "100/100 [==============================] - 3s 27ms/step - loss: 2.3027 - accuracy: 0.1000 - val_loss: 2.3030 - val_accuracy: 0.0952\n",
            "Epoch 24/30\n",
            "100/100 [==============================] - 3s 27ms/step - loss: 2.3028 - accuracy: 0.0988 - val_loss: 2.3029 - val_accuracy: 0.0952\n",
            "Epoch 25/30\n",
            "100/100 [==============================] - 3s 27ms/step - loss: 2.3028 - accuracy: 0.0984 - val_loss: 2.3028 - val_accuracy: 0.0977\n",
            "Epoch 26/30\n",
            "100/100 [==============================] - 3s 27ms/step - loss: 2.3026 - accuracy: 0.1044 - val_loss: 2.3029 - val_accuracy: 0.0977\n",
            "Epoch 27/30\n",
            "100/100 [==============================] - 3s 27ms/step - loss: 2.3027 - accuracy: 0.1031 - val_loss: 2.3029 - val_accuracy: 0.0977\n",
            "Epoch 28/30\n",
            "100/100 [==============================] - 3s 27ms/step - loss: 2.3030 - accuracy: 0.1025 - val_loss: 2.3028 - val_accuracy: 0.0977\n",
            "Epoch 29/30\n",
            "100/100 [==============================] - 3s 28ms/step - loss: 2.3030 - accuracy: 0.0944 - val_loss: 2.3028 - val_accuracy: 0.0977\n",
            "Epoch 30/30\n",
            "100/100 [==============================] - 3s 28ms/step - loss: 2.3027 - accuracy: 0.0994 - val_loss: 2.3029 - val_accuracy: 0.0952\n"
          ],
          "name": "stdout"
        },
        {
          "output_type": "execute_result",
          "data": {
            "text/plain": [
              "<tensorflow.python.keras.callbacks.History at 0x7fd7605e2cc0>"
            ]
          },
          "metadata": {
            "tags": []
          },
          "execution_count": 9
        }
      ]
    },
    {
      "cell_type": "code",
      "metadata": {
        "id": "hgOJ8s2Yr5cG",
        "colab_type": "code",
        "colab": {
          "base_uri": "https://localhost:8080/",
          "height": 54
        },
        "outputId": "10645594-2d3c-42e5-9843-12a1659d3ea2"
      },
      "source": [
        "model_alexnet.evaluate(X_test, y_test,verbose=1)"
      ],
      "execution_count": 10,
      "outputs": [
        {
          "output_type": "stream",
          "text": [
            "313/313 [==============================] - 1s 5ms/step - loss: 2.3027 - accuracy: 0.1000\n"
          ],
          "name": "stdout"
        },
        {
          "output_type": "execute_result",
          "data": {
            "text/plain": [
              "[2.3026764392852783, 0.10000000149011612]"
            ]
          },
          "metadata": {
            "tags": []
          },
          "execution_count": 10
        }
      ]
    }
  ]
}