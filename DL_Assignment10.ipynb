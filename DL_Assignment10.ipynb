{
  "nbformat": 4,
  "nbformat_minor": 0,
  "metadata": {
    "colab": {
      "name": "DL_Assignment10.ipynb",
      "provenance": [],
      "collapsed_sections": [],
      "authorship_tag": "ABX9TyO4Hj1nMevtAebqUE3jwXCw"
    },
    "kernelspec": {
      "name": "python3",
      "display_name": "Python 3"
    }
  },
  "cells": [
    {
      "cell_type": "markdown",
      "metadata": {
        "id": "3aZPVb1f2pWs"
      },
      "source": [
        "# Train autoregressive model using RNN, LSTM, GRU (unidirectional) - on multi_window"
      ]
    },
    {
      "cell_type": "code",
      "metadata": {
        "id": "FXO891fL1D3x"
      },
      "source": [
        "import numpy as np\n",
        "import pandas as pd\n",
        "import seaborn as sns\n",
        "import tensorflow as tf\n",
        "import matplotlib as mpl\n",
        "import matplotlib.pyplot as plt\n",
        "import os\n",
        "import datetime\n",
        "import IPython\n",
        "import IPython.display"
      ],
      "execution_count": 1,
      "outputs": []
    },
    {
      "cell_type": "markdown",
      "metadata": {
        "id": "-iovb2cI2m4j"
      },
      "source": [
        "### Fetch the Data"
      ]
    },
    {
      "cell_type": "code",
      "metadata": {
        "id": "E5npQtuf2FI2",
        "outputId": "8c13f48f-14d4-4508-8f38-628d8fcf0c09",
        "colab": {
          "base_uri": "https://localhost:8080/",
          "height": 52
        }
      },
      "source": [
        "zip_path = tf.keras.utils.get_file(\n",
        "    origin='https://storage.googleapis.com/tensorflow/tf-keras-datasets/jena_climate_2009_2016.csv.zip',\n",
        "    fname='jena_climate_2009_2016.csv.zip',\n",
        "    extract=True)\n",
        "csv_path, _ = os.path.splitext(zip_path)"
      ],
      "execution_count": 2,
      "outputs": [
        {
          "output_type": "stream",
          "text": [
            "Downloading data from https://storage.googleapis.com/tensorflow/tf-keras-datasets/jena_climate_2009_2016.csv.zip\n",
            "13574144/13568290 [==============================] - 0s 0us/step\n"
          ],
          "name": "stdout"
        }
      ]
    },
    {
      "cell_type": "code",
      "metadata": {
        "id": "8aeDc0032HVE"
      },
      "source": [
        "dataset = pd.read_csv(csv_path)\n",
        "dataset = dataset[5::6]"
      ],
      "execution_count": 37,
      "outputs": []
    },
    {
      "cell_type": "code",
      "metadata": {
        "id": "W1zdU8dc2fNM",
        "outputId": "2474f90e-190e-4405-c051-73b8dee79170",
        "colab": {
          "base_uri": "https://localhost:8080/",
          "height": 297
        }
      },
      "source": [
        "dataset.head()"
      ],
      "execution_count": 38,
      "outputs": [
        {
          "output_type": "execute_result",
          "data": {
            "text/html": [
              "<div>\n",
              "<style scoped>\n",
              "    .dataframe tbody tr th:only-of-type {\n",
              "        vertical-align: middle;\n",
              "    }\n",
              "\n",
              "    .dataframe tbody tr th {\n",
              "        vertical-align: top;\n",
              "    }\n",
              "\n",
              "    .dataframe thead th {\n",
              "        text-align: right;\n",
              "    }\n",
              "</style>\n",
              "<table border=\"1\" class=\"dataframe\">\n",
              "  <thead>\n",
              "    <tr style=\"text-align: right;\">\n",
              "      <th></th>\n",
              "      <th>Date Time</th>\n",
              "      <th>p (mbar)</th>\n",
              "      <th>T (degC)</th>\n",
              "      <th>Tpot (K)</th>\n",
              "      <th>Tdew (degC)</th>\n",
              "      <th>rh (%)</th>\n",
              "      <th>VPmax (mbar)</th>\n",
              "      <th>VPact (mbar)</th>\n",
              "      <th>VPdef (mbar)</th>\n",
              "      <th>sh (g/kg)</th>\n",
              "      <th>H2OC (mmol/mol)</th>\n",
              "      <th>rho (g/m**3)</th>\n",
              "      <th>wv (m/s)</th>\n",
              "      <th>max. wv (m/s)</th>\n",
              "      <th>wd (deg)</th>\n",
              "    </tr>\n",
              "  </thead>\n",
              "  <tbody>\n",
              "    <tr>\n",
              "      <th>5</th>\n",
              "      <td>01.01.2009 01:00:00</td>\n",
              "      <td>996.50</td>\n",
              "      <td>-8.05</td>\n",
              "      <td>265.38</td>\n",
              "      <td>-8.78</td>\n",
              "      <td>94.4</td>\n",
              "      <td>3.33</td>\n",
              "      <td>3.14</td>\n",
              "      <td>0.19</td>\n",
              "      <td>1.96</td>\n",
              "      <td>3.15</td>\n",
              "      <td>1307.86</td>\n",
              "      <td>0.21</td>\n",
              "      <td>0.63</td>\n",
              "      <td>192.7</td>\n",
              "    </tr>\n",
              "    <tr>\n",
              "      <th>11</th>\n",
              "      <td>01.01.2009 02:00:00</td>\n",
              "      <td>996.62</td>\n",
              "      <td>-8.88</td>\n",
              "      <td>264.54</td>\n",
              "      <td>-9.77</td>\n",
              "      <td>93.2</td>\n",
              "      <td>3.12</td>\n",
              "      <td>2.90</td>\n",
              "      <td>0.21</td>\n",
              "      <td>1.81</td>\n",
              "      <td>2.91</td>\n",
              "      <td>1312.25</td>\n",
              "      <td>0.25</td>\n",
              "      <td>0.63</td>\n",
              "      <td>190.3</td>\n",
              "    </tr>\n",
              "    <tr>\n",
              "      <th>17</th>\n",
              "      <td>01.01.2009 03:00:00</td>\n",
              "      <td>996.84</td>\n",
              "      <td>-8.81</td>\n",
              "      <td>264.59</td>\n",
              "      <td>-9.66</td>\n",
              "      <td>93.5</td>\n",
              "      <td>3.13</td>\n",
              "      <td>2.93</td>\n",
              "      <td>0.20</td>\n",
              "      <td>1.83</td>\n",
              "      <td>2.94</td>\n",
              "      <td>1312.18</td>\n",
              "      <td>0.18</td>\n",
              "      <td>0.63</td>\n",
              "      <td>167.2</td>\n",
              "    </tr>\n",
              "    <tr>\n",
              "      <th>23</th>\n",
              "      <td>01.01.2009 04:00:00</td>\n",
              "      <td>996.99</td>\n",
              "      <td>-9.05</td>\n",
              "      <td>264.34</td>\n",
              "      <td>-10.02</td>\n",
              "      <td>92.6</td>\n",
              "      <td>3.07</td>\n",
              "      <td>2.85</td>\n",
              "      <td>0.23</td>\n",
              "      <td>1.78</td>\n",
              "      <td>2.85</td>\n",
              "      <td>1313.61</td>\n",
              "      <td>0.10</td>\n",
              "      <td>0.38</td>\n",
              "      <td>240.0</td>\n",
              "    </tr>\n",
              "    <tr>\n",
              "      <th>29</th>\n",
              "      <td>01.01.2009 05:00:00</td>\n",
              "      <td>997.46</td>\n",
              "      <td>-9.63</td>\n",
              "      <td>263.72</td>\n",
              "      <td>-10.65</td>\n",
              "      <td>92.2</td>\n",
              "      <td>2.94</td>\n",
              "      <td>2.71</td>\n",
              "      <td>0.23</td>\n",
              "      <td>1.69</td>\n",
              "      <td>2.71</td>\n",
              "      <td>1317.19</td>\n",
              "      <td>0.40</td>\n",
              "      <td>0.88</td>\n",
              "      <td>157.0</td>\n",
              "    </tr>\n",
              "  </tbody>\n",
              "</table>\n",
              "</div>"
            ],
            "text/plain": [
              "              Date Time  p (mbar)  T (degC)  ...  wv (m/s)  max. wv (m/s)  wd (deg)\n",
              "5   01.01.2009 01:00:00    996.50     -8.05  ...      0.21           0.63     192.7\n",
              "11  01.01.2009 02:00:00    996.62     -8.88  ...      0.25           0.63     190.3\n",
              "17  01.01.2009 03:00:00    996.84     -8.81  ...      0.18           0.63     167.2\n",
              "23  01.01.2009 04:00:00    996.99     -9.05  ...      0.10           0.38     240.0\n",
              "29  01.01.2009 05:00:00    997.46     -9.63  ...      0.40           0.88     157.0\n",
              "\n",
              "[5 rows x 15 columns]"
            ]
          },
          "metadata": {
            "tags": []
          },
          "execution_count": 38
        }
      ]
    },
    {
      "cell_type": "code",
      "metadata": {
        "id": "nj_TGa7C2k1M"
      },
      "source": [
        "#Convert the format of date and time\n",
        "date_time = pd.to_datetime(dataset.pop('Date Time'), format='%d.%m.%Y %H:%M:%S')"
      ],
      "execution_count": 39,
      "outputs": []
    },
    {
      "cell_type": "code",
      "metadata": {
        "id": "E9PRzc3c2uML"
      },
      "source": [
        "wv = dataset['wv (m/s)']\n",
        "bad_wv = wv == -9999.0\n",
        "wv[bad_wv] = 0.0"
      ],
      "execution_count": 40,
      "outputs": []
    },
    {
      "cell_type": "code",
      "metadata": {
        "id": "bVoxV9rV2ujU"
      },
      "source": [
        "max_wv = dataset['max. wv (m/s)']\n",
        "bad_max_wv = max_wv == -9999.0\n",
        "max_wv[bad_max_wv] = 0.0"
      ],
      "execution_count": 41,
      "outputs": []
    },
    {
      "cell_type": "markdown",
      "metadata": {
        "id": "2enWO3Wt21gq"
      },
      "source": [
        "#### These inplace edits are reflected in the DataFrame"
      ]
    },
    {
      "cell_type": "code",
      "metadata": {
        "id": "88msH1ie2wxn",
        "outputId": "40c86ecc-541e-4b39-8a3c-c978bcf0920c",
        "colab": {
          "base_uri": "https://localhost:8080/",
          "height": 34
        }
      },
      "source": [
        "dataset['wv (m/s)'].min()"
      ],
      "execution_count": 42,
      "outputs": [
        {
          "output_type": "execute_result",
          "data": {
            "text/plain": [
              "0.0"
            ]
          },
          "metadata": {
            "tags": []
          },
          "execution_count": 42
        }
      ]
    },
    {
      "cell_type": "code",
      "metadata": {
        "id": "qAWYefJV20rn",
        "outputId": "4f910ef9-d41e-4e36-eb25-9a5aa337670b",
        "colab": {
          "base_uri": "https://localhost:8080/",
          "height": 301
        }
      },
      "source": [
        "plt.hist2d(dataset['wd (deg)'], dataset['wv (m/s)'], bins=(50, 50), vmax=400)\n",
        "plt.colorbar()\n",
        "plt.xlabel('Wind Direction [deg]')\n",
        "plt.ylabel('Wind Velocity [m/s]')"
      ],
      "execution_count": 43,
      "outputs": [
        {
          "output_type": "execute_result",
          "data": {
            "text/plain": [
              "Text(0, 0.5, 'Wind Velocity [m/s]')"
            ]
          },
          "metadata": {
            "tags": []
          },
          "execution_count": 43
        },
        {
          "output_type": "display_data",
          "data": {
            "image/png": "[encoded data removed]",
            "text/plain": [
              "<Figure size 432x288 with 2 Axes>"
            ]
          },
          "metadata": {
            "tags": [],
            "needs_background": "light"
          }
        }
      ]
    },
    {
      "cell_type": "code",
      "metadata": {
        "id": "Kd08N9LX3Cib",
        "outputId": "93fdd38c-74b7-4698-aa48-99e0da7059ca",
        "colab": {
          "base_uri": "https://localhost:8080/",
          "height": 230
        }
      },
      "source": [
        "wv = dataset.pop('wv (m/s)')\n",
        "print(wv)\n"
      ],
      "execution_count": 44,
      "outputs": [
        {
          "output_type": "stream",
          "text": [
            "5         0.21\n",
            "11        0.25\n",
            "17        0.18\n",
            "23        0.10\n",
            "29        0.40\n",
            "          ... \n",
            "420521    0.87\n",
            "420527    1.02\n",
            "420533    0.71\n",
            "420539    0.35\n",
            "420545    0.56\n",
            "Name: wv (m/s), Length: 70091, dtype: float64\n"
          ],
          "name": "stdout"
        }
      ]
    },
    {
      "cell_type": "code",
      "metadata": {
        "id": "XmVbUV6T3R2q",
        "outputId": "b93f0af5-fa0b-4167-bc1e-840b9cc12776",
        "colab": {
          "base_uri": "https://localhost:8080/",
          "height": 230
        }
      },
      "source": [
        "max_wv = dataset.pop('max. wv (m/s)')\n",
        "max_wv"
      ],
      "execution_count": 45,
      "outputs": [
        {
          "output_type": "execute_result",
          "data": {
            "text/plain": [
              "5         0.63\n",
              "11        0.63\n",
              "17        0.63\n",
              "23        0.38\n",
              "29        0.88\n",
              "          ... \n",
              "420521    1.36\n",
              "420527    1.92\n",
              "420533    1.56\n",
              "420539    0.68\n",
              "420545    1.00\n",
              "Name: max. wv (m/s), Length: 70091, dtype: float64"
            ]
          },
          "metadata": {
            "tags": []
          },
          "execution_count": 45
        }
      ]
    },
    {
      "cell_type": "code",
      "metadata": {
        "id": "34u-Xyij3Rt6",
        "outputId": "71a01b67-4ae5-4da4-b4a2-c9f928969575",
        "colab": {
          "base_uri": "https://localhost:8080/",
          "height": 230
        }
      },
      "source": [
        "wd_rad = dataset.pop('wd (deg)')*np.pi / 180     # Convert to radians\n",
        "wd_rad"
      ],
      "execution_count": 46,
      "outputs": [
        {
          "output_type": "execute_result",
          "data": {
            "text/plain": [
              "5         3.363249\n",
              "11        3.321362\n",
              "17        2.918191\n",
              "23        4.188790\n",
              "29        2.740167\n",
              "            ...   \n",
              "420521    3.326598\n",
              "420527    3.933972\n",
              "420533    2.769838\n",
              "420539    3.782128\n",
              "420545    3.536037\n",
              "Name: wd (deg), Length: 70091, dtype: float64"
            ]
          },
          "metadata": {
            "tags": []
          },
          "execution_count": 46
        }
      ]
    },
    {
      "cell_type": "code",
      "metadata": {
        "id": "omoN5SmC3KoN"
      },
      "source": [
        "# Calculate the wind x and y components.\n",
        "dataset['Wx'] = wv*np.cos(wd_rad)\n",
        "dataset['Wy'] = wv*np.sin(wd_rad)"
      ],
      "execution_count": 47,
      "outputs": []
    },
    {
      "cell_type": "code",
      "metadata": {
        "id": "lga453fJ3UNQ"
      },
      "source": [
        "# Calculate the max wind x and y components.\n",
        "dataset['max Wx'] = max_wv*np.cos(wd_rad)\n",
        "dataset['max Wy'] = max_wv*np.sin(wd_rad)"
      ],
      "execution_count": 48,
      "outputs": []
    },
    {
      "cell_type": "code",
      "metadata": {
        "id": "k_K8lmkG3WVz",
        "outputId": "903b811d-1d4f-432d-f03a-000506a705a4",
        "colab": {
          "base_uri": "https://localhost:8080/",
          "height": 301
        }
      },
      "source": [
        "plt.hist2d(dataset['Wx'], dataset['Wy'], bins=(50, 50), vmax=400)\n",
        "plt.colorbar()\n",
        "plt.xlabel('Wind X [m/s]')\n",
        "plt.ylabel('Wind Y [m/s]')\n",
        "ax = plt.gca()\n",
        "ax.axis('tight')"
      ],
      "execution_count": 49,
      "outputs": [
        {
          "output_type": "execute_result",
          "data": {
            "text/plain": [
              "(-11.305513973134667, 8.24469928549079, -8.27438540335515, 7.7338312955467785)"
            ]
          },
          "metadata": {
            "tags": []
          },
          "execution_count": 49
        },
        {
          "output_type": "display_data",
          "data": {
            "image/png": "[encoded data removed]",
            "text/plain": [
              "<Figure size 432x288 with 2 Axes>"
            ]
          },
          "metadata": {
            "tags": [],
            "needs_background": "light"
          }
        }
      ]
    },
    {
      "cell_type": "code",
      "metadata": {
        "id": "GTSh0jP33ZOC"
      },
      "source": [
        "timestamp_s = date_time.map(datetime.datetime.timestamp)"
      ],
      "execution_count": 50,
      "outputs": []
    },
    {
      "cell_type": "code",
      "metadata": {
        "id": "JCl38sgb3bvs"
      },
      "source": [
        "day = 24*60*60\n",
        "year = (365.2425)*day"
      ],
      "execution_count": 51,
      "outputs": []
    },
    {
      "cell_type": "code",
      "metadata": {
        "id": "Rc8NALDU3dlu"
      },
      "source": [
        "dataset['Day sin'] = np.sin(timestamp_s * (2 * np.pi / day))\n",
        "dataset['Day cos'] = np.cos(timestamp_s * (2 * np.pi / day))\n",
        "dataset['Year sin'] = np.sin(timestamp_s * (2 * np.pi / year))\n",
        "dataset['Year cos'] = np.cos(timestamp_s * (2 * np.pi / year))"
      ],
      "execution_count": 52,
      "outputs": []
    },
    {
      "cell_type": "code",
      "metadata": {
        "id": "5g0aXzSr3fPt",
        "outputId": "2e6ad17d-a55f-4094-b7cb-b5510a28a05e",
        "colab": {
          "base_uri": "https://localhost:8080/",
          "height": 422
        }
      },
      "source": [
        "plt.figure(figsize=(12,6))\n",
        "plt.plot(np.array(dataset['Day sin'])[:25])\n",
        "plt.plot(np.array(dataset['Day cos'])[:25])\n",
        "plt.xlabel('Time (hour)')\n",
        "plt.title('Time of day signal')"
      ],
      "execution_count": 53,
      "outputs": [
        {
          "output_type": "execute_result",
          "data": {
            "text/plain": [
              "Text(0.5, 1.0, 'Time of day signal')"
            ]
          },
          "metadata": {
            "tags": []
          },
          "execution_count": 53
        },
        {
          "output_type": "display_data",
          "data": {
            "image/png": "[encoded data removed]",
            "text/plain": [
              "<Figure size 864x432 with 1 Axes>"
            ]
          },
          "metadata": {
            "tags": [],
            "needs_background": "light"
          }
        }
      ]
    },
    {
      "cell_type": "code",
      "metadata": {
        "id": "N8taa53g3isM",
        "outputId": "7b2616f0-902b-43cb-f2ea-fe5cca880855",
        "colab": {
          "base_uri": "https://localhost:8080/",
          "height": 283
        }
      },
      "source": [
        "fft = tf.signal.rfft(dataset['T (degC)'])\n",
        "f_per_dataset = np.arange(0, len(fft))\n",
        "\n",
        "n_samples_h = len(dataset['T (degC)'])\n",
        "hours_per_year = 24*365.2524\n",
        "years_per_dataset = n_samples_h/(hours_per_year)\n",
        "\n",
        "f_per_year = f_per_dataset/years_per_dataset\n",
        "plt.step(f_per_year, np.abs(fft))\n",
        "plt.xscale('log')\n",
        "plt.ylim(0, 400000)\n",
        "plt.xlim([0.1, max(plt.xlim())])\n",
        "plt.xticks([1, 365.2524], labels=['1/Year', '1/day'])\n",
        "_ = plt.xlabel('Frequency (log scale)')"
      ],
      "execution_count": 54,
      "outputs": [
        {
          "output_type": "display_data",
          "data": {
            "image/png": "[encoded data removed]",
            "text/plain": [
              "<Figure size 432x288 with 1 Axes>"
            ]
          },
          "metadata": {
            "tags": [],
            "needs_background": "light"
          }
        }
      ]
    },
    {
      "cell_type": "markdown",
      "metadata": {
        "id": "gBXfvz2I3mif"
      },
      "source": [
        "### Splitting the data into test, validation and test set"
      ]
    },
    {
      "cell_type": "code",
      "metadata": {
        "id": "O_b1jOWY3kpJ"
      },
      "source": [
        "column_indices = {name: i for i, name in enumerate(dataset.columns)}\n",
        "\n",
        "n = len(dataset)\n",
        "train_df = dataset[0:int(n*0.7)]\n",
        "val_df = dataset[int(n*0.7):int(n*0.9)]\n",
        "test_df = dataset[int(n*0.9):]\n",
        "\n",
        "num_features = dataset.shape[1]"
      ],
      "execution_count": 55,
      "outputs": []
    },
    {
      "cell_type": "markdown",
      "metadata": {
        "id": "DSqX1leA3tDq"
      },
      "source": [
        "### Normalizing the data"
      ]
    },
    {
      "cell_type": "code",
      "metadata": {
        "id": "6-qNy7Yb3pLv"
      },
      "source": [
        "train_mean = train_df.mean()\n",
        "train_std = train_df.std()\n",
        "\n",
        "train_df = (train_df - train_mean) / train_std\n",
        "val_df = (val_df - train_mean) / train_std\n",
        "test_df = (test_df - train_mean) / train_std"
      ],
      "execution_count": 56,
      "outputs": []
    },
    {
      "cell_type": "code",
      "metadata": {
        "id": "mnTPZFQr3vtj",
        "outputId": "ae4c7c6b-1800-402f-9240-6af9c07e4411",
        "colab": {
          "base_uri": "https://localhost:8080/",
          "height": 358
        }
      },
      "source": [
        "df_std = (dataset - train_mean) / train_std\n",
        "df_std = df_std.melt(var_name='Column', value_name='Normalized')\n",
        "ax = sns.violinplot(x='Column', y='Normalized', data=df_std)\n",
        "_ = ax.set_xticklabels(dataset.keys(), rotation=90)"
      ],
      "execution_count": 57,
      "outputs": [
        {
          "output_type": "display_data",
          "data": {
            "image/png": "[encoded data removed]",
            "text/plain": [
              "<Figure size 432x288 with 1 Axes>"
            ]
          },
          "metadata": {
            "tags": [],
            "needs_background": "light"
          }
        }
      ]
    },
    {
      "cell_type": "code",
      "metadata": {
        "id": "CnNJbOq43xeJ"
      },
      "source": [
        "class WindowGenerator():\n",
        "  def __init__(self, input_width, label_width, shift,\n",
        "               train_df=train_df, val_df=val_df, test_df=test_df,\n",
        "               label_columns=None):\n",
        "    # Store the raw data.\n",
        "    self.train_df = train_df\n",
        "    self.val_df = val_df\n",
        "    self.test_df = test_df\n",
        "\n",
        "    # Work out the label column indices.\n",
        "    self.label_columns = label_columns\n",
        "    if label_columns is not None:\n",
        "      self.label_columns_indices = {name: i for i, name in\n",
        "                                    enumerate(label_columns)}\n",
        "    self.column_indices = {name: i for i, name in\n",
        "                           enumerate(train_df.columns)}\n",
        "\n",
        "    # Work out the window parameters.\n",
        "    self.input_width = input_width\n",
        "    self.label_width = label_width\n",
        "    self.shift = shift\n",
        "\n",
        "    self.total_window_size = input_width + shift\n",
        "\n",
        "    self.input_slice = slice(0, input_width)\n",
        "    self.input_indices = np.arange(self.total_window_size)[self.input_slice]\n",
        "\n",
        "    self.label_start = self.total_window_size - self.label_width\n",
        "    self.labels_slice = slice(self.label_start, None)\n",
        "    self.label_indices = np.arange(self.total_window_size)[self.labels_slice]\n",
        "\n",
        "  def __repr__(self):\n",
        "    return '\\n'.join([\n",
        "        f'Total window size: {self.total_window_size}',\n",
        "        f'Input indices: {self.input_indices}',\n",
        "        f'Label indices: {self.label_indices}',\n",
        "        f'Label column name(s): {self.label_columns}'])"
      ],
      "execution_count": 58,
      "outputs": []
    },
    {
      "cell_type": "code",
      "metadata": {
        "id": "sJLdxbTy31N1"
      },
      "source": [
        "def split_window(self, features):\n",
        "  inputs = features[:, self.input_slice, :]\n",
        "  labels = features[:, self.labels_slice, :]\n",
        "  if self.label_columns is not None:\n",
        "    labels = tf.stack(\n",
        "        [labels[:, :, self.column_indices[name]] for name in self.label_columns],\n",
        "        axis=-1)\n",
        "\n",
        "  # Slicing doesn't preserve static shape information, so set the shapes\n",
        "  # manually. This way the `tf.data.Datasets` are easier to inspect.\n",
        "  inputs.set_shape([None, self.input_width, None])\n",
        "  labels.set_shape([None, self.label_width, None])\n",
        "\n",
        "  return inputs, labels\n",
        "\n",
        "WindowGenerator.split_window = split_window"
      ],
      "execution_count": 59,
      "outputs": []
    },
    {
      "cell_type": "code",
      "metadata": {
        "id": "WSdZ4gb635ji"
      },
      "source": [
        "def plot(self, model=None, plot_col='T (degC)', max_subplots=3):\n",
        "  inputs, labels = self.example\n",
        "  plt.figure(figsize=(12, 8))\n",
        "  plot_col_index = self.column_indices[plot_col]\n",
        "  max_n = min(max_subplots, len(inputs))\n",
        "  for n in range(max_n):\n",
        "    plt.subplot(3, 1, n+1)\n",
        "    plt.ylabel(f'{plot_col} [normed]')\n",
        "    plt.plot(self.input_indices, inputs[n, :, plot_col_index],\n",
        "             label='Inputs', marker='.', zorder=-10)\n",
        "\n",
        "    if self.label_columns:\n",
        "      label_col_index = self.label_columns_indices.get(plot_col, None)\n",
        "    else:\n",
        "      label_col_index = plot_col_index\n",
        "\n",
        "    if label_col_index is None:\n",
        "      continue\n",
        "\n",
        "    plt.scatter(self.label_indices, labels[n, :, label_col_index],\n",
        "                edgecolors='k', label='Labels', c='#2ca02c', s=64)\n",
        "    if model is not None:\n",
        "      predictions = model(inputs)\n",
        "      plt.scatter(self.label_indices, predictions[n, :, label_col_index],\n",
        "                  marker='X', edgecolors='k', label='Predictions',\n",
        "                  c='#ff7f0e', s=64)\n",
        "\n",
        "    if n == 0:\n",
        "      plt.legend()\n",
        "\n",
        "  plt.xlabel('Time [h]')\n",
        "\n",
        "WindowGenerator.plot = plot"
      ],
      "execution_count": 60,
      "outputs": []
    },
    {
      "cell_type": "code",
      "metadata": {
        "id": "Ou5qma5G37Z_"
      },
      "source": [
        "def make_dataset(self, data):\n",
        "  data = np.array(data, dtype=np.float32)\n",
        "  ds = tf.keras.preprocessing.timeseries_dataset_from_array(\n",
        "      data=data,\n",
        "      targets=None,\n",
        "      sequence_length=self.total_window_size,\n",
        "      sequence_stride=1,\n",
        "      shuffle=True,\n",
        "      batch_size=32,)\n",
        "\n",
        "  ds = ds.map(self.split_window)\n",
        "\n",
        "  return ds\n",
        "\n",
        "WindowGenerator.make_dataset = make_dataset"
      ],
      "execution_count": 61,
      "outputs": []
    },
    {
      "cell_type": "code",
      "metadata": {
        "id": "djRBwINc39Dc"
      },
      "source": [
        "@property\n",
        "def train(self):\n",
        "  return self.make_dataset(self.train_df)\n",
        "\n",
        "@property\n",
        "def val(self):\n",
        "  return self.make_dataset(self.val_df)\n",
        "\n",
        "@property\n",
        "def test(self):\n",
        "  return self.make_dataset(self.test_df)\n",
        "\n",
        "@property\n",
        "def example(self):\n",
        "  \"\"\"Get and cache an example batch of `inputs, labels` for plotting.\"\"\"\n",
        "  result = getattr(self, '_example', None)\n",
        "  if result is None:\n",
        "    # No example batch was found, so get one from the `.train` dataset\n",
        "    result = next(iter(self.train))\n",
        "    # And cache it for next time\n",
        "    self._example = result\n",
        "  return result\n",
        "\n",
        "WindowGenerator.train = train\n",
        "WindowGenerator.val = val\n",
        "WindowGenerator.test = test\n",
        "WindowGenerator.example = example"
      ],
      "execution_count": 62,
      "outputs": []
    },
    {
      "cell_type": "code",
      "metadata": {
        "id": "aQfyijKM3_NW"
      },
      "source": [
        "MAX_EPOCHS = 20\n",
        "\n",
        "def compile_and_fit(model, window, patience=2):\n",
        "  early_stopping = tf.keras.callbacks.EarlyStopping(monitor='val_loss',\n",
        "                                                    patience=patience,\n",
        "                                                    mode='min')\n",
        "\n",
        "  model.compile(loss=tf.losses.MeanSquaredError(),\n",
        "                optimizer=tf.optimizers.Adam(),\n",
        "                metrics=[tf.metrics.MeanAbsoluteError()])\n",
        "\n",
        "  history = model.fit(window.train, epochs=MAX_EPOCHS,\n",
        "                      validation_data=window.val,\n",
        "                      callbacks=[early_stopping])\n",
        "  return history"
      ],
      "execution_count": 63,
      "outputs": []
    },
    {
      "cell_type": "code",
      "metadata": {
        "id": "D39KwohZ4Bkf",
        "outputId": "235be238-9345-4434-8eda-065770f7fa97",
        "colab": {
          "base_uri": "https://localhost:8080/",
          "height": 567
        }
      },
      "source": [
        "OUT_STEPS = 24\n",
        "multi_window = WindowGenerator(input_width=24,\n",
        "                               label_width=OUT_STEPS,\n",
        "                               shift=OUT_STEPS)\n",
        "\n",
        "multi_window.plot()\n",
        "multi_window"
      ],
      "execution_count": 64,
      "outputs": [
        {
          "output_type": "execute_result",
          "data": {
            "text/plain": [
              "Total window size: 48\n",
              "Input indices: [ 0  1  2  3  4  5  6  7  8  9 10 11 12 13 14 15 16 17 18 19 20 21 22 23]\n",
              "Label indices: [24 25 26 27 28 29 30 31 32 33 34 35 36 37 38 39 40 41 42 43 44 45 46 47]\n",
              "Label column name(s): None"
            ]
          },
          "metadata": {
            "tags": []
          },
          "execution_count": 64
        },
        {
          "output_type": "display_data",
          "data": {
            "image/png": "[encoded data removed]",
            "text/plain": [
              "<Figure size 864x576 with 3 Axes>"
            ]
          },
          "metadata": {
            "tags": [],
            "needs_background": "light"
          }
        }
      ]
    },
    {
      "cell_type": "markdown",
      "metadata": {
        "id": "INypvKYi4FMy"
      },
      "source": [
        "### Model Building"
      ]
    },
    {
      "cell_type": "markdown",
      "metadata": {
        "id": "tevzY_7T4UGK"
      },
      "source": [
        "### LSTM Model"
      ]
    },
    {
      "cell_type": "code",
      "metadata": {
        "id": "Wc5E897e4DQb",
        "outputId": "b99524aa-5dc7-4a46-deb8-d7b921aea691",
        "colab": {
          "base_uri": "https://localhost:8080/",
          "height": 372
        }
      },
      "source": [
        "ms_lstm = tf.keras.Sequential([\n",
        "                               tf.keras.layers.LSTM(32, return_sequences=False),\n",
        "                               tf.keras.layers.Dense(OUT_STEPS*num_features),\n",
        "                               tf.keras.layers.Reshape([OUT_STEPS, num_features])\n",
        "])\n",
        "\n",
        "history_lstm = compile_and_fit(ms_lstm, multi_window )"
      ],
      "execution_count": 65,
      "outputs": [
        {
          "output_type": "stream",
          "text": [
            "Epoch 1/20\n",
            "1532/1532 [==============================] - 22s 14ms/step - loss: 0.2939 - mean_absolute_error: 0.3646 - val_loss: 0.2311 - val_mean_absolute_error: 0.3069\n",
            "Epoch 2/20\n",
            "1532/1532 [==============================] - 22s 15ms/step - loss: 0.2165 - mean_absolute_error: 0.2937 - val_loss: 0.2211 - val_mean_absolute_error: 0.2941\n",
            "Epoch 3/20\n",
            "1532/1532 [==============================] - 23s 15ms/step - loss: 0.2086 - mean_absolute_error: 0.2846 - val_loss: 0.2167 - val_mean_absolute_error: 0.2887\n",
            "Epoch 4/20\n",
            "1532/1532 [==============================] - 22s 14ms/step - loss: 0.2045 - mean_absolute_error: 0.2803 - val_loss: 0.2156 - val_mean_absolute_error: 0.2865\n",
            "Epoch 5/20\n",
            "1532/1532 [==============================] - 22s 14ms/step - loss: 0.2018 - mean_absolute_error: 0.2777 - val_loss: 0.2149 - val_mean_absolute_error: 0.2856\n",
            "Epoch 6/20\n",
            "1532/1532 [==============================] - 22s 14ms/step - loss: 0.1995 - mean_absolute_error: 0.2758 - val_loss: 0.2143 - val_mean_absolute_error: 0.2853\n",
            "Epoch 7/20\n",
            "1532/1532 [==============================] - 22s 14ms/step - loss: 0.1978 - mean_absolute_error: 0.2744 - val_loss: 0.2140 - val_mean_absolute_error: 0.2842\n",
            "Epoch 8/20\n",
            "1532/1532 [==============================] - 22s 14ms/step - loss: 0.1962 - mean_absolute_error: 0.2732 - val_loss: 0.2138 - val_mean_absolute_error: 0.2842\n",
            "Epoch 9/20\n",
            "1532/1532 [==============================] - 22s 14ms/step - loss: 0.1949 - mean_absolute_error: 0.2723 - val_loss: 0.2144 - val_mean_absolute_error: 0.2846\n",
            "Epoch 10/20\n",
            "1532/1532 [==============================] - 21s 14ms/step - loss: 0.1937 - mean_absolute_error: 0.2716 - val_loss: 0.2149 - val_mean_absolute_error: 0.2854\n"
          ],
          "name": "stdout"
        }
      ]
    },
    {
      "cell_type": "markdown",
      "metadata": {
        "id": "eKnX1nEe4SI7"
      },
      "source": [
        "### RNN Model"
      ]
    },
    {
      "cell_type": "code",
      "metadata": {
        "id": "McG2_o9j4OUM",
        "outputId": "fcbb9162-d33e-4974-e273-e323073b3dc4",
        "colab": {
          "base_uri": "https://localhost:8080/",
          "height": 301
        }
      },
      "source": [
        "ms_rnn  = tf.keras.Sequential([\n",
        "                               tf.keras.layers.SimpleRNN(64, return_sequences=False),\n",
        "                               tf.keras.layers.Dense(OUT_STEPS*num_features),\n",
        "                               tf.keras.layers.Reshape([OUT_STEPS, num_features])\n",
        "])\n",
        "\n",
        "history_rnn = compile_and_fit(ms_rnn, multi_window )"
      ],
      "execution_count": 33,
      "outputs": [
        {
          "output_type": "stream",
          "text": [
            "Epoch 1/20\n",
            "1532/1532 [==============================] - 13s 9ms/step - loss: 0.2671 - mean_absolute_error: 0.3387 - val_loss: 0.2344 - val_mean_absolute_error: 0.3029\n",
            "Epoch 2/20\n",
            "1532/1532 [==============================] - 13s 9ms/step - loss: 0.2216 - mean_absolute_error: 0.2936 - val_loss: 0.2232 - val_mean_absolute_error: 0.2920\n",
            "Epoch 3/20\n",
            "1532/1532 [==============================] - 14s 9ms/step - loss: 0.2148 - mean_absolute_error: 0.2862 - val_loss: 0.2206 - val_mean_absolute_error: 0.2894\n",
            "Epoch 4/20\n",
            "1532/1532 [==============================] - 14s 9ms/step - loss: 0.2117 - mean_absolute_error: 0.2831 - val_loss: 0.2187 - val_mean_absolute_error: 0.2871\n",
            "Epoch 5/20\n",
            "1532/1532 [==============================] - 14s 9ms/step - loss: 0.2094 - mean_absolute_error: 0.2808 - val_loss: 0.2175 - val_mean_absolute_error: 0.2860\n",
            "Epoch 6/20\n",
            "1532/1532 [==============================] - 13s 9ms/step - loss: 0.2077 - mean_absolute_error: 0.2790 - val_loss: 0.2163 - val_mean_absolute_error: 0.2845\n",
            "Epoch 7/20\n",
            "1532/1532 [==============================] - 13s 9ms/step - loss: 0.2065 - mean_absolute_error: 0.2782 - val_loss: 0.2173 - val_mean_absolute_error: 0.2846\n",
            "Epoch 8/20\n",
            "1532/1532 [==============================] - 14s 9ms/step - loss: 0.2053 - mean_absolute_error: 0.2770 - val_loss: 0.2174 - val_mean_absolute_error: 0.2852\n"
          ],
          "name": "stdout"
        }
      ]
    },
    {
      "cell_type": "markdown",
      "metadata": {
        "id": "EiGDGA0r4duR"
      },
      "source": [
        "### GRU Model"
      ]
    },
    {
      "cell_type": "code",
      "metadata": {
        "id": "YQ7ssknw4dTk",
        "outputId": "49e48619-7abe-422d-8482-f4e6a9540844",
        "colab": {
          "base_uri": "https://localhost:8080/",
          "height": 194
        }
      },
      "source": [
        "ms_gru  = tf.keras.Sequential([\n",
        "                               tf.keras.layers.GRU(64, return_sequences=False),\n",
        "                               tf.keras.layers.Dense(OUT_STEPS*num_features),\n",
        "                               tf.keras.layers.Reshape([OUT_STEPS, num_features])\n",
        "])\n",
        "\n",
        "history_gru = compile_and_fit(ms_gru, multi_window )"
      ],
      "execution_count": 34,
      "outputs": [
        {
          "output_type": "stream",
          "text": [
            "Epoch 1/20\n",
            "1532/1532 [==============================] - 25s 16ms/step - loss: 0.2513 - mean_absolute_error: 0.3243 - val_loss: 0.2181 - val_mean_absolute_error: 0.2908\n",
            "Epoch 2/20\n",
            "1532/1532 [==============================] - 25s 16ms/step - loss: 0.2076 - mean_absolute_error: 0.2817 - val_loss: 0.2120 - val_mean_absolute_error: 0.2830\n",
            "Epoch 3/20\n",
            "1532/1532 [==============================] - 25s 16ms/step - loss: 0.2003 - mean_absolute_error: 0.2748 - val_loss: 0.2102 - val_mean_absolute_error: 0.2805\n",
            "Epoch 4/20\n",
            "1532/1532 [==============================] - 25s 16ms/step - loss: 0.1955 - mean_absolute_error: 0.2710 - val_loss: 0.2106 - val_mean_absolute_error: 0.2808\n",
            "Epoch 5/20\n",
            "1532/1532 [==============================] - 25s 17ms/step - loss: 0.1916 - mean_absolute_error: 0.2684 - val_loss: 0.2106 - val_mean_absolute_error: 0.2808\n"
          ],
          "name": "stdout"
        }
      ]
    },
    {
      "cell_type": "markdown",
      "metadata": {
        "id": "PbMn1bci4huT"
      },
      "source": [
        "The lowest validation mean absolute error was found to be 0.2805 that was achieved from the GRU Model"
      ]
    }
  ]
}