{
  "nbformat": 4,
  "nbformat_minor": 0,
  "metadata": {
    "colab": {
      "name": "DL_Assignment4.ipynb",
      "provenance": [],
      "collapsed_sections": [],
      "authorship_tag": "ABX9TyPGpgFEuBhPTl2VSYnY0Su9"
    },
    "kernelspec": {
      "name": "python3",
      "display_name": "Python 3"
    },
    "accelerator": "GPU"
  },
  "cells": [
    {
      "cell_type": "markdown",
      "metadata": {
        "id": "IpX_gv_KqGi6",
        "colab_type": "text"
      },
      "source": [
        "**Build model for CIFAR100, MNIST, Fashion MNIST (test data - accuracy of +80%) - plot metrics accuracy, sparse_cat_acc, top_k, categorical_acc, sparse_topk**\n",
        "\n",
        "**Use activation as layers in the model EarlyStopping and ModelCheckPoint**"
      ]
    },
    {
      "cell_type": "code",
      "metadata": {
        "id": "kOzoOE_gpi54",
        "colab_type": "code",
        "colab": {}
      },
      "source": [
        "import tensorflow as tf\n",
        "from tensorflow import keras\n",
        "from keras.datasets import cifar100,mnist,fashion_mnist\n",
        "from keras.layers import Dense\n",
        "from keras.models import Sequential\n",
        "from keras.utils import to_categorical"
      ],
      "execution_count": 1,
      "outputs": []
    },
    {
      "cell_type": "markdown",
      "metadata": {
        "id": "hSG63o2rsRql",
        "colab_type": "text"
      },
      "source": [
        "**cifar100**"
      ]
    },
    {
      "cell_type": "code",
      "metadata": {
        "id": "Vxu3iZK0sQis",
        "colab_type": "code",
        "colab": {
          "base_uri": "https://localhost:8080/",
          "height": 50
        },
        "outputId": "6054eabe-a58f-4677-a27e-fd33757e6339"
      },
      "source": [
        "#loading the data\n",
        "(x_train,y_train),(x_test,y_test)=cifar100.load_data()"
      ],
      "execution_count": 2,
      "outputs": [
        {
          "output_type": "stream",
          "text": [
            "Downloading data from https://www.cs.toronto.edu/~kriz/cifar-100-python.tar.gz\n",
            "169009152/169001437 [==============================] - 6s 0us/step\n"
          ],
          "name": "stdout"
        }
      ]
    },
    {
      "cell_type": "code",
      "metadata": {
        "id": "8R3W95GUtEd8",
        "colab_type": "code",
        "colab": {
          "base_uri": "https://localhost:8080/",
          "height": 84
        },
        "outputId": "4bb7d0e6-bab7-4f30-b8e3-278f5927030a"
      },
      "source": [
        "print(x_train.shape)\n",
        "print(x_test.shape)\n",
        "print(y_train.shape)\n",
        "print(y_test.shape)"
      ],
      "execution_count": 3,
      "outputs": [
        {
          "output_type": "stream",
          "text": [
            "(50000, 32, 32, 3)\n",
            "(10000, 32, 32, 3)\n",
            "(50000, 1)\n",
            "(10000, 1)\n"
          ],
          "name": "stdout"
        }
      ]
    },
    {
      "cell_type": "code",
      "metadata": {
        "id": "EihXdtjBs-fY",
        "colab_type": "code",
        "colab": {}
      },
      "source": [
        "#preprocessing\n",
        "x_train=x_train.reshape((-1,32*32*3))\n",
        "x_test=x_test.reshape((-1,32*32*3))\n",
        "\n",
        "x_train=x_train.astype('float32')\n",
        "x_test=x_test.astype('float32')\n",
        "\n",
        "x_train=x_train/255\n",
        "x_test=x_test/255\n",
        "\n",
        "y_train=to_categorical(y_train)\n",
        "y_test=to_categorical(y_test)"
      ],
      "execution_count": 4,
      "outputs": []
    },
    {
      "cell_type": "code",
      "metadata": {
        "id": "9yh7SETfug9k",
        "colab_type": "code",
        "colab": {
          "base_uri": "https://localhost:8080/",
          "height": 90
        },
        "outputId": "abc17d1e-1c67-418e-bc60-288970ea61f8"
      },
      "source": [
        "print(x_train.shape)\n",
        "print(x_test.shape)\n",
        "print(y_train.shape)\n",
        "print(y_test.shape)"
      ],
      "execution_count": 13,
      "outputs": [
        {
          "output_type": "stream",
          "text": [
            "(50000, 3072)\n",
            "(10000, 3072)\n",
            "(50000, 100)\n",
            "(10000, 100)\n"
          ],
          "name": "stdout"
        }
      ]
    },
    {
      "cell_type": "code",
      "metadata": {
        "id": "QTq3oT-wulks",
        "colab_type": "code",
        "colab": {
          "base_uri": "https://localhost:8080/",
          "height": 308
        },
        "outputId": "485094e7-7401-455e-aab6-46f1fc3ff8f4"
      },
      "source": [
        "# Model building\n",
        "\n",
        "#initializer=keras.initializers.glorot_normal()\n",
        "#initializer=keras.initializers.lecun_uniform()\n",
        "initializer=keras.initializers.glorot_uniform()\n",
        "\n",
        "model=Sequential([\n",
        "                  Dense(1024,input_dim=3072,kernel_initializer=initializer,bias_initializer=initializer,activation='relu'),\n",
        "                  Dense(1000,activation='relu',kernel_initializer=initializer,bias_initializer=initializer),\n",
        "                  Dense(512,activation='relu',kernel_initializer=initializer,bias_initializer=initializer),\n",
        "                  Dense(100,activation='softmax',kernel_initializer=initializer,bias_initializer=initializer)\n",
        "])\n",
        "model.summary()"
      ],
      "execution_count": 14,
      "outputs": [
        {
          "output_type": "stream",
          "text": [
            "Model: \"sequential_2\"\n",
            "_________________________________________________________________\n",
            "Layer (type)                 Output Shape              Param #   \n",
            "=================================================================\n",
            "dense_8 (Dense)              (None, 1024)              3146752   \n",
            "_________________________________________________________________\n",
            "dense_9 (Dense)              (None, 1000)              1025000   \n",
            "_________________________________________________________________\n",
            "dense_10 (Dense)             (None, 512)               512512    \n",
            "_________________________________________________________________\n",
            "dense_11 (Dense)             (None, 100)               51300     \n",
            "=================================================================\n",
            "Total params: 4,735,564\n",
            "Trainable params: 4,735,564\n",
            "Non-trainable params: 0\n",
            "_________________________________________________________________\n"
          ],
          "name": "stdout"
        }
      ]
    },
    {
      "cell_type": "code",
      "metadata": {
        "id": "4Ben0-razhGj",
        "colab_type": "code",
        "colab": {}
      },
      "source": [
        "# compile model\n",
        "model.compile(optimizer='sgd',loss='categorical_crossentropy',metrics=['accuracy'])\n",
        "\n",
        "#fitting model\n",
        "filepath=\"weights.{epoch:02d}-{val_loss:.2f}.hdf5\"\n",
        "earlystopping=keras.callbacks.EarlyStopping(monitor='val_loss', verbose=1, patience=5, mode=\"min\")\n",
        "checkpoint=keras.callbacks.ModelCheckpoint(filepath, monitor='val_accuracy', verbose=1, save_best_only=True, mode=\"max\")\n"
      ],
      "execution_count": 15,
      "outputs": []
    },
    {
      "cell_type": "code",
      "metadata": {
        "id": "F9y_r3gt3FjJ",
        "colab_type": "code",
        "colab": {
          "base_uri": "https://localhost:8080/",
          "height": 1000
        },
        "outputId": "b192726a-a01d-4bd7-86e8-383870f16997"
      },
      "source": [
        "history=model.fit(x_train,y_train,validation_split=0.2,epochs=20,verbose=1,callbacks=[earlystopping,checkpoint]) "
      ],
      "execution_count": 16,
      "outputs": [
        {
          "output_type": "stream",
          "text": [
            "Epoch 1/20\n",
            "1236/1250 [============================>.] - ETA: 0s - loss: 4.2464 - accuracy: 0.0584\n",
            "Epoch 00001: val_accuracy improved from -inf to 0.09800, saving model to weights.01-3.99.hdf5\n",
            "1250/1250 [==============================] - 4s 3ms/step - loss: 4.2432 - accuracy: 0.0590 - val_loss: 3.9872 - val_accuracy: 0.0980\n",
            "Epoch 2/20\n",
            "1238/1250 [============================>.] - ETA: 0s - loss: 3.8555 - accuracy: 0.1148\n",
            "Epoch 00002: val_accuracy improved from 0.09800 to 0.13280, saving model to weights.02-3.78.hdf5\n",
            "1250/1250 [==============================] - 4s 3ms/step - loss: 3.8546 - accuracy: 0.1150 - val_loss: 3.7809 - val_accuracy: 0.1328\n",
            "Epoch 3/20\n",
            "1246/1250 [============================>.] - ETA: 0s - loss: 3.6740 - accuracy: 0.1467\n",
            "Epoch 00003: val_accuracy improved from 0.13280 to 0.15510, saving model to weights.03-3.65.hdf5\n",
            "1250/1250 [==============================] - 4s 3ms/step - loss: 3.6736 - accuracy: 0.1469 - val_loss: 3.6488 - val_accuracy: 0.1551\n",
            "Epoch 4/20\n",
            "1245/1250 [============================>.] - ETA: 0s - loss: 3.5601 - accuracy: 0.1682\n",
            "Epoch 00004: val_accuracy improved from 0.15510 to 0.16670, saving model to weights.04-3.59.hdf5\n",
            "1250/1250 [==============================] - 4s 3ms/step - loss: 3.5599 - accuracy: 0.1683 - val_loss: 3.5879 - val_accuracy: 0.1667\n",
            "Epoch 5/20\n",
            "1249/1250 [============================>.] - ETA: 0s - loss: 3.4673 - accuracy: 0.1851\n",
            "Epoch 00005: val_accuracy improved from 0.16670 to 0.17960, saving model to weights.05-3.50.hdf5\n",
            "1250/1250 [==============================] - 4s 3ms/step - loss: 3.4672 - accuracy: 0.1851 - val_loss: 3.4978 - val_accuracy: 0.1796\n",
            "Epoch 6/20\n",
            "1230/1250 [============================>.] - ETA: 0s - loss: 3.3871 - accuracy: 0.1976\n",
            "Epoch 00006: val_accuracy improved from 0.17960 to 0.18810, saving model to weights.06-3.44.hdf5\n",
            "1250/1250 [==============================] - 4s 3ms/step - loss: 3.3872 - accuracy: 0.1975 - val_loss: 3.4399 - val_accuracy: 0.1881\n",
            "Epoch 7/20\n",
            "1234/1250 [============================>.] - ETA: 0s - loss: 3.3108 - accuracy: 0.2128\n",
            "Epoch 00007: val_accuracy improved from 0.18810 to 0.19820, saving model to weights.07-3.40.hdf5\n",
            "1250/1250 [==============================] - 4s 3ms/step - loss: 3.3117 - accuracy: 0.2125 - val_loss: 3.4008 - val_accuracy: 0.1982\n",
            "Epoch 8/20\n",
            "1249/1250 [============================>.] - ETA: 0s - loss: 3.2492 - accuracy: 0.2238\n",
            "Epoch 00008: val_accuracy improved from 0.19820 to 0.20320, saving model to weights.08-3.36.hdf5\n",
            "1250/1250 [==============================] - 4s 3ms/step - loss: 3.2492 - accuracy: 0.2237 - val_loss: 3.3627 - val_accuracy: 0.2032\n",
            "Epoch 9/20\n",
            "1229/1250 [============================>.] - ETA: 0s - loss: 3.1818 - accuracy: 0.2365\n",
            "Epoch 00009: val_accuracy improved from 0.20320 to 0.21540, saving model to weights.09-3.30.hdf5\n",
            "1250/1250 [==============================] - 4s 3ms/step - loss: 3.1821 - accuracy: 0.2369 - val_loss: 3.3049 - val_accuracy: 0.2154\n",
            "Epoch 10/20\n",
            "1241/1250 [============================>.] - ETA: 0s - loss: 3.1247 - accuracy: 0.2446\n",
            "Epoch 00010: val_accuracy improved from 0.21540 to 0.21910, saving model to weights.10-3.29.hdf5\n",
            "1250/1250 [==============================] - 4s 3ms/step - loss: 3.1239 - accuracy: 0.2444 - val_loss: 3.2909 - val_accuracy: 0.2191\n",
            "Epoch 11/20\n",
            "1250/1250 [==============================] - ETA: 0s - loss: 3.0655 - accuracy: 0.2562\n",
            "Epoch 00011: val_accuracy improved from 0.21910 to 0.22130, saving model to weights.11-3.27.hdf5\n",
            "1250/1250 [==============================] - 4s 3ms/step - loss: 3.0655 - accuracy: 0.2562 - val_loss: 3.2669 - val_accuracy: 0.2213\n",
            "Epoch 12/20\n",
            "1239/1250 [============================>.] - ETA: 0s - loss: 3.0115 - accuracy: 0.2678\n",
            "Epoch 00012: val_accuracy did not improve from 0.22130\n",
            "1250/1250 [==============================] - 4s 3ms/step - loss: 3.0107 - accuracy: 0.2681 - val_loss: 3.2911 - val_accuracy: 0.2188\n",
            "Epoch 13/20\n",
            "1230/1250 [============================>.] - ETA: 0s - loss: 2.9562 - accuracy: 0.2794\n",
            "Epoch 00013: val_accuracy did not improve from 0.22130\n",
            "1250/1250 [==============================] - 4s 3ms/step - loss: 2.9570 - accuracy: 0.2792 - val_loss: 3.2710 - val_accuracy: 0.2187\n",
            "Epoch 14/20\n",
            "1230/1250 [============================>.] - ETA: 0s - loss: 2.9050 - accuracy: 0.2861\n",
            "Epoch 00014: val_accuracy improved from 0.22130 to 0.22980, saving model to weights.14-3.22.hdf5\n",
            "1250/1250 [==============================] - 4s 3ms/step - loss: 2.9060 - accuracy: 0.2860 - val_loss: 3.2220 - val_accuracy: 0.2298\n",
            "Epoch 15/20\n",
            "1248/1250 [============================>.] - ETA: 0s - loss: 2.8561 - accuracy: 0.2979\n",
            "Epoch 00015: val_accuracy improved from 0.22980 to 0.23670, saving model to weights.15-3.19.hdf5\n",
            "1250/1250 [==============================] - 4s 3ms/step - loss: 2.8559 - accuracy: 0.2979 - val_loss: 3.1899 - val_accuracy: 0.2367\n",
            "Epoch 16/20\n",
            "1243/1250 [============================>.] - ETA: 0s - loss: 2.8054 - accuracy: 0.3058\n",
            "Epoch 00016: val_accuracy did not improve from 0.23670\n",
            "1250/1250 [==============================] - 4s 3ms/step - loss: 2.8052 - accuracy: 0.3059 - val_loss: 3.1963 - val_accuracy: 0.2318\n",
            "Epoch 17/20\n",
            "1240/1250 [============================>.] - ETA: 0s - loss: 2.7543 - accuracy: 0.3170\n",
            "Epoch 00017: val_accuracy improved from 0.23670 to 0.24030, saving model to weights.17-3.19.hdf5\n",
            "1250/1250 [==============================] - 4s 3ms/step - loss: 2.7540 - accuracy: 0.3171 - val_loss: 3.1870 - val_accuracy: 0.2403\n",
            "Epoch 18/20\n",
            "1238/1250 [============================>.] - ETA: 0s - loss: 2.7048 - accuracy: 0.3265\n",
            "Epoch 00018: val_accuracy did not improve from 0.24030\n",
            "1250/1250 [==============================] - 4s 3ms/step - loss: 2.7042 - accuracy: 0.3264 - val_loss: 3.1803 - val_accuracy: 0.2393\n",
            "Epoch 19/20\n",
            "1232/1250 [============================>.] - ETA: 0s - loss: 2.6555 - accuracy: 0.3366\n",
            "Epoch 00019: val_accuracy improved from 0.24030 to 0.24580, saving model to weights.19-3.17.hdf5\n",
            "1250/1250 [==============================] - 4s 3ms/step - loss: 2.6554 - accuracy: 0.3368 - val_loss: 3.1703 - val_accuracy: 0.2458\n",
            "Epoch 20/20\n",
            "1231/1250 [============================>.] - ETA: 0s - loss: 2.6013 - accuracy: 0.3483\n",
            "Epoch 00020: val_accuracy improved from 0.24580 to 0.25010, saving model to weights.20-3.13.hdf5\n",
            "1250/1250 [==============================] - 4s 3ms/step - loss: 2.6036 - accuracy: 0.3480 - val_loss: 3.1304 - val_accuracy: 0.2501\n"
          ],
          "name": "stdout"
        }
      ]
    },
    {
      "cell_type": "code",
      "metadata": {
        "id": "GF2WV6LN5k77",
        "colab_type": "code",
        "colab": {
          "base_uri": "https://localhost:8080/",
          "height": 72
        },
        "outputId": "14715863-9703-4915-f0c1-c15a308a5cee"
      },
      "source": [
        "test_loss,test_accuracy=model.evaluate(x_test,y_test)\n",
        "print('test set loss : ',test_loss)\n",
        "print('test set accuracy : ',test_accuracy)"
      ],
      "execution_count": 17,
      "outputs": [
        {
          "output_type": "stream",
          "text": [
            "313/313 [==============================] - 1s 2ms/step - loss: 3.1323 - accuracy: 0.2554\n",
            "test set loss :  3.132260322570801\n",
            "test set accuracy :  0.25540000200271606\n"
          ],
          "name": "stdout"
        }
      ]
    },
    {
      "cell_type": "code",
      "metadata": {
        "id": "_dcDoSjA4nHC",
        "colab_type": "code",
        "colab": {
          "base_uri": "https://localhost:8080/",
          "height": 295
        },
        "outputId": "3b2c58c0-625a-499e-8a41-4adc39f142e1"
      },
      "source": [
        "import matplotlib.pyplot as plt\n",
        "\n",
        "plt.plot(history.history['accuracy'])\n",
        "plt.plot(history.history['val_accuracy'])\n",
        "plt.title('Training and validation accuracy')\n",
        "plt.ylabel('Accuracy')\n",
        "plt.xlabel('Epochs')\n",
        "plt.legend(['Train', 'Validation'], loc = 'upper left')\n",
        "plt.show()"
      ],
      "execution_count": 18,
      "outputs": [
        {
          "output_type": "display_data",
          "data": {
            "image/png": "[encoded data removed]",
            "text/plain": [
              "<Figure size 432x288 with 1 Axes>"
            ]
          },
          "metadata": {
            "tags": [],
            "needs_background": "light"
          }
        }
      ]
    },
    {
      "cell_type": "markdown",
      "metadata": {
        "id": "XNa2rIy755ha",
        "colab_type": "text"
      },
      "source": [
        "**MNIST**"
      ]
    },
    {
      "cell_type": "code",
      "metadata": {
        "id": "pamaLsPG3lXR",
        "colab_type": "code",
        "colab": {}
      },
      "source": [
        "#loading the data\n",
        "(x_train,y_train),(x_test,y_test)=mnist.load_data()"
      ],
      "execution_count": 68,
      "outputs": []
    },
    {
      "cell_type": "code",
      "metadata": {
        "id": "NJB8WAPd7a5C",
        "colab_type": "code",
        "colab": {
          "base_uri": "https://localhost:8080/",
          "height": 90
        },
        "outputId": "21f39df9-ddc5-4a60-a355-5039eb2e1104"
      },
      "source": [
        "print(x_train.shape)\n",
        "print(x_test.shape)\n",
        "print(y_train.shape)\n",
        "print(y_test.shape)"
      ],
      "execution_count": 69,
      "outputs": [
        {
          "output_type": "stream",
          "text": [
            "(60000, 28, 28)\n",
            "(10000, 28, 28)\n",
            "(60000,)\n",
            "(10000,)\n"
          ],
          "name": "stdout"
        }
      ]
    },
    {
      "cell_type": "code",
      "metadata": {
        "id": "yqSGh7GUASo_",
        "colab_type": "code",
        "colab": {
          "base_uri": "https://localhost:8080/",
          "height": 279
        },
        "outputId": "9824d665-0164-442b-8222-01af911baf0f"
      },
      "source": [
        "plt.imshow(x_train[0])\n",
        "plt.xlabel(y_train[0])\n",
        "plt.show()"
      ],
      "execution_count": 27,
      "outputs": [
        {
          "output_type": "display_data",
          "data": {
            "image/png": "[encoded data removed]",
            "text/plain": [
              "<Figure size 432x288 with 1 Axes>"
            ]
          },
          "metadata": {
            "tags": [],
            "needs_background": "light"
          }
        }
      ]
    },
    {
      "cell_type": "code",
      "metadata": {
        "id": "uyQ_Qk_LAfU_",
        "colab_type": "code",
        "colab": {
          "base_uri": "https://localhost:8080/",
          "height": 270
        },
        "outputId": "0ce62822-7066-40a6-fd5d-d6dad2340bc5"
      },
      "source": [
        "plt.figure(figsize=(10,10))\n",
        "\n",
        "for i in range(10):\n",
        "  plt.subplot(5,5,i+1)\n",
        "  plt.imshow(x_train[i])\n",
        "  plt.xlabel(y_train[i])\n",
        "plt.show()"
      ],
      "execution_count": 41,
      "outputs": [
        {
          "output_type": "display_data",
          "data": {
            "image/png": "[encoded data removed]",
            "text/plain": [
              "<Figure size 720x720 with 10 Axes>"
            ]
          },
          "metadata": {
            "tags": [],
            "needs_background": "light"
          }
        }
      ]
    },
    {
      "cell_type": "code",
      "metadata": {
        "id": "Jxrf_SOs7e98",
        "colab_type": "code",
        "colab": {}
      },
      "source": [
        "#preprocessing\n",
        "x_train=x_train.reshape(60000,28*28)\n",
        "x_test=x_test.reshape(10000,28*28)\n",
        "\n",
        "x_train=x_train.astype('float32')\n",
        "x_test=x_test.astype('float32')\n",
        "\n",
        "x_train=x_train/255\n",
        "x_test=x_test/255\n",
        "\n",
        "y_train=to_categorical(y_train)\n",
        "y_test=to_categorical(y_test)"
      ],
      "execution_count": 70,
      "outputs": []
    },
    {
      "cell_type": "code",
      "metadata": {
        "id": "BmTztcpR8IRG",
        "colab_type": "code",
        "colab": {
          "base_uri": "https://localhost:8080/",
          "height": 90
        },
        "outputId": "80548300-0d78-40b3-f7be-9fef9e0dc8dd"
      },
      "source": [
        "print(x_train.shape)\n",
        "print(x_test.shape)\n",
        "print(y_train.shape)\n",
        "print(y_test.shape)"
      ],
      "execution_count": 56,
      "outputs": [
        {
          "output_type": "stream",
          "text": [
            "(60000, 784)\n",
            "(10000, 784)\n",
            "(60000, 10)\n",
            "(10000, 10)\n"
          ],
          "name": "stdout"
        }
      ]
    },
    {
      "cell_type": "code",
      "metadata": {
        "id": "WMVSRFmb7hoD",
        "colab_type": "code",
        "colab": {
          "base_uri": "https://localhost:8080/",
          "height": 308
        },
        "outputId": "dc3ad4d4-982c-4985-8aec-05ea8c49b88b"
      },
      "source": [
        "# Model building\n",
        "\n",
        "#initializer=keras.initializers.glorot_normal()\n",
        "#initializer=keras.initializers.lecun_uniform()\n",
        "initializer=keras.initializers.glorot_uniform()\n",
        "\n",
        "model=Sequential([\n",
        "                  Dense(1024,input_dim=784,kernel_initializer=initializer,bias_initializer=initializer,activation='relu'),\n",
        "                  Dense(1000,activation='relu',kernel_initializer=initializer,bias_initializer=initializer),\n",
        "                  Dense(512,activation='relu',kernel_initializer=initializer,bias_initializer=initializer),\n",
        "                  Dense(10,activation='softmax',kernel_initializer=initializer,bias_initializer=initializer)\n",
        "])\n",
        "model.summary()"
      ],
      "execution_count": 71,
      "outputs": [
        {
          "output_type": "stream",
          "text": [
            "Model: \"sequential_8\"\n",
            "_________________________________________________________________\n",
            "Layer (type)                 Output Shape              Param #   \n",
            "=================================================================\n",
            "dense_32 (Dense)             (None, 1024)              803840    \n",
            "_________________________________________________________________\n",
            "dense_33 (Dense)             (None, 1000)              1025000   \n",
            "_________________________________________________________________\n",
            "dense_34 (Dense)             (None, 512)               512512    \n",
            "_________________________________________________________________\n",
            "dense_35 (Dense)             (None, 10)                5130      \n",
            "=================================================================\n",
            "Total params: 2,346,482\n",
            "Trainable params: 2,346,482\n",
            "Non-trainable params: 0\n",
            "_________________________________________________________________\n"
          ],
          "name": "stdout"
        }
      ]
    },
    {
      "cell_type": "markdown",
      "metadata": {
        "id": "bJI29cyHCRh9",
        "colab_type": "text"
      },
      "source": [
        "Metrics = Accuracy"
      ]
    },
    {
      "cell_type": "code",
      "metadata": {
        "id": "nQZJYroD7quF",
        "colab_type": "code",
        "colab": {}
      },
      "source": [
        "# compile model\n",
        "model.compile(optimizer='sgd',loss='categorical_crossentropy',metrics=['accuracy'])\n",
        "\n",
        "#fitting model\n",
        "filepath=\"weights.{epoch:02d}-{val_loss:.2f}.hdf5\"\n",
        "earlystopping=keras.callbacks.EarlyStopping(monitor='val_loss', verbose=1, patience=5, mode=\"min\")\n",
        "checkpoint=keras.callbacks.ModelCheckpoint(filepath, monitor='val_accuracy', verbose=1, save_best_only=True, mode=\"max\")\n"
      ],
      "execution_count": 63,
      "outputs": []
    },
    {
      "cell_type": "code",
      "metadata": {
        "id": "aLUNHOZd7rIk",
        "colab_type": "code",
        "colab": {
          "base_uri": "https://localhost:8080/",
          "height": 1000
        },
        "outputId": "14715190-e84e-4465-b425-980577154c6a"
      },
      "source": [
        "history=model.fit(x_train,y_train,validation_split=0.2,epochs=20,verbose=1,callbacks=[earlystopping,checkpoint]) "
      ],
      "execution_count": 64,
      "outputs": [
        {
          "output_type": "stream",
          "text": [
            "Epoch 1/20\n",
            "1477/1500 [============================>.] - ETA: 0s - loss: 0.5797 - accuracy: 0.8529\n",
            "Epoch 00001: val_accuracy improved from -inf to 0.91325, saving model to weights.01-0.30.hdf5\n",
            "1500/1500 [==============================] - 4s 2ms/step - loss: 0.5750 - accuracy: 0.8540 - val_loss: 0.2980 - val_accuracy: 0.9133\n",
            "Epoch 2/20\n",
            "1483/1500 [============================>.] - ETA: 0s - loss: 0.2558 - accuracy: 0.9267\n",
            "Epoch 00002: val_accuracy improved from 0.91325 to 0.93958, saving model to weights.02-0.21.hdf5\n",
            "1500/1500 [==============================] - 4s 2ms/step - loss: 0.2554 - accuracy: 0.9269 - val_loss: 0.2138 - val_accuracy: 0.9396\n",
            "Epoch 3/20\n",
            "1499/1500 [============================>.] - ETA: 0s - loss: 0.1996 - accuracy: 0.9430\n",
            "Epoch 00003: val_accuracy improved from 0.93958 to 0.95108, saving model to weights.03-0.18.hdf5\n",
            "1500/1500 [==============================] - 4s 3ms/step - loss: 0.1996 - accuracy: 0.9430 - val_loss: 0.1817 - val_accuracy: 0.9511\n",
            "Epoch 4/20\n",
            "1496/1500 [============================>.] - ETA: 0s - loss: 0.1615 - accuracy: 0.9533\n",
            "Epoch 00004: val_accuracy improved from 0.95108 to 0.95808, saving model to weights.04-0.15.hdf5\n",
            "1500/1500 [==============================] - 4s 3ms/step - loss: 0.1615 - accuracy: 0.9533 - val_loss: 0.1526 - val_accuracy: 0.9581\n",
            "Epoch 5/20\n",
            "1486/1500 [============================>.] - ETA: 0s - loss: 0.1356 - accuracy: 0.9612\n",
            "Epoch 00005: val_accuracy improved from 0.95808 to 0.95883, saving model to weights.05-0.14.hdf5\n",
            "1500/1500 [==============================] - 4s 3ms/step - loss: 0.1356 - accuracy: 0.9611 - val_loss: 0.1396 - val_accuracy: 0.9588\n",
            "Epoch 6/20\n",
            "1497/1500 [============================>.] - ETA: 0s - loss: 0.1157 - accuracy: 0.9669\n",
            "Epoch 00006: val_accuracy improved from 0.95883 to 0.96542, saving model to weights.06-0.12.hdf5\n",
            "1500/1500 [==============================] - 4s 2ms/step - loss: 0.1157 - accuracy: 0.9669 - val_loss: 0.1218 - val_accuracy: 0.9654\n",
            "Epoch 7/20\n",
            "1485/1500 [============================>.] - ETA: 0s - loss: 0.0998 - accuracy: 0.9719\n",
            "Epoch 00007: val_accuracy improved from 0.96542 to 0.96583, saving model to weights.07-0.12.hdf5\n",
            "1500/1500 [==============================] - 4s 2ms/step - loss: 0.0999 - accuracy: 0.9718 - val_loss: 0.1202 - val_accuracy: 0.9658\n",
            "Epoch 8/20\n",
            "1498/1500 [============================>.] - ETA: 0s - loss: 0.0870 - accuracy: 0.9757\n",
            "Epoch 00008: val_accuracy improved from 0.96583 to 0.96725, saving model to weights.08-0.11.hdf5\n",
            "1500/1500 [==============================] - 4s 3ms/step - loss: 0.0870 - accuracy: 0.9758 - val_loss: 0.1122 - val_accuracy: 0.9672\n",
            "Epoch 9/20\n",
            "1491/1500 [============================>.] - ETA: 0s - loss: 0.0757 - accuracy: 0.9787\n",
            "Epoch 00009: val_accuracy did not improve from 0.96725\n",
            "1500/1500 [==============================] - 4s 2ms/step - loss: 0.0760 - accuracy: 0.9787 - val_loss: 0.1166 - val_accuracy: 0.9661\n",
            "Epoch 10/20\n",
            "1484/1500 [============================>.] - ETA: 0s - loss: 0.0673 - accuracy: 0.9815\n",
            "Epoch 00010: val_accuracy improved from 0.96725 to 0.97117, saving model to weights.10-0.10.hdf5\n",
            "1500/1500 [==============================] - 4s 2ms/step - loss: 0.0674 - accuracy: 0.9814 - val_loss: 0.1006 - val_accuracy: 0.9712\n",
            "Epoch 11/20\n",
            "1477/1500 [============================>.] - ETA: 0s - loss: 0.0594 - accuracy: 0.9838\n",
            "Epoch 00011: val_accuracy improved from 0.97117 to 0.97275, saving model to weights.11-0.09.hdf5\n",
            "1500/1500 [==============================] - 4s 2ms/step - loss: 0.0592 - accuracy: 0.9839 - val_loss: 0.0923 - val_accuracy: 0.9728\n",
            "Epoch 12/20\n",
            "1485/1500 [============================>.] - ETA: 0s - loss: 0.0527 - accuracy: 0.9857\n",
            "Epoch 00012: val_accuracy improved from 0.97275 to 0.97358, saving model to weights.12-0.09.hdf5\n",
            "1500/1500 [==============================] - 4s 2ms/step - loss: 0.0526 - accuracy: 0.9857 - val_loss: 0.0889 - val_accuracy: 0.9736\n",
            "Epoch 13/20\n",
            "1496/1500 [============================>.] - ETA: 0s - loss: 0.0473 - accuracy: 0.9876\n",
            "Epoch 00013: val_accuracy improved from 0.97358 to 0.97558, saving model to weights.13-0.09.hdf5\n",
            "1500/1500 [==============================] - 4s 2ms/step - loss: 0.0472 - accuracy: 0.9876 - val_loss: 0.0850 - val_accuracy: 0.9756\n",
            "Epoch 14/20\n",
            "1489/1500 [============================>.] - ETA: 0s - loss: 0.0416 - accuracy: 0.9896\n",
            "Epoch 00014: val_accuracy did not improve from 0.97558\n",
            "1500/1500 [==============================] - 4s 2ms/step - loss: 0.0416 - accuracy: 0.9896 - val_loss: 0.0870 - val_accuracy: 0.9743\n",
            "Epoch 15/20\n",
            "1478/1500 [============================>.] - ETA: 0s - loss: 0.0374 - accuracy: 0.9904\n",
            "Epoch 00015: val_accuracy did not improve from 0.97558\n",
            "1500/1500 [==============================] - 4s 2ms/step - loss: 0.0373 - accuracy: 0.9905 - val_loss: 0.0843 - val_accuracy: 0.9752\n",
            "Epoch 16/20\n",
            "1495/1500 [============================>.] - ETA: 0s - loss: 0.0329 - accuracy: 0.9921\n",
            "Epoch 00016: val_accuracy improved from 0.97558 to 0.97633, saving model to weights.16-0.08.hdf5\n",
            "1500/1500 [==============================] - 4s 2ms/step - loss: 0.0330 - accuracy: 0.9920 - val_loss: 0.0833 - val_accuracy: 0.9763\n",
            "Epoch 17/20\n",
            "1480/1500 [============================>.] - ETA: 0s - loss: 0.0291 - accuracy: 0.9932\n",
            "Epoch 00017: val_accuracy did not improve from 0.97633\n",
            "1500/1500 [==============================] - 4s 2ms/step - loss: 0.0292 - accuracy: 0.9932 - val_loss: 0.0827 - val_accuracy: 0.9760\n",
            "Epoch 18/20\n",
            "1477/1500 [============================>.] - ETA: 0s - loss: 0.0259 - accuracy: 0.9939\n",
            "Epoch 00018: val_accuracy did not improve from 0.97633\n",
            "1500/1500 [==============================] - 4s 2ms/step - loss: 0.0259 - accuracy: 0.9939 - val_loss: 0.0872 - val_accuracy: 0.9743\n",
            "Epoch 19/20\n",
            "1497/1500 [============================>.] - ETA: 0s - loss: 0.0232 - accuracy: 0.9949\n",
            "Epoch 00019: val_accuracy improved from 0.97633 to 0.97658, saving model to weights.19-0.08.hdf5\n",
            "1500/1500 [==============================] - 4s 2ms/step - loss: 0.0231 - accuracy: 0.9950 - val_loss: 0.0810 - val_accuracy: 0.9766\n",
            "Epoch 20/20\n",
            "1499/1500 [============================>.] - ETA: 0s - loss: 0.0207 - accuracy: 0.9957\n",
            "Epoch 00020: val_accuracy improved from 0.97658 to 0.97783, saving model to weights.20-0.08.hdf5\n",
            "1500/1500 [==============================] - 4s 2ms/step - loss: 0.0207 - accuracy: 0.9958 - val_loss: 0.0802 - val_accuracy: 0.9778\n"
          ],
          "name": "stdout"
        }
      ]
    },
    {
      "cell_type": "code",
      "metadata": {
        "id": "UdMf5gvC7ta6",
        "colab_type": "code",
        "colab": {
          "base_uri": "https://localhost:8080/",
          "height": 72
        },
        "outputId": "bdf1ae44-d26f-40b7-9a53-645f9ff12289"
      },
      "source": [
        "test_loss,test_accuracy=model.evaluate(x_test,y_test)\n",
        "print('test set loss : ',test_loss)\n",
        "print('test set accuracy : ',test_accuracy)"
      ],
      "execution_count": 65,
      "outputs": [
        {
          "output_type": "stream",
          "text": [
            "313/313 [==============================] - 1s 2ms/step - loss: 0.0676 - accuracy: 0.9789\n",
            "test set loss :  0.06755856424570084\n",
            "test set accuracy :  0.9789000153541565\n"
          ],
          "name": "stdout"
        }
      ]
    },
    {
      "cell_type": "code",
      "metadata": {
        "id": "sp1ywzpW7tfI",
        "colab_type": "code",
        "colab": {
          "base_uri": "https://localhost:8080/",
          "height": 295
        },
        "outputId": "a5c151dc-bb09-4d5d-e531-8ff6a81834d5"
      },
      "source": [
        "import matplotlib.pyplot as plt\n",
        "\n",
        "plt.plot(history.history['accuracy'])\n",
        "plt.plot(history.history['val_accuracy'])\n",
        "plt.title('Training and validation accuracy')\n",
        "plt.ylabel('Accuracy')\n",
        "plt.xlabel('Epochs')\n",
        "plt.legend(['Train', 'Validation'], loc = 'upper left')\n",
        "plt.show()"
      ],
      "execution_count": 66,
      "outputs": [
        {
          "output_type": "display_data",
          "data": {
            "image/png": "[encoded data removed]",
            "text/plain": [
              "<Figure size 432x288 with 1 Axes>"
            ]
          },
          "metadata": {
            "tags": [],
            "needs_background": "light"
          }
        }
      ]
    },
    {
      "cell_type": "markdown",
      "metadata": {
        "id": "ojfIZxYECXX-",
        "colab_type": "text"
      },
      "source": [
        "Metrics = Categorical_accuracy"
      ]
    },
    {
      "cell_type": "code",
      "metadata": {
        "id": "7eW-CNGoCEx8",
        "colab_type": "code",
        "colab": {
          "base_uri": "https://localhost:8080/",
          "height": 1000
        },
        "outputId": "b22e17a9-76bf-4f94-fb4b-faa1c4f91b6f"
      },
      "source": [
        "# compile model\n",
        "model.compile(optimizer='sgd',loss='categorical_crossentropy',metrics=['categorical_accuracy'])\n",
        "\n",
        "#fitting model\n",
        "filepath=\"weights.{epoch:02d}-{val_loss:.2f}.hdf5\"\n",
        "earlystopping=keras.callbacks.EarlyStopping(monitor='val_loss', verbose=1, patience=5, mode=\"min\")\n",
        "checkpoint=keras.callbacks.ModelCheckpoint(filepath, monitor='val_accuracy', verbose=1, save_best_only=True, mode=\"max\")\n",
        "\n",
        "history=model.fit(x_train,y_train,validation_split=0.2,epochs=20,verbose=1,callbacks=[earlystopping,checkpoint]) "
      ],
      "execution_count": 72,
      "outputs": [
        {
          "output_type": "stream",
          "text": [
            "Epoch 1/20\n",
            "1479/1500 [============================>.] - ETA: 0s - loss: 0.5747 - categorical_accuracy: 0.8573WARNING:tensorflow:Can save best model only with val_accuracy available, skipping.\n",
            "1500/1500 [==============================] - 4s 3ms/step - loss: 0.5705 - categorical_accuracy: 0.8582 - val_loss: 0.2684 - val_categorical_accuracy: 0.9228\n",
            "Epoch 2/20\n",
            "1483/1500 [============================>.] - ETA: 0s - loss: 0.2514 - categorical_accuracy: 0.9287WARNING:tensorflow:Can save best model only with val_accuracy available, skipping.\n",
            "1500/1500 [==============================] - 4s 2ms/step - loss: 0.2515 - categorical_accuracy: 0.9286 - val_loss: 0.2197 - val_categorical_accuracy: 0.9372\n",
            "Epoch 3/20\n",
            "1500/1500 [==============================] - ETA: 0s - loss: 0.1976 - categorical_accuracy: 0.9434WARNING:tensorflow:Can save best model only with val_accuracy available, skipping.\n",
            "1500/1500 [==============================] - 4s 2ms/step - loss: 0.1976 - categorical_accuracy: 0.9434 - val_loss: 0.1706 - val_categorical_accuracy: 0.9530\n",
            "Epoch 4/20\n",
            "1487/1500 [============================>.] - ETA: 0s - loss: 0.1616 - categorical_accuracy: 0.9534WARNING:tensorflow:Can save best model only with val_accuracy available, skipping.\n",
            "1500/1500 [==============================] - 4s 2ms/step - loss: 0.1617 - categorical_accuracy: 0.9534 - val_loss: 0.1538 - val_categorical_accuracy: 0.9557\n",
            "Epoch 5/20\n",
            "1482/1500 [============================>.] - ETA: 0s - loss: 0.1366 - categorical_accuracy: 0.9615WARNING:tensorflow:Can save best model only with val_accuracy available, skipping.\n",
            "1500/1500 [==============================] - 4s 2ms/step - loss: 0.1366 - categorical_accuracy: 0.9614 - val_loss: 0.1445 - val_categorical_accuracy: 0.9572\n",
            "Epoch 6/20\n",
            "1498/1500 [============================>.] - ETA: 0s - loss: 0.1173 - categorical_accuracy: 0.9657WARNING:tensorflow:Can save best model only with val_accuracy available, skipping.\n",
            "1500/1500 [==============================] - 4s 2ms/step - loss: 0.1173 - categorical_accuracy: 0.9656 - val_loss: 0.1296 - val_categorical_accuracy: 0.9618\n",
            "Epoch 7/20\n",
            "1495/1500 [============================>.] - ETA: 0s - loss: 0.1020 - categorical_accuracy: 0.9707WARNING:tensorflow:Can save best model only with val_accuracy available, skipping.\n",
            "1500/1500 [==============================] - 4s 2ms/step - loss: 0.1019 - categorical_accuracy: 0.9707 - val_loss: 0.1129 - val_categorical_accuracy: 0.9682\n",
            "Epoch 8/20\n",
            "1487/1500 [============================>.] - ETA: 0s - loss: 0.0894 - categorical_accuracy: 0.9749WARNING:tensorflow:Can save best model only with val_accuracy available, skipping.\n",
            "1500/1500 [==============================] - 4s 2ms/step - loss: 0.0893 - categorical_accuracy: 0.9750 - val_loss: 0.1100 - val_categorical_accuracy: 0.9674\n",
            "Epoch 9/20\n",
            "1477/1500 [============================>.] - ETA: 0s - loss: 0.0780 - categorical_accuracy: 0.9780WARNING:tensorflow:Can save best model only with val_accuracy available, skipping.\n",
            "1500/1500 [==============================] - 4s 2ms/step - loss: 0.0780 - categorical_accuracy: 0.9779 - val_loss: 0.1025 - val_categorical_accuracy: 0.9698\n",
            "Epoch 10/20\n",
            "1491/1500 [============================>.] - ETA: 0s - loss: 0.0694 - categorical_accuracy: 0.9806WARNING:tensorflow:Can save best model only with val_accuracy available, skipping.\n",
            "1500/1500 [==============================] - 4s 2ms/step - loss: 0.0692 - categorical_accuracy: 0.9806 - val_loss: 0.0962 - val_categorical_accuracy: 0.9726\n",
            "Epoch 11/20\n",
            "1498/1500 [============================>.] - ETA: 0s - loss: 0.0615 - categorical_accuracy: 0.9830WARNING:tensorflow:Can save best model only with val_accuracy available, skipping.\n",
            "1500/1500 [==============================] - 4s 2ms/step - loss: 0.0615 - categorical_accuracy: 0.9830 - val_loss: 0.0947 - val_categorical_accuracy: 0.9712\n",
            "Epoch 12/20\n",
            "1497/1500 [============================>.] - ETA: 0s - loss: 0.0542 - categorical_accuracy: 0.9856WARNING:tensorflow:Can save best model only with val_accuracy available, skipping.\n",
            "1500/1500 [==============================] - 4s 2ms/step - loss: 0.0542 - categorical_accuracy: 0.9856 - val_loss: 0.0903 - val_categorical_accuracy: 0.9738\n",
            "Epoch 13/20\n",
            "1488/1500 [============================>.] - ETA: 0s - loss: 0.0489 - categorical_accuracy: 0.9869WARNING:tensorflow:Can save best model only with val_accuracy available, skipping.\n",
            "1500/1500 [==============================] - 4s 2ms/step - loss: 0.0489 - categorical_accuracy: 0.9870 - val_loss: 0.0883 - val_categorical_accuracy: 0.9732\n",
            "Epoch 14/20\n",
            "1497/1500 [============================>.] - ETA: 0s - loss: 0.0431 - categorical_accuracy: 0.9889WARNING:tensorflow:Can save best model only with val_accuracy available, skipping.\n",
            "1500/1500 [==============================] - 4s 2ms/step - loss: 0.0431 - categorical_accuracy: 0.9889 - val_loss: 0.0853 - val_categorical_accuracy: 0.9748\n",
            "Epoch 15/20\n",
            "1499/1500 [============================>.] - ETA: 0s - loss: 0.0380 - categorical_accuracy: 0.9900WARNING:tensorflow:Can save best model only with val_accuracy available, skipping.\n",
            "1500/1500 [==============================] - 4s 2ms/step - loss: 0.0380 - categorical_accuracy: 0.9900 - val_loss: 0.0827 - val_categorical_accuracy: 0.9758\n",
            "Epoch 16/20\n",
            "1490/1500 [============================>.] - ETA: 0s - loss: 0.0333 - categorical_accuracy: 0.9917WARNING:tensorflow:Can save best model only with val_accuracy available, skipping.\n",
            "1500/1500 [==============================] - 4s 2ms/step - loss: 0.0335 - categorical_accuracy: 0.9917 - val_loss: 0.0929 - val_categorical_accuracy: 0.9720\n",
            "Epoch 17/20\n",
            "1497/1500 [============================>.] - ETA: 0s - loss: 0.0301 - categorical_accuracy: 0.9927WARNING:tensorflow:Can save best model only with val_accuracy available, skipping.\n",
            "1500/1500 [==============================] - 4s 2ms/step - loss: 0.0302 - categorical_accuracy: 0.9926 - val_loss: 0.0828 - val_categorical_accuracy: 0.9758\n",
            "Epoch 18/20\n",
            "1484/1500 [============================>.] - ETA: 0s - loss: 0.0266 - categorical_accuracy: 0.9942WARNING:tensorflow:Can save best model only with val_accuracy available, skipping.\n",
            "1500/1500 [==============================] - 4s 2ms/step - loss: 0.0266 - categorical_accuracy: 0.9941 - val_loss: 0.0830 - val_categorical_accuracy: 0.9756\n",
            "Epoch 19/20\n",
            "1490/1500 [============================>.] - ETA: 0s - loss: 0.0236 - categorical_accuracy: 0.9949WARNING:tensorflow:Can save best model only with val_accuracy available, skipping.\n",
            "1500/1500 [==============================] - 4s 2ms/step - loss: 0.0235 - categorical_accuracy: 0.9949 - val_loss: 0.0824 - val_categorical_accuracy: 0.9765\n",
            "Epoch 20/20\n",
            "1493/1500 [============================>.] - ETA: 0s - loss: 0.0211 - categorical_accuracy: 0.9958WARNING:tensorflow:Can save best model only with val_accuracy available, skipping.\n",
            "1500/1500 [==============================] - 4s 3ms/step - loss: 0.0210 - categorical_accuracy: 0.9958 - val_loss: 0.0801 - val_categorical_accuracy: 0.9775\n"
          ],
          "name": "stdout"
        }
      ]
    },
    {
      "cell_type": "code",
      "metadata": {
        "id": "L9VKH3bnCtzn",
        "colab_type": "code",
        "colab": {
          "base_uri": "https://localhost:8080/",
          "height": 72
        },
        "outputId": "7544d181-2993-45d1-83af-ee12e0925e3e"
      },
      "source": [
        "test_loss,test_accuracy=model.evaluate(x_test,y_test)\n",
        "print('test set loss : ',test_loss)\n",
        "print('test set accuracy : ',test_accuracy)"
      ],
      "execution_count": 73,
      "outputs": [
        {
          "output_type": "stream",
          "text": [
            "313/313 [==============================] - 1s 2ms/step - loss: 0.0676 - categorical_accuracy: 0.9795\n",
            "test set loss :  0.06764566153287888\n",
            "test set accuracy :  0.9794999957084656\n"
          ],
          "name": "stdout"
        }
      ]
    },
    {
      "cell_type": "code",
      "metadata": {
        "id": "tT9TkhQGC46S",
        "colab_type": "code",
        "colab": {
          "base_uri": "https://localhost:8080/",
          "height": 295
        },
        "outputId": "ca10c0f3-87fb-4dc9-b43f-80a0ba3231a3"
      },
      "source": [
        "import matplotlib.pyplot as plt\n",
        "\n",
        "plt.plot(history.history['categorical_accuracy'])\n",
        "plt.plot(history.history['val_categorical_accuracy'])\n",
        "plt.title('Training and validation categorical accuracy')\n",
        "plt.ylabel('Categorical Accuracy')\n",
        "plt.xlabel('Epochs')\n",
        "plt.legend(['Train', 'Validation'], loc = 'upper left')\n",
        "plt.show()"
      ],
      "execution_count": 74,
      "outputs": [
        {
          "output_type": "display_data",
          "data": {
            "image/png": "[encoded data removed]",
            "text/plain": [
              "<Figure size 432x288 with 1 Axes>"
            ]
          },
          "metadata": {
            "tags": [],
            "needs_background": "light"
          }
        }
      ]
    },
    {
      "cell_type": "markdown",
      "metadata": {
        "id": "EvXfTxryDX-G",
        "colab_type": "text"
      },
      "source": [
        "**Fashion_MNIST**"
      ]
    },
    {
      "cell_type": "code",
      "metadata": {
        "id": "mLxDURPsC4-s",
        "colab_type": "code",
        "colab": {
          "base_uri": "https://localhost:8080/",
          "height": 163
        },
        "outputId": "8d5287df-f8cd-4af9-c1b0-7cde000d2344"
      },
      "source": [
        "#loading the data\n",
        "(x_train,y_train),(x_test,y_test)=fashion_mnist.load_data()"
      ],
      "execution_count": 75,
      "outputs": [
        {
          "output_type": "stream",
          "text": [
            "Downloading data from https://storage.googleapis.com/tensorflow/tf-keras-datasets/train-labels-idx1-ubyte.gz\n",
            "32768/29515 [=================================] - 0s 0us/step\n",
            "Downloading data from https://storage.googleapis.com/tensorflow/tf-keras-datasets/train-images-idx3-ubyte.gz\n",
            "26427392/26421880 [==============================] - 0s 0us/step\n",
            "Downloading data from https://storage.googleapis.com/tensorflow/tf-keras-datasets/t10k-labels-idx1-ubyte.gz\n",
            "8192/5148 [===============================================] - 0s 0us/step\n",
            "Downloading data from https://storage.googleapis.com/tensorflow/tf-keras-datasets/t10k-images-idx3-ubyte.gz\n",
            "4423680/4422102 [==============================] - 0s 0us/step\n"
          ],
          "name": "stdout"
        }
      ]
    },
    {
      "cell_type": "code",
      "metadata": {
        "id": "-gRxNFgMC45X",
        "colab_type": "code",
        "colab": {
          "base_uri": "https://localhost:8080/",
          "height": 90
        },
        "outputId": "36ad8828-4c51-4689-d320-31badce4600e"
      },
      "source": [
        "print(x_train.shape)\n",
        "print(x_test.shape)\n",
        "print(y_train.shape)\n",
        "print(y_test.shape)"
      ],
      "execution_count": 76,
      "outputs": [
        {
          "output_type": "stream",
          "text": [
            "(60000, 28, 28)\n",
            "(10000, 28, 28)\n",
            "(60000,)\n",
            "(10000,)\n"
          ],
          "name": "stdout"
        }
      ]
    },
    {
      "cell_type": "code",
      "metadata": {
        "id": "buLz-ATKEhS2",
        "colab_type": "code",
        "colab": {
          "base_uri": "https://localhost:8080/",
          "height": 279
        },
        "outputId": "40a7cd3e-45e3-42ed-e3d7-622dbaecc000"
      },
      "source": [
        "plt.imshow(x_train[0])\n",
        "plt.xlabel(y_train[0])\n",
        "plt.show()"
      ],
      "execution_count": 77,
      "outputs": [
        {
          "output_type": "display_data",
          "data": {
            "image/png": "[encoded data removed]",
            "text/plain": [
              "<Figure size 432x288 with 1 Axes>"
            ]
          },
          "metadata": {
            "tags": [],
            "needs_background": "light"
          }
        }
      ]
    },
    {
      "cell_type": "code",
      "metadata": {
        "id": "rIX5ktepEhpC",
        "colab_type": "code",
        "colab": {
          "base_uri": "https://localhost:8080/",
          "height": 270
        },
        "outputId": "f48cad7f-cf92-4352-c5fe-2fbe33178c0d"
      },
      "source": [
        "plt.figure(figsize=(10,10))\n",
        "\n",
        "for i in range(10):\n",
        "  plt.subplot(5,5,i+1)\n",
        "  plt.imshow(x_train[i])\n",
        "  plt.xlabel(y_train[i])\n",
        "plt.show()"
      ],
      "execution_count": 78,
      "outputs": [
        {
          "output_type": "display_data",
          "data": {
            "image/png": "[encoded data removed]",
            "text/plain": [
              "<Figure size 720x720 with 10 Axes>"
            ]
          },
          "metadata": {
            "tags": [],
            "needs_background": "light"
          }
        }
      ]
    },
    {
      "cell_type": "code",
      "metadata": {
        "id": "1e3egILzEhtr",
        "colab_type": "code",
        "colab": {}
      },
      "source": [
        "#preprocessing\n",
        "x_train=x_train.reshape(60000,28*28)\n",
        "x_test=x_test.reshape(10000,28*28)\n",
        "\n",
        "x_train=x_train.astype('float32')\n",
        "x_test=x_test.astype('float32')\n",
        "\n",
        "x_train=x_train/255\n",
        "x_test=x_test/255\n",
        "\n",
        "y_train=to_categorical(y_train)\n",
        "y_test=to_categorical(y_test)"
      ],
      "execution_count": 79,
      "outputs": []
    },
    {
      "cell_type": "code",
      "metadata": {
        "id": "0NlI9oypEhoQ",
        "colab_type": "code",
        "colab": {
          "base_uri": "https://localhost:8080/",
          "height": 90
        },
        "outputId": "1d22db6b-b552-408c-b213-398e7c3d0d43"
      },
      "source": [
        "print(x_train.shape)\n",
        "print(x_test.shape)\n",
        "print(y_train.shape)\n",
        "print(y_test.shape)"
      ],
      "execution_count": 80,
      "outputs": [
        {
          "output_type": "stream",
          "text": [
            "(60000, 784)\n",
            "(10000, 784)\n",
            "(60000, 10)\n",
            "(10000, 10)\n"
          ],
          "name": "stdout"
        }
      ]
    },
    {
      "cell_type": "code",
      "metadata": {
        "id": "pVj-MO9FErCM",
        "colab_type": "code",
        "colab": {
          "base_uri": "https://localhost:8080/",
          "height": 308
        },
        "outputId": "702bd759-841d-4746-b166-0d7b59113e85"
      },
      "source": [
        "# Model building\n",
        "\n",
        "#initializer=keras.initializers.glorot_normal()\n",
        "#initializer=keras.initializers.lecun_uniform()\n",
        "initializer=keras.initializers.glorot_uniform()\n",
        "\n",
        "model=Sequential([\n",
        "                  Dense(1024,input_dim=784,kernel_initializer=initializer,bias_initializer=initializer,activation='relu'),\n",
        "                  Dense(1000,activation='relu',kernel_initializer=initializer,bias_initializer=initializer),\n",
        "                  Dense(512,activation='relu',kernel_initializer=initializer,bias_initializer=initializer),\n",
        "                  Dense(10,activation='softmax',kernel_initializer=initializer,bias_initializer=initializer)\n",
        "])\n",
        "model.summary()"
      ],
      "execution_count": 81,
      "outputs": [
        {
          "output_type": "stream",
          "text": [
            "Model: \"sequential_9\"\n",
            "_________________________________________________________________\n",
            "Layer (type)                 Output Shape              Param #   \n",
            "=================================================================\n",
            "dense_36 (Dense)             (None, 1024)              803840    \n",
            "_________________________________________________________________\n",
            "dense_37 (Dense)             (None, 1000)              1025000   \n",
            "_________________________________________________________________\n",
            "dense_38 (Dense)             (None, 512)               512512    \n",
            "_________________________________________________________________\n",
            "dense_39 (Dense)             (None, 10)                5130      \n",
            "=================================================================\n",
            "Total params: 2,346,482\n",
            "Trainable params: 2,346,482\n",
            "Non-trainable params: 0\n",
            "_________________________________________________________________\n"
          ],
          "name": "stdout"
        }
      ]
    },
    {
      "cell_type": "code",
      "metadata": {
        "id": "t_okY_BKFFU8",
        "colab_type": "code",
        "colab": {
          "base_uri": "https://localhost:8080/",
          "height": 1000
        },
        "outputId": "513baf4e-5376-491a-90fa-fdd94aae3a1a"
      },
      "source": [
        "# compile model\n",
        "model.compile(optimizer='sgd',loss='categorical_crossentropy',metrics=['top_k_categorical_accuracy'])\n",
        "\n",
        "#fitting model\n",
        "filepath=\"weights.{epoch:02d}-{val_loss:.2f}.hdf5\"\n",
        "earlystopping=keras.callbacks.EarlyStopping(monitor='val_loss', verbose=1, patience=5, mode=\"min\")\n",
        "checkpoint=keras.callbacks.ModelCheckpoint(filepath, monitor='val_accuracy', verbose=1, save_best_only=True, mode=\"max\")\n",
        "\n",
        "history=model.fit(x_train,y_train,validation_split=0.2,epochs=20,verbose=1,callbacks=[earlystopping,checkpoint]) "
      ],
      "execution_count": 85,
      "outputs": [
        {
          "output_type": "stream",
          "text": [
            "Epoch 1/20\n",
            "1497/1500 [============================>.] - ETA: 0s - loss: 0.6986 - top_k_categorical_accuracy: 0.9863WARNING:tensorflow:Can save best model only with val_accuracy available, skipping.\n",
            "1500/1500 [==============================] - 4s 3ms/step - loss: 0.6980 - top_k_categorical_accuracy: 0.9864 - val_loss: 0.5052 - val_top_k_categorical_accuracy: 0.9958\n",
            "Epoch 2/20\n",
            "1497/1500 [============================>.] - ETA: 0s - loss: 0.4627 - top_k_categorical_accuracy: 0.9960WARNING:tensorflow:Can save best model only with val_accuracy available, skipping.\n",
            "1500/1500 [==============================] - 4s 2ms/step - loss: 0.4626 - top_k_categorical_accuracy: 0.9960 - val_loss: 0.4495 - val_top_k_categorical_accuracy: 0.9965\n",
            "Epoch 3/20\n",
            "1491/1500 [============================>.] - ETA: 0s - loss: 0.4167 - top_k_categorical_accuracy: 0.9965WARNING:tensorflow:Can save best model only with val_accuracy available, skipping.\n",
            "1500/1500 [==============================] - 4s 2ms/step - loss: 0.4162 - top_k_categorical_accuracy: 0.9965 - val_loss: 0.4088 - val_top_k_categorical_accuracy: 0.9968\n",
            "Epoch 4/20\n",
            "1488/1500 [============================>.] - ETA: 0s - loss: 0.3860 - top_k_categorical_accuracy: 0.9968WARNING:tensorflow:Can save best model only with val_accuracy available, skipping.\n",
            "1500/1500 [==============================] - 4s 2ms/step - loss: 0.3857 - top_k_categorical_accuracy: 0.9968 - val_loss: 0.3972 - val_top_k_categorical_accuracy: 0.9967\n",
            "Epoch 5/20\n",
            "1485/1500 [============================>.] - ETA: 0s - loss: 0.3660 - top_k_categorical_accuracy: 0.9972WARNING:tensorflow:Can save best model only with val_accuracy available, skipping.\n",
            "1500/1500 [==============================] - 4s 2ms/step - loss: 0.3660 - top_k_categorical_accuracy: 0.9972 - val_loss: 0.3746 - val_top_k_categorical_accuracy: 0.9967\n",
            "Epoch 6/20\n",
            "1480/1500 [============================>.] - ETA: 0s - loss: 0.3469 - top_k_categorical_accuracy: 0.9973WARNING:tensorflow:Can save best model only with val_accuracy available, skipping.\n",
            "1500/1500 [==============================] - 4s 2ms/step - loss: 0.3465 - top_k_categorical_accuracy: 0.9972 - val_loss: 0.3592 - val_top_k_categorical_accuracy: 0.9967\n",
            "Epoch 7/20\n",
            "1487/1500 [============================>.] - ETA: 0s - loss: 0.3312 - top_k_categorical_accuracy: 0.9977WARNING:tensorflow:Can save best model only with val_accuracy available, skipping.\n",
            "1500/1500 [==============================] - 4s 2ms/step - loss: 0.3315 - top_k_categorical_accuracy: 0.9977 - val_loss: 0.3527 - val_top_k_categorical_accuracy: 0.9970\n",
            "Epoch 8/20\n",
            "1492/1500 [============================>.] - ETA: 0s - loss: 0.3200 - top_k_categorical_accuracy: 0.9979WARNING:tensorflow:Can save best model only with val_accuracy available, skipping.\n",
            "1500/1500 [==============================] - 4s 2ms/step - loss: 0.3196 - top_k_categorical_accuracy: 0.9979 - val_loss: 0.3440 - val_top_k_categorical_accuracy: 0.9973\n",
            "Epoch 9/20\n",
            "1489/1500 [============================>.] - ETA: 0s - loss: 0.3081 - top_k_categorical_accuracy: 0.9982WARNING:tensorflow:Can save best model only with val_accuracy available, skipping.\n",
            "1500/1500 [==============================] - 4s 2ms/step - loss: 0.3080 - top_k_categorical_accuracy: 0.9981 - val_loss: 0.3381 - val_top_k_categorical_accuracy: 0.9972\n",
            "Epoch 10/20\n",
            "1489/1500 [============================>.] - ETA: 0s - loss: 0.2961 - top_k_categorical_accuracy: 0.9981WARNING:tensorflow:Can save best model only with val_accuracy available, skipping.\n",
            "1500/1500 [==============================] - 4s 2ms/step - loss: 0.2961 - top_k_categorical_accuracy: 0.9981 - val_loss: 0.3323 - val_top_k_categorical_accuracy: 0.9977\n",
            "Epoch 11/20\n",
            "1496/1500 [============================>.] - ETA: 0s - loss: 0.2866 - top_k_categorical_accuracy: 0.9984WARNING:tensorflow:Can save best model only with val_accuracy available, skipping.\n",
            "1500/1500 [==============================] - 4s 2ms/step - loss: 0.2865 - top_k_categorical_accuracy: 0.9984 - val_loss: 0.3256 - val_top_k_categorical_accuracy: 0.9972\n",
            "Epoch 12/20\n",
            "1480/1500 [============================>.] - ETA: 0s - loss: 0.2776 - top_k_categorical_accuracy: 0.9987WARNING:tensorflow:Can save best model only with val_accuracy available, skipping.\n",
            "1500/1500 [==============================] - 4s 2ms/step - loss: 0.2783 - top_k_categorical_accuracy: 0.9987 - val_loss: 0.3280 - val_top_k_categorical_accuracy: 0.9977\n",
            "Epoch 13/20\n",
            "1488/1500 [============================>.] - ETA: 0s - loss: 0.2703 - top_k_categorical_accuracy: 0.9987WARNING:tensorflow:Can save best model only with val_accuracy available, skipping.\n",
            "1500/1500 [==============================] - 4s 3ms/step - loss: 0.2701 - top_k_categorical_accuracy: 0.9987 - val_loss: 0.3415 - val_top_k_categorical_accuracy: 0.9973\n",
            "Epoch 14/20\n",
            "1480/1500 [============================>.] - ETA: 0s - loss: 0.2608 - top_k_categorical_accuracy: 0.9988WARNING:tensorflow:Can save best model only with val_accuracy available, skipping.\n",
            "1500/1500 [==============================] - 4s 3ms/step - loss: 0.2606 - top_k_categorical_accuracy: 0.9988 - val_loss: 0.3165 - val_top_k_categorical_accuracy: 0.9977\n",
            "Epoch 15/20\n",
            "1490/1500 [============================>.] - ETA: 0s - loss: 0.2533 - top_k_categorical_accuracy: 0.9990WARNING:tensorflow:Can save best model only with val_accuracy available, skipping.\n",
            "1500/1500 [==============================] - 4s 2ms/step - loss: 0.2536 - top_k_categorical_accuracy: 0.9990 - val_loss: 0.3202 - val_top_k_categorical_accuracy: 0.9975\n",
            "Epoch 16/20\n",
            "1480/1500 [============================>.] - ETA: 0s - loss: 0.2457 - top_k_categorical_accuracy: 0.9990WARNING:tensorflow:Can save best model only with val_accuracy available, skipping.\n",
            "1500/1500 [==============================] - 4s 2ms/step - loss: 0.2453 - top_k_categorical_accuracy: 0.9990 - val_loss: 0.3194 - val_top_k_categorical_accuracy: 0.9974\n",
            "Epoch 17/20\n",
            "1500/1500 [==============================] - ETA: 0s - loss: 0.2387 - top_k_categorical_accuracy: 0.9991WARNING:tensorflow:Can save best model only with val_accuracy available, skipping.\n",
            "1500/1500 [==============================] - 4s 2ms/step - loss: 0.2387 - top_k_categorical_accuracy: 0.9991 - val_loss: 0.3146 - val_top_k_categorical_accuracy: 0.9976\n",
            "Epoch 18/20\n",
            "1487/1500 [============================>.] - ETA: 0s - loss: 0.2328 - top_k_categorical_accuracy: 0.9991WARNING:tensorflow:Can save best model only with val_accuracy available, skipping.\n",
            "1500/1500 [==============================] - 4s 2ms/step - loss: 0.2324 - top_k_categorical_accuracy: 0.9991 - val_loss: 0.3329 - val_top_k_categorical_accuracy: 0.9978\n",
            "Epoch 19/20\n",
            "1497/1500 [============================>.] - ETA: 0s - loss: 0.2249 - top_k_categorical_accuracy: 0.9994WARNING:tensorflow:Can save best model only with val_accuracy available, skipping.\n",
            "1500/1500 [==============================] - 4s 2ms/step - loss: 0.2248 - top_k_categorical_accuracy: 0.9994 - val_loss: 0.3098 - val_top_k_categorical_accuracy: 0.9981\n",
            "Epoch 20/20\n",
            "1487/1500 [============================>.] - ETA: 0s - loss: 0.2188 - top_k_categorical_accuracy: 0.9993WARNING:tensorflow:Can save best model only with val_accuracy available, skipping.\n",
            "1500/1500 [==============================] - 4s 2ms/step - loss: 0.2188 - top_k_categorical_accuracy: 0.9994 - val_loss: 0.3393 - val_top_k_categorical_accuracy: 0.9979\n"
          ],
          "name": "stdout"
        }
      ]
    },
    {
      "cell_type": "code",
      "metadata": {
        "id": "ceszcI8tFFZZ",
        "colab_type": "code",
        "colab": {
          "base_uri": "https://localhost:8080/",
          "height": 72
        },
        "outputId": "f77def03-071d-4fc4-d83e-caae40a45a43"
      },
      "source": [
        "test_loss,test_accuracy=model.evaluate(x_test,y_test)\n",
        "print('test set loss : ',test_loss)\n",
        "print('test set accuracy : ',test_accuracy)"
      ],
      "execution_count": 86,
      "outputs": [
        {
          "output_type": "stream",
          "text": [
            "313/313 [==============================] - 1s 2ms/step - loss: 0.3657 - top_k_categorical_accuracy: 0.9973\n",
            "test set loss :  0.3657165467739105\n",
            "test set accuracy :  0.9973000288009644\n"
          ],
          "name": "stdout"
        }
      ]
    },
    {
      "cell_type": "code",
      "metadata": {
        "id": "cYA2rdJtFFYl",
        "colab_type": "code",
        "colab": {
          "base_uri": "https://localhost:8080/",
          "height": 295
        },
        "outputId": "640241fe-4eba-4a18-9187-d31a9aba2686"
      },
      "source": [
        "import matplotlib.pyplot as plt\n",
        "\n",
        "plt.plot(history.history['top_k_categorical_accuracy'])\n",
        "plt.plot(history.history['val_top_k_categorical_accuracy'])\n",
        "plt.title('Training and validation top k categorical accuracy')\n",
        "plt.ylabel('Top k Categorical Accuracy')\n",
        "plt.xlabel('Epochs')\n",
        "plt.legend(['Train', 'Validation'], loc = 'upper left')\n",
        "plt.show()"
      ],
      "execution_count": 87,
      "outputs": [
        {
          "output_type": "display_data",
          "data": {
            "image/png": "[encoded data removed]",
            "text/plain": [
              "<Figure size 432x288 with 1 Axes>"
            ]
          },
          "metadata": {
            "tags": [],
            "needs_background": "light"
          }
        }
      ]
    }
  ]
}