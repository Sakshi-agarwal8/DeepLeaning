{
  "nbformat": 4,
  "nbformat_minor": 0,
  "metadata": {
    "colab": {
      "name": "DL_Assignment5.ipynb",
      "provenance": [],
      "collapsed_sections": [],
      "toc_visible": true,
      "authorship_tag": "ABX9TyMYB7wccFUqL1XJx8dyJnFi"
    },
    "kernelspec": {
      "name": "python3",
      "display_name": "Python 3"
    }
  },
  "cells": [
    {
      "cell_type": "markdown",
      "metadata": {
        "id": "HFhjyIM5dwdI"
      },
      "source": [
        "## Imagenet for model building - classifier on any three classes (synsets) of cars\n",
        "\n"
      ]
    },
    {
      "cell_type": "code",
      "metadata": {
        "id": "QBoeTz6IdH1J"
      },
      "source": [
        "from bs4 import BeautifulSoup\n",
        "import numpy as np\n",
        "import requests\n",
        "import cv2\n",
        "import PIL.Image\n",
        "import urllib\n",
        "\n",
        "class1 = requests.get(\"http://www.image-net.org/api/text/imagenet.synset.geturls?wnid=n04037443\")  # Race car\n",
        "print(class1.content)\n",
        "class1_soup = BeautifulSoup(class1.content, 'html.parser')\n",
        "class2 = requests.get(\"http://www.image-net.org/api/text/imagenet.synset.geturls?wnid=n02814533\")  # Beach wagon\n",
        "print(class2.content)\n",
        "class2_soup = BeautifulSoup(class2.content, 'html.parser')\n",
        "\n",
        "class3 = requests.get(\"http://www.image-net.org/api/text/imagenet.synset.geturls?wnid=n02918964\")  # Bumper car\n",
        "print(class3.content)\n",
        "class3_soup = BeautifulSoup(class3.content, 'html.parser')\n"
      ],
      "execution_count": null,
      "outputs": []
    },
    {
      "cell_type": "code",
      "metadata": {
        "id": "y3e8YHamfNrk",
        "outputId": "788516d3-3195-4771-a45e-27ccee973f83",
        "colab": {
          "base_uri": "https://localhost:8080/"
        }
      },
      "source": [
        "class1_str_soup=str(class1_soup)\n",
        "type(class1_str_soup)\n",
        "class1_split_urls=class1_str_soup.split('\\r\\n')\n",
        "print(len(class1_split_urls))\n",
        "\n",
        "\n",
        "class2_str_soup=str(class2_soup)\n",
        "type(class2_str_soup)\n",
        "class2_split_urls=class2_str_soup.split('\\r\\n')\n",
        "print(len(class2_split_urls))\n",
        "\n",
        "\n",
        "class3_str_soup=str(class3_soup)\n",
        "type(class3_str_soup)\n",
        "class3_split_urls=class3_str_soup.split('\\r\\n')\n",
        "print(len(class3_split_urls))"
      ],
      "execution_count": 3,
      "outputs": [
        {
          "output_type": "stream",
          "text": [
            "1552\n",
            "1367\n",
            "1425\n"
          ],
          "name": "stdout"
        }
      ]
    },
    {
      "cell_type": "code",
      "metadata": {
        "id": "JPFvOHmVffAZ"
      },
      "source": [
        "!mkdir /content/train \n",
        "!mkdir /content/train/class1\n",
        "!mkdir /content/train/class2 \n",
        "!mkdir /content/train/class3 \n",
        "\n",
        "!mkdir /content/validation\n",
        "!mkdir /content/validation/class1\n",
        "!mkdir /content/validation/class2\n",
        "!mkdir /content/validation/class3"
      ],
      "execution_count": 4,
      "outputs": []
    },
    {
      "cell_type": "code",
      "metadata": {
        "id": "61wHYVW2flYq",
        "outputId": "f62439d1-4e1d-4d5f-b7d2-079edfd9f417",
        "colab": {
          "base_uri": "https://localhost:8080/"
        }
      },
      "source": [
        "img_rows, img_cols = 32, 32 \n",
        "input_shape = (img_rows, img_cols, 3)\n",
        "def url_to_image(url):\n",
        "\tresp = urllib.request.urlopen(url)\n",
        "\timage = np.asarray(bytearray(resp.read()), dtype=\"uint8\")\n",
        "\timage = cv2.imdecode(image, cv2.IMREAD_COLOR)\n",
        " \n",
        "\treturn image\n",
        "\n",
        "n_of_training_images=100\n",
        "for progress in range(n_of_training_images):\n",
        "    if(progress%20==0):\n",
        "        print(progress)\n",
        "    if not class1_split_urls[progress] == None:\n",
        "      try:\n",
        "        I = url_to_image(class1_split_urls[progress])\n",
        "        if (len(I.shape))==3: \n",
        "          save_path = '/content/train/class1/img'+str(progress)+'.jpg'\n",
        "          cv2.imwrite(save_path,I)\n",
        "\n",
        "      except:\n",
        "        None\n",
        "\n",
        "for progress in range(n_of_training_images):\n",
        "    if(progress%20==0):\n",
        "        print(progress)\n",
        "    if not class2_split_urls[progress] == None:\n",
        "      try:\n",
        "        I = url_to_image(class2_split_urls[progress])\n",
        "        if (len(I.shape))==3: \n",
        "          save_path = '/content/train/class2/img'+str(progress)+'.jpg'\n",
        "          cv2.imwrite(save_path,I)\n",
        "\n",
        "      except:\n",
        "        None\n",
        "\n",
        "for progress in range(n_of_training_images):\n",
        "    if(progress%20==0):\n",
        "        print(progress)\n",
        "    if not class3_split_urls[progress] == None:\n",
        "      try:\n",
        "        I = url_to_image(class3_split_urls[progress])\n",
        "        if (len(I.shape))==3: \n",
        "          save_path = '/content/train/class3/img'+str(progress)+'.jpg'\n",
        "          cv2.imwrite(save_path,I)\n",
        "\n",
        "      except:\n",
        "        None\n",
        "\n",
        "\n",
        "for progress in range(50):\n",
        "    if(progress%20==0):\n",
        "        print(progress)\n",
        "    if not class1_split_urls[progress] == None:\n",
        "      try:\n",
        "        I = url_to_image(class1_split_urls[n_of_training_images+progress])\n",
        "        if (len(I.shape))==3: \n",
        "          save_path = '/content/validation/class1/img'+str(progress)+'.jpg'\n",
        "          cv2.imwrite(save_path,I)\n",
        "\n",
        "      except:\n",
        "        None\n",
        "\n",
        "for progress in range(50):\n",
        "    if(progress%20==0):\n",
        "        print(progress)\n",
        "    if not class2_split_urls[progress] == None:\n",
        "      try:\n",
        "        I = url_to_image(class2_split_urls[n_of_training_images+progress])\n",
        "        if (len(I.shape))==3: \n",
        "          save_path = '/content/validation/class2/img'+str(progress)+'.jpg'\n",
        "          cv2.imwrite(save_path,I)\n",
        "\n",
        "      except:\n",
        "        None\n",
        "\n",
        "for progress in range(50):\n",
        "    if(progress%20==0):\n",
        "        print(progress)\n",
        "    if not class3_split_urls[progress] == None:\n",
        "      try:\n",
        "        I = url_to_image(class3_split_urls[n_of_training_images+progress])\n",
        "        if (len(I.shape))==3: \n",
        "          save_path = '/content/validation/class3/img'+str(progress)+'.jpg'\n",
        "          cv2.imwrite(save_path,I)\n",
        "\n",
        "      except:\n",
        "        None\n",
        "\n",
        "\n",
        "print(\"\\nTRAIN:\\n\")          \n",
        "print(\"\\nlist the files inside class1 directory:\\n\")        \n",
        "!ls /content/train/class1 \n",
        "print(\"\\nlist the files inside class2 directory:\\n\")\n",
        "!ls /content/train/class2 \n",
        "print(\"\\nlist the files inside class3 directory:\\n\")\n",
        "!ls /content/train/class3 \n",
        "\n",
        "print(\"\\nVALIDATION:\\n\")\n",
        "print(\"\\nlist the files inside class1 directory:\\n\")        \n",
        "!ls /content/validation/class1 \n",
        "print(\"\\nlist the files inside class2 directory:\\n\")\n",
        "!ls /content/validation/class2 \n",
        "print(\"\\nlist the files inside class3 directory:\\n\")\n",
        "!ls /content/validation/class3"
      ],
      "execution_count": 5,
      "outputs": [
        {
          "output_type": "stream",
          "text": [
            "0\n",
            "20\n",
            "40\n",
            "60\n",
            "80\n",
            "0\n",
            "20\n",
            "40\n",
            "60\n",
            "80\n",
            "0\n",
            "20\n",
            "40\n",
            "60\n",
            "80\n",
            "0\n",
            "20\n",
            "40\n",
            "0\n",
            "20\n",
            "40\n",
            "0\n",
            "20\n",
            "40\n",
            "\n",
            "TRAIN:\n",
            "\n",
            "\n",
            "list the files inside class1 directory:\n",
            "\n",
            "img0.jpg   img28.jpg  img40.jpg  img54.jpg  img64.jpg  img74.jpg  img8.jpg\n",
            "img10.jpg  img2.jpg   img43.jpg  img55.jpg  img65.jpg  img75.jpg  img90.jpg\n",
            "img12.jpg  img30.jpg  img44.jpg  img56.jpg  img66.jpg  img76.jpg  img91.jpg\n",
            "img15.jpg  img33.jpg  img45.jpg  img57.jpg  img67.jpg  img84.jpg  img93.jpg\n",
            "img20.jpg  img34.jpg  img47.jpg  img58.jpg  img68.jpg  img85.jpg  img95.jpg\n",
            "img21.jpg  img36.jpg  img50.jpg  img59.jpg  img69.jpg  img86.jpg  img96.jpg\n",
            "img26.jpg  img37.jpg  img51.jpg  img61.jpg  img6.jpg   img87.jpg  img97.jpg\n",
            "img27.jpg  img39.jpg  img53.jpg  img62.jpg  img71.jpg  img89.jpg\n",
            "\n",
            "list the files inside class2 directory:\n",
            "\n",
            "img10.jpg  img27.jpg  img44.jpg  img56.jpg  img6.jpg   img81.jpg  img93.jpg\n",
            "img12.jpg  img2.jpg   img46.jpg  img58.jpg  img73.jpg  img82.jpg  img94.jpg\n",
            "img15.jpg  img35.jpg  img49.jpg  img63.jpg  img75.jpg  img83.jpg  img96.jpg\n",
            "img18.jpg  img37.jpg  img4.jpg\t img64.jpg  img76.jpg  img85.jpg  img97.jpg\n",
            "img1.jpg   img3.jpg   img51.jpg  img65.jpg  img77.jpg  img89.jpg  img98.jpg\n",
            "img23.jpg  img42.jpg  img53.jpg  img66.jpg  img79.jpg  img90.jpg\n",
            "img26.jpg  img43.jpg  img54.jpg  img67.jpg  img80.jpg  img92.jpg\n",
            "\n",
            "list the files inside class3 directory:\n",
            "\n",
            "img0.jpg   img19.jpg  img33.jpg  img46.jpg  img61.jpg  img74.jpg  img92.jpg\n",
            "img10.jpg  img20.jpg  img34.jpg  img47.jpg  img63.jpg  img77.jpg  img93.jpg\n",
            "img11.jpg  img21.jpg  img35.jpg  img49.jpg  img64.jpg  img79.jpg  img94.jpg\n",
            "img12.jpg  img22.jpg  img36.jpg  img52.jpg  img65.jpg  img7.jpg   img95.jpg\n",
            "img13.jpg  img23.jpg  img37.jpg  img53.jpg  img66.jpg  img80.jpg  img96.jpg\n",
            "img14.jpg  img24.jpg  img38.jpg  img55.jpg  img67.jpg  img87.jpg  img98.jpg\n",
            "img15.jpg  img26.jpg  img40.jpg  img56.jpg  img68.jpg  img88.jpg  img99.jpg\n",
            "img16.jpg  img29.jpg  img41.jpg  img57.jpg  img70.jpg  img89.jpg  img9.jpg\n",
            "img17.jpg  img31.jpg  img42.jpg  img58.jpg  img71.jpg  img8.jpg\n",
            "img18.jpg  img32.jpg  img43.jpg  img59.jpg  img73.jpg  img91.jpg\n",
            "\n",
            "VALIDATION:\n",
            "\n",
            "\n",
            "list the files inside class1 directory:\n",
            "\n",
            "img10.jpg  img19.jpg  img29.jpg  img33.jpg  img39.jpg  img43.jpg  img6.jpg\n",
            "img11.jpg  img21.jpg  img2.jpg\t img35.jpg  img3.jpg   img45.jpg  img9.jpg\n",
            "img13.jpg  img27.jpg  img30.jpg  img36.jpg  img41.jpg  img47.jpg\n",
            "img16.jpg  img28.jpg  img31.jpg  img38.jpg  img42.jpg  img49.jpg\n",
            "\n",
            "list the files inside class2 directory:\n",
            "\n",
            "img12.jpg  img18.jpg  img25.jpg  img30.jpg  img35.jpg  img42.jpg  img5.jpg\n",
            "img13.jpg  img1.jpg   img27.jpg  img31.jpg  img36.jpg  img44.jpg  img7.jpg\n",
            "img14.jpg  img23.jpg  img28.jpg  img32.jpg  img38.jpg  img48.jpg  img9.jpg\n",
            "img16.jpg  img24.jpg  img29.jpg  img33.jpg  img3.jpg   img49.jpg\n",
            "\n",
            "list the files inside class3 directory:\n",
            "\n",
            "img0.jpg   img15.jpg  img21.jpg  img30.jpg  img37.jpg  img44.jpg  img8.jpg\n",
            "img10.jpg  img16.jpg  img23.jpg  img31.jpg  img38.jpg  img45.jpg  img9.jpg\n",
            "img12.jpg  img18.jpg  img25.jpg  img34.jpg  img3.jpg   img47.jpg\n",
            "img13.jpg  img19.jpg  img27.jpg  img35.jpg  img40.jpg  img48.jpg\n",
            "img14.jpg  img20.jpg  img29.jpg  img36.jpg  img41.jpg  img6.jpg\n"
          ],
          "name": "stdout"
        }
      ]
    },
    {
      "cell_type": "code",
      "metadata": {
        "id": "f7uIYAzofnFy",
        "outputId": "54f961f1-144d-4b24-9670-f011f2bb94e3",
        "colab": {
          "base_uri": "https://localhost:8080/"
        }
      },
      "source": [
        "from keras.preprocessing.image import ImageDataGenerator\n",
        "\n",
        "train_datagen  = ImageDataGenerator(rescale=1./255,\n",
        "                                 horizontal_flip=True,\n",
        "                                 validation_split=0.2)\n",
        "test_datagen = ImageDataGenerator(rescale=1./255)\n",
        "    \n",
        "train_generator = train_datagen.flow_from_directory(\n",
        "        '/content/train/',\n",
        "        target_size=(img_rows, img_cols),\n",
        "        batch_size=32,\n",
        "        class_mode='categorical',\n",
        "        subset='training')\n",
        "\n",
        "validation_generator = train_datagen.flow_from_directory(\n",
        "        '/content/train/',\n",
        "        target_size=(img_rows, img_cols),\n",
        "        batch_size=32,\n",
        "        class_mode='categorical',\n",
        "        subset='validation'\n",
        "        )\n",
        "test_generator = test_datagen.flow_from_directory(\n",
        "        '/content/validation/',\n",
        "        target_size=(img_rows, img_cols),\n",
        "        batch_size=32,\n",
        "        class_mode='categorical'\n",
        "        )"
      ],
      "execution_count": 7,
      "outputs": [
        {
          "output_type": "stream",
          "text": [
            "Found 137 images belonging to 3 classes.\n",
            "Found 33 images belonging to 3 classes.\n",
            "Found 85 images belonging to 3 classes.\n"
          ],
          "name": "stdout"
        }
      ]
    },
    {
      "cell_type": "code",
      "metadata": {
        "id": "UyY-rgQPfux6",
        "outputId": "0cf2e3f6-02f5-44df-ad07-ff5d10915fb7",
        "colab": {
          "base_uri": "https://localhost:8080/"
        }
      },
      "source": [
        "import tensorflow as tf\n",
        "model=tf.keras.models.Sequential()\n",
        "model.add(tf.keras.layers.Conv2D(512,(32,32),padding='valid',activation='relu',input_shape=(32,32,3)))\n",
        "model.add(tf.keras.layers.Flatten())\n",
        "model.add(tf.keras.layers.Dense(512,activation='relu'))\n",
        "model.add(tf.keras.layers.Dense(256,activation='relu'))\n",
        "model.add(tf.keras.layers.Dense(128,activation='relu'))\n",
        "model.add(tf.keras.layers.Dense(3,activation='softmax'))\n",
        "\n",
        "model.compile(loss='categorical_crossentropy',\n",
        "              optimizer='adam',\n",
        "              metrics=['accuracy'])\n",
        "model.summary()"
      ],
      "execution_count": 8,
      "outputs": [
        {
          "output_type": "stream",
          "text": [
            "Model: \"sequential\"\n",
            "_________________________________________________________________\n",
            "Layer (type)                 Output Shape              Param #   \n",
            "=================================================================\n",
            "conv2d (Conv2D)              (None, 1, 1, 512)         1573376   \n",
            "_________________________________________________________________\n",
            "flatten (Flatten)            (None, 512)               0         \n",
            "_________________________________________________________________\n",
            "dense (Dense)                (None, 512)               262656    \n",
            "_________________________________________________________________\n",
            "dense_1 (Dense)              (None, 256)               131328    \n",
            "_________________________________________________________________\n",
            "dense_2 (Dense)              (None, 128)               32896     \n",
            "_________________________________________________________________\n",
            "dense_3 (Dense)              (None, 3)                 387       \n",
            "=================================================================\n",
            "Total params: 2,000,643\n",
            "Trainable params: 2,000,643\n",
            "Non-trainable params: 0\n",
            "_________________________________________________________________\n"
          ],
          "name": "stdout"
        }
      ]
    },
    {
      "cell_type": "code",
      "metadata": {
        "id": "-5SUtkiPf17C",
        "outputId": "66343590-e85a-4dea-dde0-a4fb663c3ecb",
        "colab": {
          "base_uri": "https://localhost:8080/"
        }
      },
      "source": [
        "history=model.fit_generator(\n",
        "        train_generator,\n",
        "        epochs=30,\n",
        "        validation_data=validation_generator,\n",
        "        verbose=1)"
      ],
      "execution_count": 10,
      "outputs": [
        {
          "output_type": "stream",
          "text": [
            "Epoch 1/30\n",
            "5/5 [==============================] - 1s 167ms/step - loss: 1.0260 - accuracy: 0.4745 - val_loss: 1.1624 - val_accuracy: 0.3030\n",
            "Epoch 2/30\n",
            "5/5 [==============================] - 1s 139ms/step - loss: 1.0313 - accuracy: 0.4380 - val_loss: 1.0360 - val_accuracy: 0.3333\n",
            "Epoch 3/30\n",
            "5/5 [==============================] - 1s 148ms/step - loss: 0.9988 - accuracy: 0.4818 - val_loss: 1.0451 - val_accuracy: 0.4242\n",
            "Epoch 4/30\n",
            "5/5 [==============================] - 1s 168ms/step - loss: 0.9317 - accuracy: 0.5401 - val_loss: 1.1145 - val_accuracy: 0.4545\n",
            "Epoch 5/30\n",
            "5/5 [==============================] - 1s 151ms/step - loss: 0.9197 - accuracy: 0.5766 - val_loss: 1.1467 - val_accuracy: 0.5152\n",
            "Epoch 6/30\n",
            "5/5 [==============================] - 1s 151ms/step - loss: 0.8922 - accuracy: 0.6058 - val_loss: 1.0740 - val_accuracy: 0.5152\n",
            "Epoch 7/30\n",
            "5/5 [==============================] - 1s 138ms/step - loss: 0.8405 - accuracy: 0.5985 - val_loss: 1.0713 - val_accuracy: 0.5152\n",
            "Epoch 8/30\n",
            "5/5 [==============================] - 1s 138ms/step - loss: 0.7660 - accuracy: 0.7007 - val_loss: 1.1283 - val_accuracy: 0.4545\n",
            "Epoch 9/30\n",
            "5/5 [==============================] - 1s 140ms/step - loss: 0.7672 - accuracy: 0.6423 - val_loss: 1.1409 - val_accuracy: 0.3939\n",
            "Epoch 10/30\n",
            "5/5 [==============================] - 1s 144ms/step - loss: 0.7247 - accuracy: 0.6277 - val_loss: 1.2488 - val_accuracy: 0.4242\n",
            "Epoch 11/30\n",
            "5/5 [==============================] - 1s 143ms/step - loss: 0.7996 - accuracy: 0.6204 - val_loss: 1.1707 - val_accuracy: 0.4545\n",
            "Epoch 12/30\n",
            "5/5 [==============================] - 1s 170ms/step - loss: 0.8815 - accuracy: 0.5766 - val_loss: 1.4096 - val_accuracy: 0.2727\n",
            "Epoch 13/30\n",
            "5/5 [==============================] - 1s 146ms/step - loss: 0.7531 - accuracy: 0.6642 - val_loss: 1.2320 - val_accuracy: 0.3939\n",
            "Epoch 14/30\n",
            "5/5 [==============================] - 1s 145ms/step - loss: 0.7067 - accuracy: 0.7445 - val_loss: 1.1237 - val_accuracy: 0.4848\n",
            "Epoch 15/30\n",
            "5/5 [==============================] - 1s 144ms/step - loss: 0.6375 - accuracy: 0.7153 - val_loss: 1.0503 - val_accuracy: 0.4545\n",
            "Epoch 16/30\n",
            "5/5 [==============================] - 1s 150ms/step - loss: 0.4965 - accuracy: 0.7810 - val_loss: 1.2749 - val_accuracy: 0.3636\n",
            "Epoch 17/30\n",
            "5/5 [==============================] - 1s 143ms/step - loss: 0.6777 - accuracy: 0.7372 - val_loss: 1.3092 - val_accuracy: 0.3939\n",
            "Epoch 18/30\n",
            "5/5 [==============================] - 1s 168ms/step - loss: 0.5746 - accuracy: 0.7372 - val_loss: 1.3880 - val_accuracy: 0.5152\n",
            "Epoch 19/30\n",
            "5/5 [==============================] - 1s 151ms/step - loss: 0.8387 - accuracy: 0.6642 - val_loss: 1.6121 - val_accuracy: 0.4242\n",
            "Epoch 20/30\n",
            "5/5 [==============================] - 1s 140ms/step - loss: 0.7261 - accuracy: 0.7591 - val_loss: 1.1049 - val_accuracy: 0.4848\n",
            "Epoch 21/30\n",
            "5/5 [==============================] - 1s 150ms/step - loss: 0.5031 - accuracy: 0.7737 - val_loss: 1.1206 - val_accuracy: 0.4848\n",
            "Epoch 22/30\n",
            "5/5 [==============================] - 1s 149ms/step - loss: 0.3947 - accuracy: 0.8686 - val_loss: 1.2393 - val_accuracy: 0.3939\n",
            "Epoch 23/30\n",
            "5/5 [==============================] - 1s 171ms/step - loss: 0.3265 - accuracy: 0.8759 - val_loss: 1.5071 - val_accuracy: 0.4545\n",
            "Epoch 24/30\n",
            "5/5 [==============================] - 1s 145ms/step - loss: 0.3490 - accuracy: 0.8321 - val_loss: 1.5377 - val_accuracy: 0.4242\n",
            "Epoch 25/30\n",
            "5/5 [==============================] - 1s 142ms/step - loss: 0.2269 - accuracy: 0.9124 - val_loss: 1.7846 - val_accuracy: 0.5455\n",
            "Epoch 26/30\n",
            "5/5 [==============================] - 1s 163ms/step - loss: 0.2613 - accuracy: 0.8905 - val_loss: 1.7136 - val_accuracy: 0.3939\n",
            "Epoch 27/30\n",
            "5/5 [==============================] - 1s 171ms/step - loss: 0.1816 - accuracy: 0.9416 - val_loss: 2.6932 - val_accuracy: 0.4242\n",
            "Epoch 28/30\n",
            "5/5 [==============================] - 1s 173ms/step - loss: 0.5157 - accuracy: 0.7591 - val_loss: 1.9163 - val_accuracy: 0.4242\n",
            "Epoch 29/30\n",
            "5/5 [==============================] - 1s 143ms/step - loss: 0.4135 - accuracy: 0.8394 - val_loss: 2.3031 - val_accuracy: 0.3333\n",
            "Epoch 30/30\n",
            "5/5 [==============================] - 1s 146ms/step - loss: 0.9874 - accuracy: 0.5912 - val_loss: 1.5022 - val_accuracy: 0.4545\n"
          ],
          "name": "stdout"
        }
      ]
    },
    {
      "cell_type": "code",
      "metadata": {
        "id": "h-G_DHxHf2e5",
        "outputId": "3e400d64-3727-4e0e-e451-3e75e7772f77",
        "colab": {
          "base_uri": "https://localhost:8080/"
        }
      },
      "source": [
        "model.evaluate(test_generator)"
      ],
      "execution_count": 14,
      "outputs": [
        {
          "output_type": "stream",
          "text": [
            "3/3 [==============================] - 0s 71ms/step - loss: 1.4539 - accuracy: 0.4353\n"
          ],
          "name": "stdout"
        },
        {
          "output_type": "execute_result",
          "data": {
            "text/plain": [
              "[1.4539421796798706, 0.43529412150382996]"
            ]
          },
          "metadata": {
            "tags": []
          },
          "execution_count": 14
        }
      ]
    }
  ]
}