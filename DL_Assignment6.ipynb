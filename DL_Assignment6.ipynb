{
  "nbformat": 4,
  "nbformat_minor": 0,
  "metadata": {
    "colab": {
      "name": "DL_Assignment6.ipynb",
      "provenance": [],
      "toc_visible": true,
      "authorship_tag": "ABX9TyONHtyFQ2iB07rmRwEdntWF"
    },
    "kernelspec": {
      "name": "python3",
      "display_name": "Python 3"
    },
    "accelerator": "GPU"
  },
  "cells": [
    {
      "cell_type": "markdown",
      "metadata": {
        "id": "vfbgf2uzbfEQ",
        "colab_type": "text"
      },
      "source": [
        "## CIFAR100 - Hyperparameter Tuning"
      ]
    },
    {
      "cell_type": "code",
      "metadata": {
        "id": "qFflkiIXafz4",
        "colab_type": "code",
        "colab": {
          "base_uri": "https://localhost:8080/",
          "height": 126
        },
        "outputId": "c3903ac8-fc05-47bb-def9-9ee7fd774a78"
      },
      "source": [
        "import keras\n",
        "from keras import models\n",
        "from keras.layers import Dense\n",
        "from keras.utils import to_categorical\n",
        "\n",
        "(X_train, y_train), (X_test, y_test) = keras.datasets.cifar100.load_data()\n",
        "\n",
        "print(X_train.shape)\n",
        "print(y_train.shape)\n",
        "print(X_test.shape)\n",
        "print(y_test.shape)\n",
        "\n",
        "#normalize\n",
        "X_train = X_train.astype('float32')/255\n",
        "X_test = X_test.astype('float32')/255\n",
        "\n",
        "#categorical to one hot encoded\n",
        "y_test = to_categorical(y_test)\n",
        "y_train = to_categorical(y_train)"
      ],
      "execution_count": 1,
      "outputs": [
        {
          "output_type": "stream",
          "text": [
            "Downloading data from https://www.cs.toronto.edu/~kriz/cifar-100-python.tar.gz\n",
            "169009152/169001437 [==============================] - 6s 0us/step\n",
            "(50000, 32, 32, 3)\n",
            "(50000, 1)\n",
            "(10000, 32, 32, 3)\n",
            "(10000, 1)\n"
          ],
          "name": "stdout"
        }
      ]
    },
    {
      "cell_type": "code",
      "metadata": {
        "id": "Jt3KcpSVhkbx",
        "colab_type": "code",
        "colab": {
          "base_uri": "https://localhost:8080/",
          "height": 54
        },
        "outputId": "a358138f-4a73-4c53-d7d6-2e30550c02d7"
      },
      "source": [
        "print(y_test.shape)\n",
        "print(y_train.shape)"
      ],
      "execution_count": 2,
      "outputs": [
        {
          "output_type": "stream",
          "text": [
            "(10000, 100)\n",
            "(50000, 100)\n"
          ],
          "name": "stdout"
        }
      ]
    },
    {
      "cell_type": "code",
      "metadata": {
        "id": "jPy_Bq-yir0e",
        "colab_type": "code",
        "colab": {}
      },
      "source": [
        "import tensorflow as tf\n",
        "from keras.models import Sequential\n",
        "from keras.layers import Dense\n",
        "\n",
        "\n",
        "model=tf.keras.models.Sequential([\n",
        "tf.keras.layers.Conv2D(32,(3,3),activation='relu',input_shape=(32,32,3)),\n",
        "tf.keras.layers.MaxPooling2D((2, 2)),\n",
        "tf.keras.layers.Conv2D(64,(3,3),activation='relu'),\n",
        "tf.keras.layers.MaxPooling2D((2, 2)),\n",
        "tf.keras.layers.Conv2D(64,(3,3),activation='relu'),\n",
        "tf.keras.layers.Flatten(),\n",
        "tf.keras.layers.Dense(128,activation='relu'),\n",
        "tf.keras.layers.Dense(100,activation='softmax')\n",
        "])"
      ],
      "execution_count": 19,
      "outputs": []
    },
    {
      "cell_type": "code",
      "metadata": {
        "id": "5rozHWYcjLSE",
        "colab_type": "code",
        "colab": {
          "base_uri": "https://localhost:8080/",
          "height": 745
        },
        "outputId": "3ae204d1-1119-4526-bfe7-7f875935c88a"
      },
      "source": [
        "model.compile(optimizer='rmsprop',loss='categorical_crossentropy',metrics='accuracy')\n",
        "history=model.fit(X_train,y_train,epochs=20,validation_split=0.2)"
      ],
      "execution_count": 20,
      "outputs": [
        {
          "output_type": "stream",
          "text": [
            "Epoch 1/20\n",
            "1250/1250 [==============================] - 54s 44ms/step - loss: 3.9309 - accuracy: 0.1030 - val_loss: 3.4810 - val_accuracy: 0.1707\n",
            "Epoch 2/20\n",
            "1250/1250 [==============================] - 54s 43ms/step - loss: 3.2635 - accuracy: 0.2119 - val_loss: 3.1702 - val_accuracy: 0.2234\n",
            "Epoch 3/20\n",
            "1250/1250 [==============================] - 54s 43ms/step - loss: 2.9467 - accuracy: 0.2733 - val_loss: 2.9071 - val_accuracy: 0.2800\n",
            "Epoch 4/20\n",
            "1250/1250 [==============================] - 54s 43ms/step - loss: 2.7201 - accuracy: 0.3170 - val_loss: 2.8186 - val_accuracy: 0.3013\n",
            "Epoch 5/20\n",
            "1250/1250 [==============================] - 54s 43ms/step - loss: 2.5430 - accuracy: 0.3531 - val_loss: 2.7339 - val_accuracy: 0.3182\n",
            "Epoch 6/20\n",
            "1250/1250 [==============================] - 54s 43ms/step - loss: 2.3925 - accuracy: 0.3842 - val_loss: 2.8045 - val_accuracy: 0.3091\n",
            "Epoch 7/20\n",
            "1250/1250 [==============================] - 54s 43ms/step - loss: 2.2584 - accuracy: 0.4120 - val_loss: 2.7644 - val_accuracy: 0.3347\n",
            "Epoch 8/20\n",
            "1250/1250 [==============================] - 54s 43ms/step - loss: 2.1417 - accuracy: 0.4398 - val_loss: 2.7174 - val_accuracy: 0.3418\n",
            "Epoch 9/20\n",
            "1250/1250 [==============================] - 56s 45ms/step - loss: 2.0313 - accuracy: 0.4633 - val_loss: 2.7857 - val_accuracy: 0.3400\n",
            "Epoch 10/20\n",
            "1250/1250 [==============================] - 56s 45ms/step - loss: 1.9332 - accuracy: 0.4816 - val_loss: 2.7696 - val_accuracy: 0.3470\n",
            "Epoch 11/20\n",
            "1250/1250 [==============================] - 54s 44ms/step - loss: 1.8293 - accuracy: 0.5056 - val_loss: 2.8569 - val_accuracy: 0.3374\n",
            "Epoch 12/20\n",
            "1250/1250 [==============================] - 54s 43ms/step - loss: 1.7413 - accuracy: 0.5268 - val_loss: 2.9445 - val_accuracy: 0.3324\n",
            "Epoch 13/20\n",
            "1250/1250 [==============================] - 54s 43ms/step - loss: 1.6459 - accuracy: 0.5486 - val_loss: 3.0007 - val_accuracy: 0.3382\n",
            "Epoch 14/20\n",
            "1250/1250 [==============================] - 54s 43ms/step - loss: 1.5636 - accuracy: 0.5663 - val_loss: 3.1437 - val_accuracy: 0.3256\n",
            "Epoch 15/20\n",
            "1250/1250 [==============================] - 54s 43ms/step - loss: 1.4849 - accuracy: 0.5855 - val_loss: 3.2476 - val_accuracy: 0.3330\n",
            "Epoch 16/20\n",
            "1250/1250 [==============================] - 54s 43ms/step - loss: 1.4062 - accuracy: 0.6047 - val_loss: 3.3688 - val_accuracy: 0.3277\n",
            "Epoch 17/20\n",
            "1250/1250 [==============================] - 54s 43ms/step - loss: 1.3313 - accuracy: 0.6255 - val_loss: 3.3273 - val_accuracy: 0.3347\n",
            "Epoch 18/20\n",
            "1250/1250 [==============================] - 54s 43ms/step - loss: 1.2638 - accuracy: 0.6384 - val_loss: 3.7741 - val_accuracy: 0.3300\n",
            "Epoch 19/20\n",
            "1250/1250 [==============================] - 54s 43ms/step - loss: 1.2057 - accuracy: 0.6542 - val_loss: 4.0295 - val_accuracy: 0.3226\n",
            "Epoch 20/20\n",
            "1250/1250 [==============================] - 54s 43ms/step - loss: 1.1449 - accuracy: 0.6717 - val_loss: 3.8417 - val_accuracy: 0.3313\n"
          ],
          "name": "stdout"
        }
      ]
    },
    {
      "cell_type": "code",
      "metadata": {
        "id": "_F6uw9bejens",
        "colab_type": "code",
        "colab": {
          "base_uri": "https://localhost:8080/",
          "height": 301
        },
        "outputId": "3b3400f6-e046-4a79-adb0-96ada1fa5417"
      },
      "source": [
        "import matplotlib.pyplot as plt\n",
        "\n",
        "plt.plot(history.history['accuracy'], label='accuracy')\n",
        "plt.plot(history.history['val_accuracy'], label = 'val_accuracy')\n",
        "plt.xlabel('Epoch')\n",
        "plt.ylabel('Accuracy')\n",
        "plt.legend(loc='upper right')\n"
      ],
      "execution_count": 21,
      "outputs": [
        {
          "output_type": "stream",
          "text": [
            "313/313 - 4s - loss: 3.8394 - accuracy: 0.3226\n"
          ],
          "name": "stdout"
        },
        {
          "output_type": "display_data",
          "data": {
            "image/png": "[encoded data removed]",
            "text/plain": [
              "<Figure size 432x288 with 1 Axes>"
            ]
          },
          "metadata": {
            "tags": [],
            "needs_background": "light"
          }
        }
      ]
    },
    {
      "cell_type": "code",
      "metadata": {
        "id": "kTzz_mfWzCUT",
        "colab_type": "code",
        "colab": {
          "base_uri": "https://localhost:8080/",
          "height": 54
        },
        "outputId": "a0a5f8ac-717a-41ea-e1fa-567838e03b0b"
      },
      "source": [
        "model.evaluate(X_test,y_test, verbose=2)"
      ],
      "execution_count": 22,
      "outputs": [
        {
          "output_type": "stream",
          "text": [
            "313/313 - 4s - loss: 3.8394 - accuracy: 0.3226\n"
          ],
          "name": "stdout"
        },
        {
          "output_type": "execute_result",
          "data": {
            "text/plain": [
              "[3.839434862136841, 0.32260000705718994]"
            ]
          },
          "metadata": {
            "tags": []
          },
          "execution_count": 22
        }
      ]
    },
    {
      "cell_type": "markdown",
      "metadata": {
        "id": "_75MdfSWnaQP",
        "colab_type": "text"
      },
      "source": [
        "## Hypertuning the model"
      ]
    },
    {
      "cell_type": "code",
      "metadata": {
        "id": "TYAStlfxjzhy",
        "colab_type": "code",
        "colab": {}
      },
      "source": [
        "from keras.models import Sequential                         \n",
        "from keras.layers import Dense, Dropout, Activation, Flatten,Conv2D,MaxPooling2D\n",
        "from keras.utils import to_categorical\n",
        "from keras.callbacks import ModelCheckpoint, EarlyStopping\n",
        "from keras.optimizers import SGD, Adam, RMSprop\n",
        "\n",
        "model1 = Sequential()\n",
        "model1.add(Conv2D(32,(3,3),activation='relu',kernel_initializer='he_uniform',padding='same',input_shape=(32,32,3)))\n",
        "model1.add(Conv2D(32,(3,3),activation='relu',kernel_initializer='he_uniform',padding='same'))\n",
        "model1.add(MaxPooling2D((2,2)))\n",
        "model1.add(Dropout(0.1))\n",
        "model1.add(Conv2D(64,(3,3),activation='relu',kernel_initializer='he_uniform',padding='same'))\n",
        "model1.add(Conv2D(64,(3,3),activation='relu',kernel_initializer='he_uniform',padding='same'))\n",
        "model1.add(MaxPooling2D((2,2)))\n",
        "model1.add(Dropout(0.1))\n",
        "model1.add(Conv2D(128,(3,3),activation='relu',kernel_initializer='he_uniform',padding='same'))\n",
        "model1.add(Conv2D(128,(3,3),activation='relu',kernel_initializer='he_uniform',padding='same'))\n",
        "model1.add(MaxPooling2D((2,2)))\n",
        "model1.add(Dropout(0.1))\n",
        "model1.add(Flatten())\n",
        "model1.add(Dense(128,activation='relu'))\n",
        "model1.add(Dropout(0.1))\n",
        "model1.add(Dense(100,activation='softmax'))\n"
      ],
      "execution_count": 3,
      "outputs": []
    },
    {
      "cell_type": "code",
      "metadata": {
        "id": "gIHPPV3TpFIJ",
        "colab_type": "code",
        "colab": {
          "base_uri": "https://localhost:8080/",
          "height": 1000
        },
        "outputId": "6661132d-2b22-4e58-e45d-75f9e01b6895"
      },
      "source": [
        "model1.compile(optimizer='adam',loss='categorical_crossentropy',metrics=['accuracy'])\n",
        "history1=model1.fit(X_train,y_train,epochs=50,validation_split=0.2,verbose=1)"
      ],
      "execution_count": 4,
      "outputs": [
        {
          "output_type": "stream",
          "text": [
            "Epoch 1/50\n",
            "1250/1250 [==============================] - 7s 5ms/step - loss: 4.0992 - accuracy: 0.0682 - val_loss: 3.7133 - val_accuracy: 0.1216\n",
            "Epoch 2/50\n",
            "1250/1250 [==============================] - 6s 5ms/step - loss: 3.4521 - accuracy: 0.1696 - val_loss: 3.2164 - val_accuracy: 0.2085\n",
            "Epoch 3/50\n",
            "1250/1250 [==============================] - 6s 5ms/step - loss: 3.0723 - accuracy: 0.2396 - val_loss: 2.9449 - val_accuracy: 0.2657\n",
            "Epoch 4/50\n",
            "1250/1250 [==============================] - 7s 5ms/step - loss: 2.8000 - accuracy: 0.2913 - val_loss: 2.7338 - val_accuracy: 0.3179\n",
            "Epoch 5/50\n",
            "1250/1250 [==============================] - 7s 5ms/step - loss: 2.5959 - accuracy: 0.3301 - val_loss: 2.6394 - val_accuracy: 0.3324\n",
            "Epoch 6/50\n",
            "1250/1250 [==============================] - 7s 5ms/step - loss: 2.4196 - accuracy: 0.3681 - val_loss: 2.5386 - val_accuracy: 0.3547\n",
            "Epoch 7/50\n",
            "1250/1250 [==============================] - 7s 5ms/step - loss: 2.2759 - accuracy: 0.3970 - val_loss: 2.5142 - val_accuracy: 0.3633\n",
            "Epoch 8/50\n",
            "1250/1250 [==============================] - 7s 5ms/step - loss: 2.1534 - accuracy: 0.4241 - val_loss: 2.4432 - val_accuracy: 0.3757\n",
            "Epoch 9/50\n",
            "1250/1250 [==============================] - 7s 5ms/step - loss: 2.0470 - accuracy: 0.4460 - val_loss: 2.4447 - val_accuracy: 0.3862\n",
            "Epoch 10/50\n",
            "1250/1250 [==============================] - 7s 5ms/step - loss: 1.9446 - accuracy: 0.4670 - val_loss: 2.4882 - val_accuracy: 0.3795\n",
            "Epoch 11/50\n",
            "1250/1250 [==============================] - 7s 5ms/step - loss: 1.8708 - accuracy: 0.4816 - val_loss: 2.4529 - val_accuracy: 0.3921\n",
            "Epoch 12/50\n",
            "1250/1250 [==============================] - 6s 5ms/step - loss: 1.7929 - accuracy: 0.5037 - val_loss: 2.4987 - val_accuracy: 0.3891\n",
            "Epoch 13/50\n",
            "1250/1250 [==============================] - 6s 5ms/step - loss: 1.7339 - accuracy: 0.5170 - val_loss: 2.4559 - val_accuracy: 0.3936\n",
            "Epoch 14/50\n",
            "1250/1250 [==============================] - 6s 5ms/step - loss: 1.6614 - accuracy: 0.5330 - val_loss: 2.4709 - val_accuracy: 0.4020\n",
            "Epoch 15/50\n",
            "1250/1250 [==============================] - 7s 5ms/step - loss: 1.5988 - accuracy: 0.5458 - val_loss: 2.5415 - val_accuracy: 0.3951\n",
            "Epoch 16/50\n",
            "1250/1250 [==============================] - 7s 5ms/step - loss: 1.5714 - accuracy: 0.5556 - val_loss: 2.5466 - val_accuracy: 0.3984\n",
            "Epoch 17/50\n",
            "1250/1250 [==============================] - 6s 5ms/step - loss: 1.5220 - accuracy: 0.5688 - val_loss: 2.5541 - val_accuracy: 0.3943\n",
            "Epoch 18/50\n",
            "1250/1250 [==============================] - 7s 5ms/step - loss: 1.4731 - accuracy: 0.5788 - val_loss: 2.6518 - val_accuracy: 0.3928\n",
            "Epoch 19/50\n",
            "1250/1250 [==============================] - 6s 5ms/step - loss: 1.4451 - accuracy: 0.5828 - val_loss: 2.6497 - val_accuracy: 0.3983\n",
            "Epoch 20/50\n",
            "1250/1250 [==============================] - 6s 5ms/step - loss: 1.4080 - accuracy: 0.5959 - val_loss: 2.6766 - val_accuracy: 0.3948\n",
            "Epoch 21/50\n",
            "1250/1250 [==============================] - 7s 5ms/step - loss: 1.3798 - accuracy: 0.6030 - val_loss: 2.7154 - val_accuracy: 0.4016\n",
            "Epoch 22/50\n",
            "1250/1250 [==============================] - 7s 5ms/step - loss: 1.3482 - accuracy: 0.6089 - val_loss: 2.7704 - val_accuracy: 0.3923\n",
            "Epoch 23/50\n",
            "1250/1250 [==============================] - 6s 5ms/step - loss: 1.3143 - accuracy: 0.6198 - val_loss: 2.7945 - val_accuracy: 0.3968\n",
            "Epoch 24/50\n",
            "1250/1250 [==============================] - 7s 5ms/step - loss: 1.3079 - accuracy: 0.6200 - val_loss: 2.8234 - val_accuracy: 0.3900\n",
            "Epoch 25/50\n",
            "1250/1250 [==============================] - 7s 5ms/step - loss: 1.2818 - accuracy: 0.6241 - val_loss: 2.8385 - val_accuracy: 0.3978\n",
            "Epoch 26/50\n",
            "1250/1250 [==============================] - 6s 5ms/step - loss: 1.2552 - accuracy: 0.6319 - val_loss: 2.7739 - val_accuracy: 0.3947\n",
            "Epoch 27/50\n",
            "1250/1250 [==============================] - 7s 5ms/step - loss: 1.2349 - accuracy: 0.6383 - val_loss: 2.8421 - val_accuracy: 0.3924\n",
            "Epoch 28/50\n",
            "1250/1250 [==============================] - 6s 5ms/step - loss: 1.2218 - accuracy: 0.6409 - val_loss: 2.8299 - val_accuracy: 0.3922\n",
            "Epoch 29/50\n",
            "1250/1250 [==============================] - 7s 5ms/step - loss: 1.2020 - accuracy: 0.6492 - val_loss: 2.8127 - val_accuracy: 0.3916\n",
            "Epoch 30/50\n",
            "1250/1250 [==============================] - 7s 5ms/step - loss: 1.1736 - accuracy: 0.6569 - val_loss: 2.8713 - val_accuracy: 0.3942\n",
            "Epoch 31/50\n",
            "1250/1250 [==============================] - 7s 5ms/step - loss: 1.1720 - accuracy: 0.6532 - val_loss: 2.8828 - val_accuracy: 0.3910\n",
            "Epoch 32/50\n",
            "1250/1250 [==============================] - 6s 5ms/step - loss: 1.1628 - accuracy: 0.6572 - val_loss: 2.9653 - val_accuracy: 0.3895\n",
            "Epoch 33/50\n",
            "1250/1250 [==============================] - 7s 5ms/step - loss: 1.1237 - accuracy: 0.6678 - val_loss: 2.9983 - val_accuracy: 0.3912\n",
            "Epoch 34/50\n",
            "1250/1250 [==============================] - 7s 5ms/step - loss: 1.1269 - accuracy: 0.6668 - val_loss: 2.9991 - val_accuracy: 0.3901\n",
            "Epoch 35/50\n",
            "1250/1250 [==============================] - 6s 5ms/step - loss: 1.1129 - accuracy: 0.6734 - val_loss: 2.9853 - val_accuracy: 0.3931\n",
            "Epoch 36/50\n",
            "1250/1250 [==============================] - 7s 5ms/step - loss: 1.1061 - accuracy: 0.6750 - val_loss: 2.9685 - val_accuracy: 0.3898\n",
            "Epoch 37/50\n",
            "1250/1250 [==============================] - 6s 5ms/step - loss: 1.1024 - accuracy: 0.6750 - val_loss: 2.9800 - val_accuracy: 0.3920\n",
            "Epoch 38/50\n",
            "1250/1250 [==============================] - 6s 5ms/step - loss: 1.0778 - accuracy: 0.6794 - val_loss: 3.1306 - val_accuracy: 0.3843\n",
            "Epoch 39/50\n",
            "1250/1250 [==============================] - 6s 5ms/step - loss: 1.0634 - accuracy: 0.6851 - val_loss: 3.1377 - val_accuracy: 0.3832\n",
            "Epoch 40/50\n",
            "1250/1250 [==============================] - 6s 5ms/step - loss: 1.0614 - accuracy: 0.6858 - val_loss: 3.0909 - val_accuracy: 0.3872\n",
            "Epoch 41/50\n",
            "1250/1250 [==============================] - 7s 5ms/step - loss: 1.0496 - accuracy: 0.6887 - val_loss: 3.2307 - val_accuracy: 0.3831\n",
            "Epoch 42/50\n",
            "1250/1250 [==============================] - 7s 5ms/step - loss: 1.0398 - accuracy: 0.6926 - val_loss: 3.1306 - val_accuracy: 0.3971\n",
            "Epoch 43/50\n",
            "1250/1250 [==============================] - 6s 5ms/step - loss: 1.0329 - accuracy: 0.6944 - val_loss: 3.1583 - val_accuracy: 0.3921\n",
            "Epoch 44/50\n",
            "1250/1250 [==============================] - 7s 5ms/step - loss: 1.0314 - accuracy: 0.6957 - val_loss: 3.1023 - val_accuracy: 0.3891\n",
            "Epoch 45/50\n",
            "1250/1250 [==============================] - 7s 5ms/step - loss: 1.0188 - accuracy: 0.7001 - val_loss: 3.2218 - val_accuracy: 0.3937\n",
            "Epoch 46/50\n",
            "1250/1250 [==============================] - 7s 5ms/step - loss: 1.0124 - accuracy: 0.7015 - val_loss: 3.2440 - val_accuracy: 0.3930\n",
            "Epoch 47/50\n",
            "1250/1250 [==============================] - 7s 5ms/step - loss: 0.9978 - accuracy: 0.7041 - val_loss: 3.2049 - val_accuracy: 0.4011\n",
            "Epoch 48/50\n",
            "1250/1250 [==============================] - 6s 5ms/step - loss: 0.9913 - accuracy: 0.7053 - val_loss: 3.2396 - val_accuracy: 0.3881\n",
            "Epoch 49/50\n",
            "1250/1250 [==============================] - 6s 5ms/step - loss: 0.9943 - accuracy: 0.7084 - val_loss: 3.2632 - val_accuracy: 0.3874\n",
            "Epoch 50/50\n",
            "1250/1250 [==============================] - 6s 5ms/step - loss: 0.9837 - accuracy: 0.7079 - val_loss: 3.2319 - val_accuracy: 0.3895\n"
          ],
          "name": "stdout"
        }
      ]
    },
    {
      "cell_type": "code",
      "metadata": {
        "id": "nZJfBQ_CpT8T",
        "colab_type": "code",
        "colab": {
          "base_uri": "https://localhost:8080/",
          "height": 54
        },
        "outputId": "53e5ce59-7da4-4d38-b020-5003e9382a6f"
      },
      "source": [
        "model1.evaluate(X_test,y_test,batch_size=64)"
      ],
      "execution_count": 5,
      "outputs": [
        {
          "output_type": "stream",
          "text": [
            "157/157 [==============================] - 1s 4ms/step - loss: 3.1632 - accuracy: 0.4020\n"
          ],
          "name": "stdout"
        },
        {
          "output_type": "execute_result",
          "data": {
            "text/plain": [
              "[3.163231134414673, 0.4020000100135803]"
            ]
          },
          "metadata": {
            "tags": []
          },
          "execution_count": 5
        }
      ]
    }
  ]
}